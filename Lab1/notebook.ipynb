{
 "cells": [
  {
   "cell_type": "markdown",
   "metadata": {},
   "source": [
    "<p align=\"center\"> <img style=\" margin: 30px 15px 15px 15px;\" src=\"https://pngimage.net/wp-content/uploads/2018/06/logo-iteso-png-5.png\" width=\"350\" height=\"150\" /> \n",
    "    \n",
    "    \n",
    "## <H2 align=\"center\"> <font color='white'> **MAF1731B**: Microstructure and Trading Systems </H2>\n",
    "\n",
    "### <H3 align=\"center\"> <font color='white'> **Laboratory 1**: Active vs Passive Investments </H3>\n",
    "\n",
    " <H5 align=\"center\"> <em> Professor: Villalobos Ramos Omar Antonio <em>\n",
    "\n",
    " <strong> <H5 align=\"right\"> Student: Márquez Delgado Esteban <strong>\n",
    "\n",
    " *Registry*: if700637\n",
    "\n",
    " <center> <font color= #555555> <font size = 4> September 2022 </a> | <font color= #555555> <font size = 4> Repository: <a href='https://github.com/EstebanMqz/Microstructures'>Link</a></font>"
   ]
  },
  {
   "cell_type": "markdown",
   "metadata": {},
   "source": [
    "<hr style=\"border:0.02in solid gray\"> </hr>"
   ]
  },
  {
   "cell_type": "markdown",
   "metadata": {},
   "source": [
    "<center> <font color= #555555> <font size = 6> Laboratory 1 </font> <br> <br> <font color= #555555> <font size = 5> Active vs Passive Investing  </font>"
   ]
  },
  {
   "cell_type": "markdown",
   "metadata": {},
   "source": [
    "<hr style=\"border:0.02in solid gray\"> </hr>"
   ]
  },
  {
   "cell_type": "markdown",
   "metadata": {},
   "source": [
    "### <font color= #555555> <font size = 4> Abstract </font>"
   ]
  },
  {
   "cell_type": "markdown",
   "metadata": {},
   "source": [
    "This document was prepared by Esteban Márquez Delgado as a delivery for Microstructure and Trading Systems - MAF1731B class during the Autumn 2022 course at ITESO for the Bachelor of Financial Engineering."
   ]
  },
  {
   "cell_type": "markdown",
   "metadata": {},
   "source": [
    "### <font color= lightblue> <font size = 4> 1. Introduction: </font>\n",
    "\n",
    "<font color= gray>\n",
    "This document was prepared by Esteban Márquez Delgado as a delivery for Microstructure and Trading Systems - MAF1731B class during the Autumn 2022 course at ITESO for the Bachelor of Financial Engineering. \n",
    "\n",
    "In the present work conceptual definitions of concern will be covered and evidence will be provided to answer the following question:\n",
    "- *¿What's the difference between Active and Passive investment with given data?*\n",
    "\n",
    "Data will be downloaded with YahooFinancials library according to provided csvs of NAFTRAC ETF holdings during periods of 2020/01/31 to 2022/07/29.\n"
   ]
  },
  {
   "cell_type": "markdown",
   "metadata": {},
   "source": [
    "<font color= lightblue> <font size = 4> 2. Concepts: </font>\n",
    "\n",
    "<font color= gray>\n",
    "\n",
    "As of May 14, 2009 the name of the ETF covered in this paper changed from NAFTRAC to *iShares NAFTRAC*.\n",
    "+ Inception Date: 2002/04/30\n",
    "+ Expense Ratio: .25%\n",
    "+ Benchmark: S&P/BMV IPC\n",
    "+ Holdings: 35\n",
    "\n",
    "The benchmark is comprised of the largest stock issuers in the Mexican market with the purpose of being a reliable indicator of the market and the [ETF iShares NAFTRAC](https://www.blackrock.com/mx/intermediarios/productos/251895/ishares-naftrac-fund) from BlackRock serves as a financial instrument to invest in the index [S&P/BMV IPC](https://www.bmv.com.mx/es/Grupo_BMV/Tipos_de_indices).\n",
    "\n",
    " **Passive investment** : Invest in NAFTRAC (ETF) with cash restrictions limited to ETF tickers present in period of portfolio conformation for the selected fund (*except: KOFL.MX, KOFUBL.MX, USD.MXN, BSMXB.MX, NMKA.MX*).\n",
    "\n",
    "There are several known advantages from investing in an ETF, including the following:\n",
    "+ Accesible Portfolio diversification.\n",
    "+ Fast access to markets worlwide.\n",
    "+ Reduced risks.\n",
    "+ Easy Risk Management.\n",
    "+ Reduced expenses.\n",
    " \n",
    " **Active investing** : Actively rebalance an EMV portfolio and a constantly restructured portfolio, limited to ETF tickers present in all periods for the selected fund according to data in monthly csvs (NAFTRAC_20200131.csv to NAFTRAC_20220729.csv (31) ).\n",
    "\n",
    "The advantages from actively managing a portfolio, include the following:\n",
    "+ Risk management.\n",
    "+ Higher risks and returns (+/-).\n",
    "+ Asset selection."
   ]
  },
  {
   "cell_type": "markdown",
   "metadata": {},
   "source": [
    "### <font color= lightblue> <font size = 4> 3. Objective: </font>\n",
    "\n",
    "<font color= gray>\n",
    "\n",
    " The main objective is to evaluate the following metrics:\n",
    " + Capital\n",
    " + Returns\n",
    " + Accumulated Returns\n",
    " + Cash \n",
    " + Sharpe Ratio\n",
    " + Titles (Owned / Bought / Sold)"
   ]
  },
  {
   "cell_type": "code",
   "execution_count": 1,
   "metadata": {},
   "outputs": [],
   "source": [
    "## Libraries\n",
    "# Analysis and data management\n",
    "import pandas as pd\n",
    "import pandas_datareader as pdr\n",
    "import numpy as np\n",
    "import datetime\n",
    "from tkinter.ttk import Style\n",
    "from tkinter import Y\n",
    "import plotly.graph_objects as go #plotly\n",
    "from yahoofinancials import YahooFinancials # Yfinance \n",
    "from scipy.optimize import minimize # Optimización \n",
    "from collections import Counter #Counter\n",
    "import re\n",
    "import io \n",
    "import glob\n",
    "import os\n",
    "import matplotlib.pyplot as plt # Visualization\n",
    "%matplotlib inline"
   ]
  },
  {
   "cell_type": "markdown",
   "metadata": {},
   "source": [
    "Weights in Passive Portfolio consolidated in 2020-01-31 from 1st csv."
   ]
  },
  {
   "cell_type": "code",
   "execution_count": 77,
   "metadata": {},
   "outputs": [],
   "source": [
    "t= pd.read_csv('NAFTRAC_20200131.csv')[['Ticker','Peso (%)']].dropna().drop(10).drop(34).drop(32) #Read tickers and weights of first csv (port. consolidation) (drop KOFUBL, MXN and BSMXB)\n",
    "W=t['Peso (%)']/100 #1-W.sum() Cash"
   ]
  },
  {
   "cell_type": "code",
   "execution_count": 79,
   "metadata": {},
   "outputs": [
    {
     "data": {
      "application/vnd.plotly.v1+json": {
       "config": {
        "plotlyServerURL": "https://plot.ly"
       },
       "data": [
        {
         "alignmentgroup": "True",
         "bingroup": "x",
         "histfunc": "sum",
         "hovertemplate": "color=0.137<br>x=%{x}<br>sum of y=%{y}<extra></extra>",
         "legendgroup": "0.137",
         "marker": {
          "color": "#636efa",
          "pattern": {
           "shape": ""
          }
         },
         "name": "0.137",
         "offsetgroup": "0.137",
         "orientation": "v",
         "showlegend": true,
         "type": "histogram",
         "x": [
          "AMXL"
         ],
         "xaxis": "x",
         "y": [
          0.13699999999999998
         ],
         "yaxis": "y"
        },
        {
         "alignmentgroup": "True",
         "bingroup": "x",
         "histfunc": "sum",
         "hovertemplate": "color=0.1185<br>x=%{x}<br>sum of y=%{y}<extra></extra>",
         "legendgroup": "0.1185",
         "marker": {
          "color": "#EF553B",
          "pattern": {
           "shape": ""
          }
         },
         "name": "0.1185",
         "offsetgroup": "0.1185",
         "orientation": "v",
         "showlegend": true,
         "type": "histogram",
         "x": [
          "FEMSAUBD"
         ],
         "xaxis": "x",
         "y": [
          0.1185
         ],
         "yaxis": "y"
        },
        {
         "alignmentgroup": "True",
         "bingroup": "x",
         "histfunc": "sum",
         "hovertemplate": "color=0.1064<br>x=%{x}<br>sum of y=%{y}<extra></extra>",
         "legendgroup": "0.1064",
         "marker": {
          "color": "#00cc96",
          "pattern": {
           "shape": ""
          }
         },
         "name": "0.1064",
         "offsetgroup": "0.1064",
         "orientation": "v",
         "showlegend": true,
         "type": "histogram",
         "x": [
          "GFNORTEO"
         ],
         "xaxis": "x",
         "y": [
          0.10640000000000001
         ],
         "yaxis": "y"
        },
        {
         "alignmentgroup": "True",
         "bingroup": "x",
         "histfunc": "sum",
         "hovertemplate": "color=0.1039<br>x=%{x}<br>sum of y=%{y}<extra></extra>",
         "legendgroup": "0.1039",
         "marker": {
          "color": "#ab63fa",
          "pattern": {
           "shape": ""
          }
         },
         "name": "0.1039",
         "offsetgroup": "0.1039",
         "orientation": "v",
         "showlegend": true,
         "type": "histogram",
         "x": [
          "WALMEX*"
         ],
         "xaxis": "x",
         "y": [
          0.1039
         ],
         "yaxis": "y"
        },
        {
         "alignmentgroup": "True",
         "bingroup": "x",
         "histfunc": "sum",
         "hovertemplate": "color=0.0603<br>x=%{x}<br>sum of y=%{y}<extra></extra>",
         "legendgroup": "0.0603",
         "marker": {
          "color": "#FFA15A",
          "pattern": {
           "shape": ""
          }
         },
         "name": "0.0603",
         "offsetgroup": "0.0603",
         "orientation": "v",
         "showlegend": true,
         "type": "histogram",
         "x": [
          "GMEXICOB"
         ],
         "xaxis": "x",
         "y": [
          0.0603
         ],
         "yaxis": "y"
        },
        {
         "alignmentgroup": "True",
         "bingroup": "x",
         "histfunc": "sum",
         "hovertemplate": "color=0.043<br>x=%{x}<br>sum of y=%{y}<extra></extra>",
         "legendgroup": "0.043",
         "marker": {
          "color": "#19d3f3",
          "pattern": {
           "shape": ""
          }
         },
         "name": "0.043",
         "offsetgroup": "0.043",
         "orientation": "v",
         "showlegend": true,
         "type": "histogram",
         "x": [
          "CEMEXCPO"
         ],
         "xaxis": "x",
         "y": [
          0.043
         ],
         "yaxis": "y"
        },
        {
         "alignmentgroup": "True",
         "bingroup": "x",
         "histfunc": "sum",
         "hovertemplate": "color=0.0396<br>x=%{x}<br>sum of y=%{y}<extra></extra>",
         "legendgroup": "0.0396",
         "marker": {
          "color": "#FF6692",
          "pattern": {
           "shape": ""
          }
         },
         "name": "0.0396",
         "offsetgroup": "0.0396",
         "orientation": "v",
         "showlegend": true,
         "type": "histogram",
         "x": [
          "TLEVISACPO"
         ],
         "xaxis": "x",
         "y": [
          0.039599999999999996
         ],
         "yaxis": "y"
        },
        {
         "alignmentgroup": "True",
         "bingroup": "x",
         "histfunc": "sum",
         "hovertemplate": "color=0.0329<br>x=%{x}<br>sum of y=%{y}<extra></extra>",
         "legendgroup": "0.0329",
         "marker": {
          "color": "#B6E880",
          "pattern": {
           "shape": ""
          }
         },
         "name": "0.0329",
         "offsetgroup": "0.0329",
         "orientation": "v",
         "showlegend": true,
         "type": "histogram",
         "x": [
          "GAPB"
         ],
         "xaxis": "x",
         "y": [
          0.0329
         ],
         "yaxis": "y"
        },
        {
         "alignmentgroup": "True",
         "bingroup": "x",
         "histfunc": "sum",
         "hovertemplate": "color=0.0302<br>x=%{x}<br>sum of y=%{y}<extra></extra>",
         "legendgroup": "0.0302",
         "marker": {
          "color": "#FF97FF",
          "pattern": {
           "shape": ""
          }
         },
         "name": "0.0302",
         "offsetgroup": "0.0302",
         "orientation": "v",
         "showlegend": true,
         "type": "histogram",
         "x": [
          "ELEKTRA*"
         ],
         "xaxis": "x",
         "y": [
          0.0302
         ],
         "yaxis": "y"
        },
        {
         "alignmentgroup": "True",
         "bingroup": "x",
         "histfunc": "sum",
         "hovertemplate": "color=0.0275<br>x=%{x}<br>sum of y=%{y}<extra></extra>",
         "legendgroup": "0.0275",
         "marker": {
          "color": "#FECB52",
          "pattern": {
           "shape": ""
          }
         },
         "name": "0.0275",
         "offsetgroup": "0.0275",
         "orientation": "v",
         "showlegend": true,
         "type": "histogram",
         "x": [
          "ASURB"
         ],
         "xaxis": "x",
         "y": [
          0.0275
         ],
         "yaxis": "y"
        },
        {
         "alignmentgroup": "True",
         "bingroup": "x",
         "histfunc": "sum",
         "hovertemplate": "color=0.0206<br>x=%{x}<br>sum of y=%{y}<extra></extra>",
         "legendgroup": "0.0206",
         "marker": {
          "color": "#636efa",
          "pattern": {
           "shape": ""
          }
         },
         "name": "0.0206",
         "offsetgroup": "0.0206",
         "orientation": "v",
         "showlegend": true,
         "type": "histogram",
         "x": [
          "KIMBERA"
         ],
         "xaxis": "x",
         "y": [
          0.0206
         ],
         "yaxis": "y"
        },
        {
         "alignmentgroup": "True",
         "bingroup": "x",
         "histfunc": "sum",
         "hovertemplate": "color=0.0187<br>x=%{x}<br>sum of y=%{y}<extra></extra>",
         "legendgroup": "0.0187",
         "marker": {
          "color": "#EF553B",
          "pattern": {
           "shape": ""
          }
         },
         "name": "0.0187",
         "offsetgroup": "0.0187",
         "orientation": "v",
         "showlegend": true,
         "type": "histogram",
         "x": [
          "BIMBOA"
         ],
         "xaxis": "x",
         "y": [
          0.0187
         ],
         "yaxis": "y"
        },
        {
         "alignmentgroup": "True",
         "bingroup": "x",
         "histfunc": "sum",
         "hovertemplate": "color=0.0185<br>x=%{x}<br>sum of y=%{y}<extra></extra>",
         "legendgroup": "0.0185",
         "marker": {
          "color": "#00cc96",
          "pattern": {
           "shape": ""
          }
         },
         "name": "0.0185",
         "offsetgroup": "0.0185",
         "orientation": "v",
         "showlegend": true,
         "type": "histogram",
         "x": [
          "OMAB"
         ],
         "xaxis": "x",
         "y": [
          0.018500000000000003
         ],
         "yaxis": "y"
        },
        {
         "alignmentgroup": "True",
         "bingroup": "x",
         "histfunc": "sum",
         "hovertemplate": "color=0.0177<br>x=%{x}<br>sum of y=%{y}<extra></extra>",
         "legendgroup": "0.0177",
         "marker": {
          "color": "#ab63fa",
          "pattern": {
           "shape": ""
          }
         },
         "name": "0.0177",
         "offsetgroup": "0.0177",
         "orientation": "v",
         "showlegend": true,
         "type": "histogram",
         "x": [
          "AC*"
         ],
         "xaxis": "x",
         "y": [
          0.0177
         ],
         "yaxis": "y"
        },
        {
         "alignmentgroup": "True",
         "bingroup": "x",
         "histfunc": "sum",
         "hovertemplate": "color=0.0176<br>x=%{x}<br>sum of y=%{y}<extra></extra>",
         "legendgroup": "0.0176",
         "marker": {
          "color": "#FFA15A",
          "pattern": {
           "shape": ""
          }
         },
         "name": "0.0176",
         "offsetgroup": "0.0176",
         "orientation": "v",
         "showlegend": true,
         "type": "histogram",
         "x": [
          "GFINBURO"
         ],
         "xaxis": "x",
         "y": [
          0.0176
         ],
         "yaxis": "y"
        },
        {
         "alignmentgroup": "True",
         "bingroup": "x",
         "histfunc": "sum",
         "hovertemplate": "color=0.0173<br>x=%{x}<br>sum of y=%{y}<extra></extra>",
         "legendgroup": "0.0173",
         "marker": {
          "color": "#19d3f3",
          "pattern": {
           "shape": ""
          }
         },
         "name": "0.0173",
         "offsetgroup": "0.0173",
         "orientation": "v",
         "showlegend": true,
         "type": "histogram",
         "x": [
          "IENOVA*"
         ],
         "xaxis": "x",
         "y": [
          0.0173
         ],
         "yaxis": "y"
        },
        {
         "alignmentgroup": "True",
         "bingroup": "x",
         "histfunc": "sum",
         "hovertemplate": "color=0.0168<br>x=%{x}<br>sum of y=%{y}<extra></extra>",
         "legendgroup": "0.0168",
         "marker": {
          "color": "#FF6692",
          "pattern": {
           "shape": ""
          }
         },
         "name": "0.0168",
         "offsetgroup": "0.0168",
         "orientation": "v",
         "showlegend": true,
         "type": "histogram",
         "x": [
          "PINFRA*",
          "GRUMAB"
         ],
         "xaxis": "x",
         "y": [
          0.0168,
          0.0168
         ],
         "yaxis": "y"
        },
        {
         "alignmentgroup": "True",
         "bingroup": "x",
         "histfunc": "sum",
         "hovertemplate": "color=0.0167<br>x=%{x}<br>sum of y=%{y}<extra></extra>",
         "legendgroup": "0.0167",
         "marker": {
          "color": "#B6E880",
          "pattern": {
           "shape": ""
          }
         },
         "name": "0.0167",
         "offsetgroup": "0.0167",
         "orientation": "v",
         "showlegend": true,
         "type": "histogram",
         "x": [
          "ORBIA*"
         ],
         "xaxis": "x",
         "y": [
          0.0167
         ],
         "yaxis": "y"
        },
        {
         "alignmentgroup": "True",
         "bingroup": "x",
         "histfunc": "sum",
         "hovertemplate": "color=0.0151<br>x=%{x}<br>sum of y=%{y}<extra></extra>",
         "legendgroup": "0.0151",
         "marker": {
          "color": "#FF97FF",
          "pattern": {
           "shape": ""
          }
         },
         "name": "0.0151",
         "offsetgroup": "0.0151",
         "orientation": "v",
         "showlegend": true,
         "type": "histogram",
         "x": [
          "ALFAA"
         ],
         "xaxis": "x",
         "y": [
          0.0151
         ],
         "yaxis": "y"
        },
        {
         "alignmentgroup": "True",
         "bingroup": "x",
         "histfunc": "sum",
         "hovertemplate": "color=0.0116<br>x=%{x}<br>sum of y=%{y}<extra></extra>",
         "legendgroup": "0.0116",
         "marker": {
          "color": "#FECB52",
          "pattern": {
           "shape": ""
          }
         },
         "name": "0.0116",
         "offsetgroup": "0.0116",
         "orientation": "v",
         "showlegend": true,
         "type": "histogram",
         "x": [
          "GCARSOA1"
         ],
         "xaxis": "x",
         "y": [
          0.0116
         ],
         "yaxis": "y"
        },
        {
         "alignmentgroup": "True",
         "bingroup": "x",
         "histfunc": "sum",
         "hovertemplate": "color=0.0091<br>x=%{x}<br>sum of y=%{y}<extra></extra>",
         "legendgroup": "0.0091",
         "marker": {
          "color": "#636efa",
          "pattern": {
           "shape": ""
          }
         },
         "name": "0.0091",
         "offsetgroup": "0.0091",
         "orientation": "v",
         "showlegend": true,
         "type": "histogram",
         "x": [
          "PE&OLES*"
         ],
         "xaxis": "x",
         "y": [
          0.0091
         ],
         "yaxis": "y"
        },
        {
         "alignmentgroup": "True",
         "bingroup": "x",
         "histfunc": "sum",
         "hovertemplate": "color=0.0086<br>x=%{x}<br>sum of y=%{y}<extra></extra>",
         "legendgroup": "0.0086",
         "marker": {
          "color": "#EF553B",
          "pattern": {
           "shape": ""
          }
         },
         "name": "0.0086",
         "offsetgroup": "0.0086",
         "orientation": "v",
         "showlegend": true,
         "type": "histogram",
         "x": [
          "ALSEA*"
         ],
         "xaxis": "x",
         "y": [
          0.0086
         ],
         "yaxis": "y"
        },
        {
         "alignmentgroup": "True",
         "bingroup": "x",
         "histfunc": "sum",
         "hovertemplate": "color=0.0083<br>x=%{x}<br>sum of y=%{y}<extra></extra>",
         "legendgroup": "0.0083",
         "marker": {
          "color": "#00cc96",
          "pattern": {
           "shape": ""
          }
         },
         "name": "0.0083",
         "offsetgroup": "0.0083",
         "orientation": "v",
         "showlegend": true,
         "type": "histogram",
         "x": [
          "BBAJIOO"
         ],
         "xaxis": "x",
         "y": [
          0.0083
         ],
         "yaxis": "y"
        },
        {
         "alignmentgroup": "True",
         "bingroup": "x",
         "histfunc": "sum",
         "hovertemplate": "color=0.0081<br>x=%{x}<br>sum of y=%{y}<extra></extra>",
         "legendgroup": "0.0081",
         "marker": {
          "color": "#ab63fa",
          "pattern": {
           "shape": ""
          }
         },
         "name": "0.0081",
         "offsetgroup": "0.0081",
         "orientation": "v",
         "showlegend": true,
         "type": "histogram",
         "x": [
          "GENTERA*"
         ],
         "xaxis": "x",
         "y": [
          0.008100000000000001
         ],
         "yaxis": "y"
        },
        {
         "alignmentgroup": "True",
         "bingroup": "x",
         "histfunc": "sum",
         "hovertemplate": "color=0.0079<br>x=%{x}<br>sum of y=%{y}<extra></extra>",
         "legendgroup": "0.0079",
         "marker": {
          "color": "#FFA15A",
          "pattern": {
           "shape": ""
          }
         },
         "name": "0.0079",
         "offsetgroup": "0.0079",
         "orientation": "v",
         "showlegend": true,
         "type": "histogram",
         "x": [
          "MEGACPO"
         ],
         "xaxis": "x",
         "y": [
          0.0079
         ],
         "yaxis": "y"
        },
        {
         "alignmentgroup": "True",
         "bingroup": "x",
         "histfunc": "sum",
         "hovertemplate": "color=0.0074<br>x=%{x}<br>sum of y=%{y}<extra></extra>",
         "legendgroup": "0.0074",
         "marker": {
          "color": "#19d3f3",
          "pattern": {
           "shape": ""
          }
         },
         "name": "0.0074",
         "offsetgroup": "0.0074",
         "orientation": "v",
         "showlegend": true,
         "type": "histogram",
         "x": [
          "LIVEPOLC.1"
         ],
         "xaxis": "x",
         "y": [
          0.0074
         ],
         "yaxis": "y"
        },
        {
         "alignmentgroup": "True",
         "bingroup": "x",
         "histfunc": "sum",
         "hovertemplate": "color=0.0072<br>x=%{x}<br>sum of y=%{y}<extra></extra>",
         "legendgroup": "0.0072",
         "marker": {
          "color": "#FF6692",
          "pattern": {
           "shape": ""
          }
         },
         "name": "0.0072",
         "offsetgroup": "0.0072",
         "orientation": "v",
         "showlegend": true,
         "type": "histogram",
         "x": [
          "BOLSAA"
         ],
         "xaxis": "x",
         "y": [
          0.0072
         ],
         "yaxis": "y"
        },
        {
         "alignmentgroup": "True",
         "bingroup": "x",
         "histfunc": "sum",
         "hovertemplate": "color=0.0067<br>x=%{x}<br>sum of y=%{y}<extra></extra>",
         "legendgroup": "0.0067",
         "marker": {
          "color": "#B6E880",
          "pattern": {
           "shape": ""
          }
         },
         "name": "0.0067",
         "offsetgroup": "0.0067",
         "orientation": "v",
         "showlegend": true,
         "type": "histogram",
         "x": [
          "CUERVO*"
         ],
         "xaxis": "x",
         "y": [
          0.0067
         ],
         "yaxis": "y"
        },
        {
         "alignmentgroup": "True",
         "bingroup": "x",
         "histfunc": "sum",
         "hovertemplate": "color=0.0062<br>x=%{x}<br>sum of y=%{y}<extra></extra>",
         "legendgroup": "0.0062",
         "marker": {
          "color": "#FF97FF",
          "pattern": {
           "shape": ""
          }
         },
         "name": "0.0062",
         "offsetgroup": "0.0062",
         "orientation": "v",
         "showlegend": true,
         "type": "histogram",
         "x": [
          "LABB"
         ],
         "xaxis": "x",
         "y": [
          0.0062
         ],
         "yaxis": "y"
        },
        {
         "alignmentgroup": "True",
         "bingroup": "x",
         "histfunc": "sum",
         "hovertemplate": "color=0.0059<br>x=%{x}<br>sum of y=%{y}<extra></extra>",
         "legendgroup": "0.0059",
         "marker": {
          "color": "#FECB52",
          "pattern": {
           "shape": ""
          }
         },
         "name": "0.0059",
         "offsetgroup": "0.0059",
         "orientation": "v",
         "showlegend": true,
         "type": "histogram",
         "x": [
          "GCC*"
         ],
         "xaxis": "x",
         "y": [
          0.0059
         ],
         "yaxis": "y"
        },
        {
         "alignmentgroup": "True",
         "bingroup": "x",
         "histfunc": "sum",
         "hovertemplate": "color=0.0044<br>x=%{x}<br>sum of y=%{y}<extra></extra>",
         "legendgroup": "0.0044",
         "marker": {
          "color": "#636efa",
          "pattern": {
           "shape": ""
          }
         },
         "name": "0.0044",
         "offsetgroup": "0.0044",
         "orientation": "v",
         "showlegend": true,
         "type": "histogram",
         "x": [
          "RA"
         ],
         "xaxis": "x",
         "y": [
          0.0044
         ],
         "yaxis": "y"
        },
        {
         "alignmentgroup": "True",
         "bingroup": "x",
         "histfunc": "sum",
         "hovertemplate": "color=0.0025<br>x=%{x}<br>sum of y=%{y}<extra></extra>",
         "legendgroup": "0.0025",
         "marker": {
          "color": "#EF553B",
          "pattern": {
           "shape": ""
          }
         },
         "name": "0.0025",
         "offsetgroup": "0.0025",
         "orientation": "v",
         "showlegend": true,
         "type": "histogram",
         "x": [
          "ALPEKA"
         ],
         "xaxis": "x",
         "y": [
          0.0025
         ],
         "yaxis": "y"
        }
       ],
       "layout": {
        "barmode": "relative",
        "legend": {
         "title": {
          "text": "color"
         },
         "tracegroupgap": 0
        },
        "template": {
         "data": {
          "bar": [
           {
            "error_x": {
             "color": "#2a3f5f"
            },
            "error_y": {
             "color": "#2a3f5f"
            },
            "marker": {
             "line": {
              "color": "#E5ECF6",
              "width": 0.5
             },
             "pattern": {
              "fillmode": "overlay",
              "size": 10,
              "solidity": 0.2
             }
            },
            "type": "bar"
           }
          ],
          "barpolar": [
           {
            "marker": {
             "line": {
              "color": "#E5ECF6",
              "width": 0.5
             },
             "pattern": {
              "fillmode": "overlay",
              "size": 10,
              "solidity": 0.2
             }
            },
            "type": "barpolar"
           }
          ],
          "carpet": [
           {
            "aaxis": {
             "endlinecolor": "#2a3f5f",
             "gridcolor": "white",
             "linecolor": "white",
             "minorgridcolor": "white",
             "startlinecolor": "#2a3f5f"
            },
            "baxis": {
             "endlinecolor": "#2a3f5f",
             "gridcolor": "white",
             "linecolor": "white",
             "minorgridcolor": "white",
             "startlinecolor": "#2a3f5f"
            },
            "type": "carpet"
           }
          ],
          "choropleth": [
           {
            "colorbar": {
             "outlinewidth": 0,
             "ticks": ""
            },
            "type": "choropleth"
           }
          ],
          "contour": [
           {
            "colorbar": {
             "outlinewidth": 0,
             "ticks": ""
            },
            "colorscale": [
             [
              0,
              "#0d0887"
             ],
             [
              0.1111111111111111,
              "#46039f"
             ],
             [
              0.2222222222222222,
              "#7201a8"
             ],
             [
              0.3333333333333333,
              "#9c179e"
             ],
             [
              0.4444444444444444,
              "#bd3786"
             ],
             [
              0.5555555555555556,
              "#d8576b"
             ],
             [
              0.6666666666666666,
              "#ed7953"
             ],
             [
              0.7777777777777778,
              "#fb9f3a"
             ],
             [
              0.8888888888888888,
              "#fdca26"
             ],
             [
              1,
              "#f0f921"
             ]
            ],
            "type": "contour"
           }
          ],
          "contourcarpet": [
           {
            "colorbar": {
             "outlinewidth": 0,
             "ticks": ""
            },
            "type": "contourcarpet"
           }
          ],
          "heatmap": [
           {
            "colorbar": {
             "outlinewidth": 0,
             "ticks": ""
            },
            "colorscale": [
             [
              0,
              "#0d0887"
             ],
             [
              0.1111111111111111,
              "#46039f"
             ],
             [
              0.2222222222222222,
              "#7201a8"
             ],
             [
              0.3333333333333333,
              "#9c179e"
             ],
             [
              0.4444444444444444,
              "#bd3786"
             ],
             [
              0.5555555555555556,
              "#d8576b"
             ],
             [
              0.6666666666666666,
              "#ed7953"
             ],
             [
              0.7777777777777778,
              "#fb9f3a"
             ],
             [
              0.8888888888888888,
              "#fdca26"
             ],
             [
              1,
              "#f0f921"
             ]
            ],
            "type": "heatmap"
           }
          ],
          "heatmapgl": [
           {
            "colorbar": {
             "outlinewidth": 0,
             "ticks": ""
            },
            "colorscale": [
             [
              0,
              "#0d0887"
             ],
             [
              0.1111111111111111,
              "#46039f"
             ],
             [
              0.2222222222222222,
              "#7201a8"
             ],
             [
              0.3333333333333333,
              "#9c179e"
             ],
             [
              0.4444444444444444,
              "#bd3786"
             ],
             [
              0.5555555555555556,
              "#d8576b"
             ],
             [
              0.6666666666666666,
              "#ed7953"
             ],
             [
              0.7777777777777778,
              "#fb9f3a"
             ],
             [
              0.8888888888888888,
              "#fdca26"
             ],
             [
              1,
              "#f0f921"
             ]
            ],
            "type": "heatmapgl"
           }
          ],
          "histogram": [
           {
            "marker": {
             "pattern": {
              "fillmode": "overlay",
              "size": 10,
              "solidity": 0.2
             }
            },
            "type": "histogram"
           }
          ],
          "histogram2d": [
           {
            "colorbar": {
             "outlinewidth": 0,
             "ticks": ""
            },
            "colorscale": [
             [
              0,
              "#0d0887"
             ],
             [
              0.1111111111111111,
              "#46039f"
             ],
             [
              0.2222222222222222,
              "#7201a8"
             ],
             [
              0.3333333333333333,
              "#9c179e"
             ],
             [
              0.4444444444444444,
              "#bd3786"
             ],
             [
              0.5555555555555556,
              "#d8576b"
             ],
             [
              0.6666666666666666,
              "#ed7953"
             ],
             [
              0.7777777777777778,
              "#fb9f3a"
             ],
             [
              0.8888888888888888,
              "#fdca26"
             ],
             [
              1,
              "#f0f921"
             ]
            ],
            "type": "histogram2d"
           }
          ],
          "histogram2dcontour": [
           {
            "colorbar": {
             "outlinewidth": 0,
             "ticks": ""
            },
            "colorscale": [
             [
              0,
              "#0d0887"
             ],
             [
              0.1111111111111111,
              "#46039f"
             ],
             [
              0.2222222222222222,
              "#7201a8"
             ],
             [
              0.3333333333333333,
              "#9c179e"
             ],
             [
              0.4444444444444444,
              "#bd3786"
             ],
             [
              0.5555555555555556,
              "#d8576b"
             ],
             [
              0.6666666666666666,
              "#ed7953"
             ],
             [
              0.7777777777777778,
              "#fb9f3a"
             ],
             [
              0.8888888888888888,
              "#fdca26"
             ],
             [
              1,
              "#f0f921"
             ]
            ],
            "type": "histogram2dcontour"
           }
          ],
          "mesh3d": [
           {
            "colorbar": {
             "outlinewidth": 0,
             "ticks": ""
            },
            "type": "mesh3d"
           }
          ],
          "parcoords": [
           {
            "line": {
             "colorbar": {
              "outlinewidth": 0,
              "ticks": ""
             }
            },
            "type": "parcoords"
           }
          ],
          "pie": [
           {
            "automargin": true,
            "type": "pie"
           }
          ],
          "scatter": [
           {
            "marker": {
             "colorbar": {
              "outlinewidth": 0,
              "ticks": ""
             }
            },
            "type": "scatter"
           }
          ],
          "scatter3d": [
           {
            "line": {
             "colorbar": {
              "outlinewidth": 0,
              "ticks": ""
             }
            },
            "marker": {
             "colorbar": {
              "outlinewidth": 0,
              "ticks": ""
             }
            },
            "type": "scatter3d"
           }
          ],
          "scattercarpet": [
           {
            "marker": {
             "colorbar": {
              "outlinewidth": 0,
              "ticks": ""
             }
            },
            "type": "scattercarpet"
           }
          ],
          "scattergeo": [
           {
            "marker": {
             "colorbar": {
              "outlinewidth": 0,
              "ticks": ""
             }
            },
            "type": "scattergeo"
           }
          ],
          "scattergl": [
           {
            "marker": {
             "colorbar": {
              "outlinewidth": 0,
              "ticks": ""
             }
            },
            "type": "scattergl"
           }
          ],
          "scattermapbox": [
           {
            "marker": {
             "colorbar": {
              "outlinewidth": 0,
              "ticks": ""
             }
            },
            "type": "scattermapbox"
           }
          ],
          "scatterpolar": [
           {
            "marker": {
             "colorbar": {
              "outlinewidth": 0,
              "ticks": ""
             }
            },
            "type": "scatterpolar"
           }
          ],
          "scatterpolargl": [
           {
            "marker": {
             "colorbar": {
              "outlinewidth": 0,
              "ticks": ""
             }
            },
            "type": "scatterpolargl"
           }
          ],
          "scatterternary": [
           {
            "marker": {
             "colorbar": {
              "outlinewidth": 0,
              "ticks": ""
             }
            },
            "type": "scatterternary"
           }
          ],
          "surface": [
           {
            "colorbar": {
             "outlinewidth": 0,
             "ticks": ""
            },
            "colorscale": [
             [
              0,
              "#0d0887"
             ],
             [
              0.1111111111111111,
              "#46039f"
             ],
             [
              0.2222222222222222,
              "#7201a8"
             ],
             [
              0.3333333333333333,
              "#9c179e"
             ],
             [
              0.4444444444444444,
              "#bd3786"
             ],
             [
              0.5555555555555556,
              "#d8576b"
             ],
             [
              0.6666666666666666,
              "#ed7953"
             ],
             [
              0.7777777777777778,
              "#fb9f3a"
             ],
             [
              0.8888888888888888,
              "#fdca26"
             ],
             [
              1,
              "#f0f921"
             ]
            ],
            "type": "surface"
           }
          ],
          "table": [
           {
            "cells": {
             "fill": {
              "color": "#EBF0F8"
             },
             "line": {
              "color": "white"
             }
            },
            "header": {
             "fill": {
              "color": "#C8D4E3"
             },
             "line": {
              "color": "white"
             }
            },
            "type": "table"
           }
          ]
         },
         "layout": {
          "annotationdefaults": {
           "arrowcolor": "#2a3f5f",
           "arrowhead": 0,
           "arrowwidth": 1
          },
          "autotypenumbers": "strict",
          "coloraxis": {
           "colorbar": {
            "outlinewidth": 0,
            "ticks": ""
           }
          },
          "colorscale": {
           "diverging": [
            [
             0,
             "#8e0152"
            ],
            [
             0.1,
             "#c51b7d"
            ],
            [
             0.2,
             "#de77ae"
            ],
            [
             0.3,
             "#f1b6da"
            ],
            [
             0.4,
             "#fde0ef"
            ],
            [
             0.5,
             "#f7f7f7"
            ],
            [
             0.6,
             "#e6f5d0"
            ],
            [
             0.7,
             "#b8e186"
            ],
            [
             0.8,
             "#7fbc41"
            ],
            [
             0.9,
             "#4d9221"
            ],
            [
             1,
             "#276419"
            ]
           ],
           "sequential": [
            [
             0,
             "#0d0887"
            ],
            [
             0.1111111111111111,
             "#46039f"
            ],
            [
             0.2222222222222222,
             "#7201a8"
            ],
            [
             0.3333333333333333,
             "#9c179e"
            ],
            [
             0.4444444444444444,
             "#bd3786"
            ],
            [
             0.5555555555555556,
             "#d8576b"
            ],
            [
             0.6666666666666666,
             "#ed7953"
            ],
            [
             0.7777777777777778,
             "#fb9f3a"
            ],
            [
             0.8888888888888888,
             "#fdca26"
            ],
            [
             1,
             "#f0f921"
            ]
           ],
           "sequentialminus": [
            [
             0,
             "#0d0887"
            ],
            [
             0.1111111111111111,
             "#46039f"
            ],
            [
             0.2222222222222222,
             "#7201a8"
            ],
            [
             0.3333333333333333,
             "#9c179e"
            ],
            [
             0.4444444444444444,
             "#bd3786"
            ],
            [
             0.5555555555555556,
             "#d8576b"
            ],
            [
             0.6666666666666666,
             "#ed7953"
            ],
            [
             0.7777777777777778,
             "#fb9f3a"
            ],
            [
             0.8888888888888888,
             "#fdca26"
            ],
            [
             1,
             "#f0f921"
            ]
           ]
          },
          "colorway": [
           "#636efa",
           "#EF553B",
           "#00cc96",
           "#ab63fa",
           "#FFA15A",
           "#19d3f3",
           "#FF6692",
           "#B6E880",
           "#FF97FF",
           "#FECB52"
          ],
          "font": {
           "color": "#2a3f5f"
          },
          "geo": {
           "bgcolor": "white",
           "lakecolor": "white",
           "landcolor": "#E5ECF6",
           "showlakes": true,
           "showland": true,
           "subunitcolor": "white"
          },
          "hoverlabel": {
           "align": "left"
          },
          "hovermode": "closest",
          "mapbox": {
           "style": "light"
          },
          "paper_bgcolor": "white",
          "plot_bgcolor": "#E5ECF6",
          "polar": {
           "angularaxis": {
            "gridcolor": "white",
            "linecolor": "white",
            "ticks": ""
           },
           "bgcolor": "#E5ECF6",
           "radialaxis": {
            "gridcolor": "white",
            "linecolor": "white",
            "ticks": ""
           }
          },
          "scene": {
           "xaxis": {
            "backgroundcolor": "#E5ECF6",
            "gridcolor": "white",
            "gridwidth": 2,
            "linecolor": "white",
            "showbackground": true,
            "ticks": "",
            "zerolinecolor": "white"
           },
           "yaxis": {
            "backgroundcolor": "#E5ECF6",
            "gridcolor": "white",
            "gridwidth": 2,
            "linecolor": "white",
            "showbackground": true,
            "ticks": "",
            "zerolinecolor": "white"
           },
           "zaxis": {
            "backgroundcolor": "#E5ECF6",
            "gridcolor": "white",
            "gridwidth": 2,
            "linecolor": "white",
            "showbackground": true,
            "ticks": "",
            "zerolinecolor": "white"
           }
          },
          "shapedefaults": {
           "line": {
            "color": "#2a3f5f"
           }
          },
          "ternary": {
           "aaxis": {
            "gridcolor": "white",
            "linecolor": "white",
            "ticks": ""
           },
           "baxis": {
            "gridcolor": "white",
            "linecolor": "white",
            "ticks": ""
           },
           "bgcolor": "#E5ECF6",
           "caxis": {
            "gridcolor": "white",
            "linecolor": "white",
            "ticks": ""
           }
          },
          "title": {
           "x": 0.05
          },
          "xaxis": {
           "automargin": true,
           "gridcolor": "white",
           "linecolor": "white",
           "ticks": "",
           "title": {
            "standoff": 15
           },
           "zerolinecolor": "white",
           "zerolinewidth": 2
          },
          "yaxis": {
           "automargin": true,
           "gridcolor": "white",
           "linecolor": "white",
           "ticks": "",
           "title": {
            "standoff": 15
           },
           "zerolinecolor": "white",
           "zerolinewidth": 2
          }
         }
        },
        "title": {
         "text": "Weights of Passive Portfolio (consolidation)"
        },
        "xaxis": {
         "anchor": "y",
         "categoryorder": "total descending",
         "domain": [
          0,
          1
         ],
         "title": {
          "text": "Tickers"
         }
        },
        "yaxis": {
         "anchor": "x",
         "domain": [
          0,
          1
         ],
         "tickfont": {
          "size": 9
         },
         "title": {
          "text": "W"
         }
        }
       }
      }
     },
     "metadata": {},
     "output_type": "display_data"
    }
   ],
   "source": [
    "fig = px.histogram([['Ticker','Peso (%)']], x=t['Ticker'], y= t['Peso (%)']/100, title=\"Weights of Passive Portfolio (consolidation)\", color=(t['Peso (%)']/100).round(4))\n",
    "fig.update_xaxes(categoryorder = 'total descending')\n",
    "fig.update_layout( yaxis = dict( tickfont = dict(size=9)), xaxis_title=\"Tickers\", yaxis_title=\"W\")\n",
    "fig.show()"
   ]
  },
  {
   "cell_type": "code",
   "execution_count": 6,
   "metadata": {},
   "outputs": [
    {
     "name": "stdout",
     "output_type": "stream",
     "text": [
      "Download data and show summary of Passive Investment Portfolio from period 2020-01-31 to 2022-07-29\n"
     ]
    }
   ],
   "source": [
    "start = datetime.datetime(2020,1,31) #Portfolio conformation.\n",
    "end = datetime.datetime(2022,7,29) #End of investment.\n",
    "print('Download data and show summary of Passive Investment Portfolio from period', start.strftime(\"%Y-%m-%d\"), 'to', end.strftime(\"%Y-%m-%d\"))"
   ]
  },
  {
   "cell_type": "code",
   "execution_count": 7,
   "metadata": {},
   "outputs": [
    {
     "data": {
      "text/html": [
       "<div>\n",
       "<style scoped>\n",
       "    .dataframe tbody tr th:only-of-type {\n",
       "        vertical-align: middle;\n",
       "    }\n",
       "\n",
       "    .dataframe tbody tr th {\n",
       "        vertical-align: top;\n",
       "    }\n",
       "\n",
       "    .dataframe thead th {\n",
       "        text-align: right;\n",
       "    }\n",
       "</style>\n",
       "<table border=\"1\" class=\"dataframe\">\n",
       "  <thead>\n",
       "    <tr style=\"text-align: right;\">\n",
       "      <th></th>\n",
       "      <th>S_0</th>\n",
       "      <th>S_t</th>\n",
       "      <th>Rounded_Titles</th>\n",
       "      <th>Initial_Investment</th>\n",
       "      <th>Return</th>\n",
       "      <th>Volatility</th>\n",
       "    </tr>\n",
       "    <tr>\n",
       "      <th>Symbols</th>\n",
       "      <th></th>\n",
       "      <th></th>\n",
       "      <th></th>\n",
       "      <th></th>\n",
       "      <th></th>\n",
       "      <th></th>\n",
       "    </tr>\n",
       "  </thead>\n",
       "  <tbody>\n",
       "    <tr>\n",
       "      <th>AMXL.MX</th>\n",
       "      <td>14.346072</td>\n",
       "      <td>18.940828</td>\n",
       "      <td>9550.0</td>\n",
       "      <td>137004.989481</td>\n",
       "      <td>0.148598</td>\n",
       "      <td>0.273509</td>\n",
       "    </tr>\n",
       "    <tr>\n",
       "      <th>FEMSAUBD.MX</th>\n",
       "      <td>160.300339</td>\n",
       "      <td>127.029999</td>\n",
       "      <td>739.0</td>\n",
       "      <td>118461.950333</td>\n",
       "      <td>-0.052876</td>\n",
       "      <td>0.284635</td>\n",
       "    </tr>\n",
       "    <tr>\n",
       "      <th>GFNORTEO.MX</th>\n",
       "      <td>105.844643</td>\n",
       "      <td>115.989998</td>\n",
       "      <td>1005.0</td>\n",
       "      <td>106373.865852</td>\n",
       "      <td>0.126355</td>\n",
       "      <td>0.423030</td>\n",
       "    </tr>\n",
       "    <tr>\n",
       "      <th>WALMEX.MX</th>\n",
       "      <td>53.542744</td>\n",
       "      <td>73.839996</td>\n",
       "      <td>1941.0</td>\n",
       "      <td>103926.465488</td>\n",
       "      <td>0.167182</td>\n",
       "      <td>0.278108</td>\n",
       "    </tr>\n",
       "    <tr>\n",
       "      <th>GMEXICOB.MX</th>\n",
       "      <td>42.370079</td>\n",
       "      <td>79.567329</td>\n",
       "      <td>1423.0</td>\n",
       "      <td>60292.622475</td>\n",
       "      <td>0.332085</td>\n",
       "      <td>0.400770</td>\n",
       "    </tr>\n",
       "    <tr>\n",
       "      <th>CEMEXCPO.MX</th>\n",
       "      <td>7.595000</td>\n",
       "      <td>8.230000</td>\n",
       "      <td>5662.0</td>\n",
       "      <td>43002.888812</td>\n",
       "      <td>0.141860</td>\n",
       "      <td>0.470635</td>\n",
       "    </tr>\n",
       "    <tr>\n",
       "      <th>TLEVISACPO.MX</th>\n",
       "      <td>41.303806</td>\n",
       "      <td>32.139999</td>\n",
       "      <td>959.0</td>\n",
       "      <td>39610.350246</td>\n",
       "      <td>0.012703</td>\n",
       "      <td>0.479625</td>\n",
       "    </tr>\n",
       "    <tr>\n",
       "      <th>GAPB.MX</th>\n",
       "      <td>216.240250</td>\n",
       "      <td>276.399994</td>\n",
       "      <td>152.0</td>\n",
       "      <td>32868.517944</td>\n",
       "      <td>0.188951</td>\n",
       "      <td>0.423914</td>\n",
       "    </tr>\n",
       "    <tr>\n",
       "      <th>ELEKTRA.MX</th>\n",
       "      <td>1366.929810</td>\n",
       "      <td>1197.390015</td>\n",
       "      <td>22.0</td>\n",
       "      <td>30072.455811</td>\n",
       "      <td>-0.040061</td>\n",
       "      <td>0.161066</td>\n",
       "    </tr>\n",
       "    <tr>\n",
       "      <th>ASURB.MX</th>\n",
       "      <td>339.708923</td>\n",
       "      <td>384.000000</td>\n",
       "      <td>81.0</td>\n",
       "      <td>27516.422791</td>\n",
       "      <td>0.114147</td>\n",
       "      <td>0.361635</td>\n",
       "    </tr>\n",
       "    <tr>\n",
       "      <th>KIMBERA.MX</th>\n",
       "      <td>34.365948</td>\n",
       "      <td>30.020000</td>\n",
       "      <td>599.0</td>\n",
       "      <td>20585.202686</td>\n",
       "      <td>-0.006264</td>\n",
       "      <td>0.310031</td>\n",
       "    </tr>\n",
       "    <tr>\n",
       "      <th>BIMBOA.MX</th>\n",
       "      <td>32.136032</td>\n",
       "      <td>72.040001</td>\n",
       "      <td>582.0</td>\n",
       "      <td>18703.170685</td>\n",
       "      <td>0.398483</td>\n",
       "      <td>0.389774</td>\n",
       "    </tr>\n",
       "    <tr>\n",
       "      <th>OMAB.MX</th>\n",
       "      <td>122.502434</td>\n",
       "      <td>124.169998</td>\n",
       "      <td>151.0</td>\n",
       "      <td>18497.867500</td>\n",
       "      <td>0.092444</td>\n",
       "      <td>0.417460</td>\n",
       "    </tr>\n",
       "    <tr>\n",
       "      <th>AC.MX</th>\n",
       "      <td>94.615448</td>\n",
       "      <td>141.210007</td>\n",
       "      <td>187.0</td>\n",
       "      <td>17693.088776</td>\n",
       "      <td>0.188716</td>\n",
       "      <td>0.239398</td>\n",
       "    </tr>\n",
       "    <tr>\n",
       "      <th>GFINBURO.MX</th>\n",
       "      <td>21.424999</td>\n",
       "      <td>37.540001</td>\n",
       "      <td>821.0</td>\n",
       "      <td>17589.924374</td>\n",
       "      <td>0.303244</td>\n",
       "      <td>0.396569</td>\n",
       "    </tr>\n",
       "    <tr>\n",
       "      <th>IENOVA.MX</th>\n",
       "      <td>88.714996</td>\n",
       "      <td>73.699997</td>\n",
       "      <td>195.0</td>\n",
       "      <td>17299.424286</td>\n",
       "      <td>-0.034846</td>\n",
       "      <td>0.279192</td>\n",
       "    </tr>\n",
       "    <tr>\n",
       "      <th>PINFRA.MX</th>\n",
       "      <td>191.513794</td>\n",
       "      <td>147.039993</td>\n",
       "      <td>88.0</td>\n",
       "      <td>16853.213867</td>\n",
       "      <td>-0.063771</td>\n",
       "      <td>0.289097</td>\n",
       "    </tr>\n",
       "    <tr>\n",
       "      <th>GRUMAB.MX</th>\n",
       "      <td>186.317093</td>\n",
       "      <td>253.490005</td>\n",
       "      <td>90.0</td>\n",
       "      <td>16768.538361</td>\n",
       "      <td>0.165898</td>\n",
       "      <td>0.292974</td>\n",
       "    </tr>\n",
       "    <tr>\n",
       "      <th>ORBIA.MX</th>\n",
       "      <td>40.384418</td>\n",
       "      <td>44.959999</td>\n",
       "      <td>414.0</td>\n",
       "      <td>16719.149254</td>\n",
       "      <td>0.112671</td>\n",
       "      <td>0.372697</td>\n",
       "    </tr>\n",
       "    <tr>\n",
       "      <th>ALFAA.MX</th>\n",
       "      <td>14.103789</td>\n",
       "      <td>14.010000</td>\n",
       "      <td>1071.0</td>\n",
       "      <td>15105.158372</td>\n",
       "      <td>0.108199</td>\n",
       "      <td>0.471404</td>\n",
       "    </tr>\n",
       "    <tr>\n",
       "      <th>GCARSOA1.MX</th>\n",
       "      <td>66.101830</td>\n",
       "      <td>79.510002</td>\n",
       "      <td>175.0</td>\n",
       "      <td>11567.820168</td>\n",
       "      <td>0.165908</td>\n",
       "      <td>0.429436</td>\n",
       "    </tr>\n",
       "    <tr>\n",
       "      <th>PE&amp;OLES.MX</th>\n",
       "      <td>197.247894</td>\n",
       "      <td>205.080002</td>\n",
       "      <td>46.0</td>\n",
       "      <td>9073.403137</td>\n",
       "      <td>0.125442</td>\n",
       "      <td>0.471795</td>\n",
       "    </tr>\n",
       "    <tr>\n",
       "      <th>ALSEA.MX</th>\n",
       "      <td>45.825001</td>\n",
       "      <td>39.660000</td>\n",
       "      <td>188.0</td>\n",
       "      <td>8615.100143</td>\n",
       "      <td>0.066328</td>\n",
       "      <td>0.485726</td>\n",
       "    </tr>\n",
       "    <tr>\n",
       "      <th>BBAJIOO.MX</th>\n",
       "      <td>25.000608</td>\n",
       "      <td>44.099068</td>\n",
       "      <td>332.0</td>\n",
       "      <td>8300.202003</td>\n",
       "      <td>0.300099</td>\n",
       "      <td>0.381890</td>\n",
       "    </tr>\n",
       "    <tr>\n",
       "      <th>GENTERA.MX</th>\n",
       "      <td>20.633625</td>\n",
       "      <td>16.570000</td>\n",
       "      <td>393.0</td>\n",
       "      <td>8109.014637</td>\n",
       "      <td>0.047251</td>\n",
       "      <td>0.522969</td>\n",
       "    </tr>\n",
       "    <tr>\n",
       "      <th>MEGACPO.MX</th>\n",
       "      <td>63.203468</td>\n",
       "      <td>47.410000</td>\n",
       "      <td>125.0</td>\n",
       "      <td>7900.433540</td>\n",
       "      <td>-0.073475</td>\n",
       "      <td>0.289133</td>\n",
       "    </tr>\n",
       "    <tr>\n",
       "      <th>LIVEPOLC-1.MX</th>\n",
       "      <td>92.458420</td>\n",
       "      <td>91.480003</td>\n",
       "      <td>80.0</td>\n",
       "      <td>7396.673584</td>\n",
       "      <td>0.061739</td>\n",
       "      <td>0.363073</td>\n",
       "    </tr>\n",
       "    <tr>\n",
       "      <th>BOLSAA.MX</th>\n",
       "      <td>37.607738</td>\n",
       "      <td>37.939999</td>\n",
       "      <td>191.0</td>\n",
       "      <td>7183.078053</td>\n",
       "      <td>0.067481</td>\n",
       "      <td>0.360801</td>\n",
       "    </tr>\n",
       "    <tr>\n",
       "      <th>CUERVO.MX</th>\n",
       "      <td>33.807873</td>\n",
       "      <td>45.719669</td>\n",
       "      <td>198.0</td>\n",
       "      <td>6693.958809</td>\n",
       "      <td>0.168834</td>\n",
       "      <td>0.311243</td>\n",
       "    </tr>\n",
       "    <tr>\n",
       "      <th>LABB.MX</th>\n",
       "      <td>20.180395</td>\n",
       "      <td>18.950001</td>\n",
       "      <td>307.0</td>\n",
       "      <td>6195.381304</td>\n",
       "      <td>0.039878</td>\n",
       "      <td>0.360957</td>\n",
       "    </tr>\n",
       "    <tr>\n",
       "      <th>GCC.MX</th>\n",
       "      <td>95.766129</td>\n",
       "      <td>125.989998</td>\n",
       "      <td>62.0</td>\n",
       "      <td>5937.499969</td>\n",
       "      <td>0.157187</td>\n",
       "      <td>0.308055</td>\n",
       "    </tr>\n",
       "    <tr>\n",
       "      <th>RA.MX</th>\n",
       "      <td>93.203430</td>\n",
       "      <td>111.370003</td>\n",
       "      <td>47.0</td>\n",
       "      <td>4380.561218</td>\n",
       "      <td>0.163949</td>\n",
       "      <td>0.428491</td>\n",
       "    </tr>\n",
       "    <tr>\n",
       "      <th>ALPEKA.MX</th>\n",
       "      <td>17.603239</td>\n",
       "      <td>27.110001</td>\n",
       "      <td>142.0</td>\n",
       "      <td>2499.659946</td>\n",
       "      <td>0.234068</td>\n",
       "      <td>0.350800</td>\n",
       "    </tr>\n",
       "  </tbody>\n",
       "</table>\n",
       "</div>"
      ],
      "text/plain": [
       "                       S_0          S_t  Rounded_Titles  Initial_Investment  \\\n",
       "Symbols                                                                       \n",
       "AMXL.MX          14.346072    18.940828          9550.0       137004.989481   \n",
       "FEMSAUBD.MX     160.300339   127.029999           739.0       118461.950333   \n",
       "GFNORTEO.MX     105.844643   115.989998          1005.0       106373.865852   \n",
       "WALMEX.MX        53.542744    73.839996          1941.0       103926.465488   \n",
       "GMEXICOB.MX      42.370079    79.567329          1423.0        60292.622475   \n",
       "CEMEXCPO.MX       7.595000     8.230000          5662.0        43002.888812   \n",
       "TLEVISACPO.MX    41.303806    32.139999           959.0        39610.350246   \n",
       "GAPB.MX         216.240250   276.399994           152.0        32868.517944   \n",
       "ELEKTRA.MX     1366.929810  1197.390015            22.0        30072.455811   \n",
       "ASURB.MX        339.708923   384.000000            81.0        27516.422791   \n",
       "KIMBERA.MX       34.365948    30.020000           599.0        20585.202686   \n",
       "BIMBOA.MX        32.136032    72.040001           582.0        18703.170685   \n",
       "OMAB.MX         122.502434   124.169998           151.0        18497.867500   \n",
       "AC.MX            94.615448   141.210007           187.0        17693.088776   \n",
       "GFINBURO.MX      21.424999    37.540001           821.0        17589.924374   \n",
       "IENOVA.MX        88.714996    73.699997           195.0        17299.424286   \n",
       "PINFRA.MX       191.513794   147.039993            88.0        16853.213867   \n",
       "GRUMAB.MX       186.317093   253.490005            90.0        16768.538361   \n",
       "ORBIA.MX         40.384418    44.959999           414.0        16719.149254   \n",
       "ALFAA.MX         14.103789    14.010000          1071.0        15105.158372   \n",
       "GCARSOA1.MX      66.101830    79.510002           175.0        11567.820168   \n",
       "PE&OLES.MX      197.247894   205.080002            46.0         9073.403137   \n",
       "ALSEA.MX         45.825001    39.660000           188.0         8615.100143   \n",
       "BBAJIOO.MX       25.000608    44.099068           332.0         8300.202003   \n",
       "GENTERA.MX       20.633625    16.570000           393.0         8109.014637   \n",
       "MEGACPO.MX       63.203468    47.410000           125.0         7900.433540   \n",
       "LIVEPOLC-1.MX    92.458420    91.480003            80.0         7396.673584   \n",
       "BOLSAA.MX        37.607738    37.939999           191.0         7183.078053   \n",
       "CUERVO.MX        33.807873    45.719669           198.0         6693.958809   \n",
       "LABB.MX          20.180395    18.950001           307.0         6195.381304   \n",
       "GCC.MX           95.766129   125.989998            62.0         5937.499969   \n",
       "RA.MX            93.203430   111.370003            47.0         4380.561218   \n",
       "ALPEKA.MX        17.603239    27.110001           142.0         2499.659946   \n",
       "\n",
       "                 Return  Volatility  \n",
       "Symbols                              \n",
       "AMXL.MX        0.148598    0.273509  \n",
       "FEMSAUBD.MX   -0.052876    0.284635  \n",
       "GFNORTEO.MX    0.126355    0.423030  \n",
       "WALMEX.MX      0.167182    0.278108  \n",
       "GMEXICOB.MX    0.332085    0.400770  \n",
       "CEMEXCPO.MX    0.141860    0.470635  \n",
       "TLEVISACPO.MX  0.012703    0.479625  \n",
       "GAPB.MX        0.188951    0.423914  \n",
       "ELEKTRA.MX    -0.040061    0.161066  \n",
       "ASURB.MX       0.114147    0.361635  \n",
       "KIMBERA.MX    -0.006264    0.310031  \n",
       "BIMBOA.MX      0.398483    0.389774  \n",
       "OMAB.MX        0.092444    0.417460  \n",
       "AC.MX          0.188716    0.239398  \n",
       "GFINBURO.MX    0.303244    0.396569  \n",
       "IENOVA.MX     -0.034846    0.279192  \n",
       "PINFRA.MX     -0.063771    0.289097  \n",
       "GRUMAB.MX      0.165898    0.292974  \n",
       "ORBIA.MX       0.112671    0.372697  \n",
       "ALFAA.MX       0.108199    0.471404  \n",
       "GCARSOA1.MX    0.165908    0.429436  \n",
       "PE&OLES.MX     0.125442    0.471795  \n",
       "ALSEA.MX       0.066328    0.485726  \n",
       "BBAJIOO.MX     0.300099    0.381890  \n",
       "GENTERA.MX     0.047251    0.522969  \n",
       "MEGACPO.MX    -0.073475    0.289133  \n",
       "LIVEPOLC-1.MX  0.061739    0.363073  \n",
       "BOLSAA.MX      0.067481    0.360801  \n",
       "CUERVO.MX      0.168834    0.311243  \n",
       "LABB.MX        0.039878    0.360957  \n",
       "GCC.MX         0.157187    0.308055  \n",
       "RA.MX          0.163949    0.428491  \n",
       "ALPEKA.MX      0.234068    0.350800  "
      ]
     },
     "execution_count": 7,
     "metadata": {},
     "output_type": "execute_result"
    }
   ],
   "source": [
    "capital = 1000000\n",
    "com = -.00125\n",
    "tickers=[stocks.replace('*','') for stocks in t['Ticker']+'.MX'] #Replace values to get readable tickers.\n",
    "tickers[26]='LIVEPOLC-1.MX' #Replace a single value.\n",
    "\n",
    "#Daily Adj. closes df \n",
    "df = pdr.DataReader(tickers, 'yahoo',start,end)[\"Adj Close\"] #Adj. closes download\n",
    "s0=df.head(1)\n",
    "St=df.tail(1)\n",
    "\n",
    "\n",
    "# Mean, Std, and Covariance from returns.\n",
    "returns = df.pct_change().fillna(0) #NAs filled w/ 0s to preserve daily returns for all rows (days) in every column (ticker)\n",
    "mean_ret = returns.mean() * 252 #E(r)\n",
    "cov = returns.cov() * 252 #Covariance\n",
    "\n",
    "#Summary\n",
    "stocks_summary = pd.DataFrame({\"S_0\": s0.values.flatten(), \"S_t\": St.values.flatten(), \"Rounded_Titles\": (((W.values*capital/s0).round()).values.flatten()),\n",
    " \"Initial_Investment\": ((((W.values*capital/s0).round())*s0).values.flatten()), \"Return\" : mean_ret, \"Volatility\" : returns.std()*np.sqrt(252)})\n",
    "\n",
    "stocks_summary"
   ]
  },
  {
   "cell_type": "code",
   "execution_count": 8,
   "metadata": {},
   "outputs": [
    {
     "data": {
      "text/html": [
       "<div>\n",
       "<style scoped>\n",
       "    .dataframe tbody tr th:only-of-type {\n",
       "        vertical-align: middle;\n",
       "    }\n",
       "\n",
       "    .dataframe tbody tr th {\n",
       "        vertical-align: top;\n",
       "    }\n",
       "\n",
       "    .dataframe thead th {\n",
       "        text-align: right;\n",
       "    }\n",
       "</style>\n",
       "<table border=\"1\" class=\"dataframe\">\n",
       "  <thead>\n",
       "    <tr style=\"text-align: right;\">\n",
       "      <th></th>\n",
       "      <th>Portfolio_IV</th>\n",
       "      <th>Cash</th>\n",
       "      <th>Commision</th>\n",
       "    </tr>\n",
       "  </thead>\n",
       "  <tbody>\n",
       "    <tr>\n",
       "      <th>Passive_Summary</th>\n",
       "      <td>1000000.0000</td>\n",
       "      <td>31201.9461</td>\n",
       "      <td>-1210.9976</td>\n",
       "    </tr>\n",
       "  </tbody>\n",
       "</table>\n",
       "</div>"
      ],
      "text/plain": [
       "                 Portfolio_IV       Cash  Commision\n",
       "Passive_Summary  1000000.0000 31201.9461 -1210.9976"
      ]
     },
     "execution_count": 8,
     "metadata": {},
     "output_type": "execute_result"
    }
   ],
   "source": [
    "pd.set_option('display.float_format', lambda x: '%.4f' % x)\n",
    "\n",
    "I_inv=stocks_summary.Initial_Investment.sum()\n",
    "cash=capital-I_inv\n",
    "\n",
    "passive_summary = pd.DataFrame({'Portfolio_IV':I_inv+cash, \"Cash\": cash, 'Commision':I_inv*com}, index=['Passive_Summary'])\n",
    "passive_summary"
   ]
  },
  {
   "cell_type": "code",
   "execution_count": 9,
   "metadata": {},
   "outputs": [
    {
     "name": "stdout",
     "output_type": "stream",
     "text": [
      "The Passive Investment portfolio started with a capital of 968798.05 + cash\n"
     ]
    }
   ],
   "source": [
    "print(\"The Passive Investment portfolio started with a capital of\", I_inv.round(2), '+ cash')"
   ]
  },
  {
   "cell_type": "markdown",
   "metadata": {},
   "source": [
    "The returns of the assets composing the ETF and the portfolio are calculated on a daily basis in order to get the accumulated returns for each day on the dataframe shown below and to plot the behavior of the portfolio more precisely."
   ]
  },
  {
   "cell_type": "code",
   "execution_count": 10,
   "metadata": {},
   "outputs": [
    {
     "data": {
      "text/html": [
       "<div>\n",
       "<style scoped>\n",
       "    .dataframe tbody tr th:only-of-type {\n",
       "        vertical-align: middle;\n",
       "    }\n",
       "\n",
       "    .dataframe tbody tr th {\n",
       "        vertical-align: top;\n",
       "    }\n",
       "\n",
       "    .dataframe thead th {\n",
       "        text-align: right;\n",
       "    }\n",
       "</style>\n",
       "<table border=\"1\" class=\"dataframe\">\n",
       "  <thead>\n",
       "    <tr style=\"text-align: right;\">\n",
       "      <th>Symbols</th>\n",
       "      <th>AMXL.MX</th>\n",
       "      <th>FEMSAUBD.MX</th>\n",
       "      <th>GFNORTEO.MX</th>\n",
       "      <th>WALMEX.MX</th>\n",
       "      <th>GMEXICOB.MX</th>\n",
       "      <th>CEMEXCPO.MX</th>\n",
       "      <th>TLEVISACPO.MX</th>\n",
       "      <th>GAPB.MX</th>\n",
       "      <th>ELEKTRA.MX</th>\n",
       "      <th>ASURB.MX</th>\n",
       "      <th>...</th>\n",
       "      <th>LIVEPOLC-1.MX</th>\n",
       "      <th>BOLSAA.MX</th>\n",
       "      <th>CUERVO.MX</th>\n",
       "      <th>LABB.MX</th>\n",
       "      <th>GCC.MX</th>\n",
       "      <th>RA.MX</th>\n",
       "      <th>ALPEKA.MX</th>\n",
       "      <th>Capital</th>\n",
       "      <th>Portfolio Returns</th>\n",
       "      <th>Accumulated Returns</th>\n",
       "    </tr>\n",
       "    <tr>\n",
       "      <th>timestamp</th>\n",
       "      <th></th>\n",
       "      <th></th>\n",
       "      <th></th>\n",
       "      <th></th>\n",
       "      <th></th>\n",
       "      <th></th>\n",
       "      <th></th>\n",
       "      <th></th>\n",
       "      <th></th>\n",
       "      <th></th>\n",
       "      <th></th>\n",
       "      <th></th>\n",
       "      <th></th>\n",
       "      <th></th>\n",
       "      <th></th>\n",
       "      <th></th>\n",
       "      <th></th>\n",
       "      <th></th>\n",
       "      <th></th>\n",
       "      <th></th>\n",
       "      <th></th>\n",
       "    </tr>\n",
       "  </thead>\n",
       "  <tbody>\n",
       "    <tr>\n",
       "      <th>2020-01-31</th>\n",
       "      <td>0.000000</td>\n",
       "      <td>0.000000</td>\n",
       "      <td>0.000000</td>\n",
       "      <td>0.000000</td>\n",
       "      <td>0.000000</td>\n",
       "      <td>0.000000</td>\n",
       "      <td>0.000000</td>\n",
       "      <td>0.000000</td>\n",
       "      <td>0.000000</td>\n",
       "      <td>0.000000</td>\n",
       "      <td>...</td>\n",
       "      <td>0.000000</td>\n",
       "      <td>0.000000</td>\n",
       "      <td>0.000000</td>\n",
       "      <td>0.000000</td>\n",
       "      <td>0.000000</td>\n",
       "      <td>0.000000</td>\n",
       "      <td>0.000000</td>\n",
       "      <td>998789.002433</td>\n",
       "      <td>-0.001211</td>\n",
       "      <td>0.998789</td>\n",
       "    </tr>\n",
       "    <tr>\n",
       "      <th>2020-02-04</th>\n",
       "      <td>2575.022567</td>\n",
       "      <td>2791.011336</td>\n",
       "      <td>206.161821</td>\n",
       "      <td>2643.597041</td>\n",
       "      <td>4641.239087</td>\n",
       "      <td>1981.569035</td>\n",
       "      <td>334.993944</td>\n",
       "      <td>718.902763</td>\n",
       "      <td>-56.786703</td>\n",
       "      <td>200.674531</td>\n",
       "      <td>...</td>\n",
       "      <td>-113.543471</td>\n",
       "      <td>-14.917591</td>\n",
       "      <td>195.815462</td>\n",
       "      <td>27.740302</td>\n",
       "      <td>46.064836</td>\n",
       "      <td>112.042180</td>\n",
       "      <td>-24.675304</td>\n",
       "      <td>1018557.375626</td>\n",
       "      <td>0.019792</td>\n",
       "      <td>1.018557</td>\n",
       "    </tr>\n",
       "    <tr>\n",
       "      <th>2020-02-05</th>\n",
       "      <td>-856.772331</td>\n",
       "      <td>867.000652</td>\n",
       "      <td>-260.623605</td>\n",
       "      <td>-926.608518</td>\n",
       "      <td>-836.252988</td>\n",
       "      <td>-1055.381649</td>\n",
       "      <td>-1281.944256</td>\n",
       "      <td>172.783567</td>\n",
       "      <td>-85.775550</td>\n",
       "      <td>518.726926</td>\n",
       "      <td>...</td>\n",
       "      <td>-125.487456</td>\n",
       "      <td>-84.706080</td>\n",
       "      <td>-16.786085</td>\n",
       "      <td>-93.897726</td>\n",
       "      <td>-69.010853</td>\n",
       "      <td>-54.629809</td>\n",
       "      <td>-19.225605</td>\n",
       "      <td>1012868.414332</td>\n",
       "      <td>-0.005585</td>\n",
       "      <td>1.012868</td>\n",
       "    </tr>\n",
       "    <tr>\n",
       "      <th>2020-02-06</th>\n",
       "      <td>-1810.568090</td>\n",
       "      <td>229.526728</td>\n",
       "      <td>82.504283</td>\n",
       "      <td>-1684.770019</td>\n",
       "      <td>-1051.552788</td>\n",
       "      <td>0.000000</td>\n",
       "      <td>-560.883019</td>\n",
       "      <td>-27.389476</td>\n",
       "      <td>-268.372776</td>\n",
       "      <td>-223.568507</td>\n",
       "      <td>...</td>\n",
       "      <td>-207.003489</td>\n",
       "      <td>72.269761</td>\n",
       "      <td>-222.523425</td>\n",
       "      <td>-58.887040</td>\n",
       "      <td>-241.223723</td>\n",
       "      <td>-90.518675</td>\n",
       "      <td>-18.656400</td>\n",
       "      <td>1004637.940851</td>\n",
       "      <td>-0.008126</td>\n",
       "      <td>1.004638</td>\n",
       "    </tr>\n",
       "    <tr>\n",
       "      <th>2020-02-07</th>\n",
       "      <td>-349.497145</td>\n",
       "      <td>242.557196</td>\n",
       "      <td>-1987.685163</td>\n",
       "      <td>1486.709184</td>\n",
       "      <td>-644.424955</td>\n",
       "      <td>221.935272</td>\n",
       "      <td>-333.516289</td>\n",
       "      <td>271.401875</td>\n",
       "      <td>597.577975</td>\n",
       "      <td>-215.737144</td>\n",
       "      <td>...</td>\n",
       "      <td>14.197382</td>\n",
       "      <td>-43.264248</td>\n",
       "      <td>-158.603245</td>\n",
       "      <td>-266.119530</td>\n",
       "      <td>182.799565</td>\n",
       "      <td>76.810763</td>\n",
       "      <td>-28.919024</td>\n",
       "      <td>1003296.432611</td>\n",
       "      <td>-0.001335</td>\n",
       "      <td>1.003296</td>\n",
       "    </tr>\n",
       "    <tr>\n",
       "      <th>...</th>\n",
       "      <td>...</td>\n",
       "      <td>...</td>\n",
       "      <td>...</td>\n",
       "      <td>...</td>\n",
       "      <td>...</td>\n",
       "      <td>...</td>\n",
       "      <td>...</td>\n",
       "      <td>...</td>\n",
       "      <td>...</td>\n",
       "      <td>...</td>\n",
       "      <td>...</td>\n",
       "      <td>...</td>\n",
       "      <td>...</td>\n",
       "      <td>...</td>\n",
       "      <td>...</td>\n",
       "      <td>...</td>\n",
       "      <td>...</td>\n",
       "      <td>...</td>\n",
       "      <td>...</td>\n",
       "      <td>...</td>\n",
       "      <td>...</td>\n",
       "    </tr>\n",
       "    <tr>\n",
       "      <th>2022-07-25</th>\n",
       "      <td>-1355.743353</td>\n",
       "      <td>-497.000443</td>\n",
       "      <td>2445.439159</td>\n",
       "      <td>-2013.343507</td>\n",
       "      <td>-138.658011</td>\n",
       "      <td>470.803703</td>\n",
       "      <td>-365.088182</td>\n",
       "      <td>-353.514713</td>\n",
       "      <td>208.070986</td>\n",
       "      <td>87.937813</td>\n",
       "      <td>...</td>\n",
       "      <td>-9.928671</td>\n",
       "      <td>36.703544</td>\n",
       "      <td>100.463059</td>\n",
       "      <td>-82.118679</td>\n",
       "      <td>-10.445073</td>\n",
       "      <td>102.167670</td>\n",
       "      <td>-0.929044</td>\n",
       "      <td>1260881.793268</td>\n",
       "      <td>-0.001437</td>\n",
       "      <td>1.260882</td>\n",
       "    </tr>\n",
       "    <tr>\n",
       "      <th>2022-07-26</th>\n",
       "      <td>-1225.139084</td>\n",
       "      <td>1272.197261</td>\n",
       "      <td>-1712.726897</td>\n",
       "      <td>-1590.451440</td>\n",
       "      <td>-1752.635582</td>\n",
       "      <td>-1604.093546</td>\n",
       "      <td>-1817.867691</td>\n",
       "      <td>-1304.463440</td>\n",
       "      <td>341.629744</td>\n",
       "      <td>-214.112622</td>\n",
       "      <td>...</td>\n",
       "      <td>-13.255381</td>\n",
       "      <td>103.465420</td>\n",
       "      <td>55.312178</td>\n",
       "      <td>-211.255070</td>\n",
       "      <td>26.408181</td>\n",
       "      <td>-21.958519</td>\n",
       "      <td>-87.360646</td>\n",
       "      <td>1250007.444014</td>\n",
       "      <td>-0.008624</td>\n",
       "      <td>1.250007</td>\n",
       "    </tr>\n",
       "    <tr>\n",
       "      <th>2022-07-27</th>\n",
       "      <td>-509.016003</td>\n",
       "      <td>1800.883025</td>\n",
       "      <td>-1200.840715</td>\n",
       "      <td>1027.836076</td>\n",
       "      <td>-405.556437</td>\n",
       "      <td>161.248565</td>\n",
       "      <td>553.576462</td>\n",
       "      <td>241.994772</td>\n",
       "      <td>84.001512</td>\n",
       "      <td>50.688582</td>\n",
       "      <td>...</td>\n",
       "      <td>35.688040</td>\n",
       "      <td>276.000214</td>\n",
       "      <td>103.942972</td>\n",
       "      <td>228.647970</td>\n",
       "      <td>98.713529</td>\n",
       "      <td>147.818810</td>\n",
       "      <td>121.340550</td>\n",
       "      <td>1253534.415024</td>\n",
       "      <td>0.002822</td>\n",
       "      <td>1.253534</td>\n",
       "    </tr>\n",
       "    <tr>\n",
       "      <th>2022-07-28</th>\n",
       "      <td>4233.340647</td>\n",
       "      <td>2451.066107</td>\n",
       "      <td>4368.603891</td>\n",
       "      <td>3111.474103</td>\n",
       "      <td>2657.941781</td>\n",
       "      <td>535.493966</td>\n",
       "      <td>1371.208600</td>\n",
       "      <td>718.259307</td>\n",
       "      <td>235.628340</td>\n",
       "      <td>311.530609</td>\n",
       "      <td>...</td>\n",
       "      <td>138.765518</td>\n",
       "      <td>40.449261</td>\n",
       "      <td>31.275032</td>\n",
       "      <td>-25.566986</td>\n",
       "      <td>102.943881</td>\n",
       "      <td>80.974266</td>\n",
       "      <td>-52.351186</td>\n",
       "      <td>1279111.377322</td>\n",
       "      <td>0.020404</td>\n",
       "      <td>1.279111</td>\n",
       "    </tr>\n",
       "    <tr>\n",
       "      <th>2022-07-29</th>\n",
       "      <td>354.005990</td>\n",
       "      <td>196.222138</td>\n",
       "      <td>-1501.269761</td>\n",
       "      <td>338.801339</td>\n",
       "      <td>1502.901546</td>\n",
       "      <td>528.902255</td>\n",
       "      <td>-159.530283</td>\n",
       "      <td>-246.906108</td>\n",
       "      <td>329.675662</td>\n",
       "      <td>-55.032093</td>\n",
       "      <td>...</td>\n",
       "      <td>17.026950</td>\n",
       "      <td>67.038814</td>\n",
       "      <td>-171.214556</td>\n",
       "      <td>-118.736719</td>\n",
       "      <td>141.457915</td>\n",
       "      <td>5.538050</td>\n",
       "      <td>43.152064</td>\n",
       "      <td>1280046.683821</td>\n",
       "      <td>0.000731</td>\n",
       "      <td>1.280047</td>\n",
       "    </tr>\n",
       "  </tbody>\n",
       "</table>\n",
       "<p>630 rows × 36 columns</p>\n",
       "</div>"
      ],
      "text/plain": [
       "Symbols         AMXL.MX  FEMSAUBD.MX  GFNORTEO.MX    WALMEX.MX  GMEXICOB.MX  \\\n",
       "timestamp                                                                     \n",
       "2020-01-31     0.000000     0.000000     0.000000     0.000000     0.000000   \n",
       "2020-02-04  2575.022567  2791.011336   206.161821  2643.597041  4641.239087   \n",
       "2020-02-05  -856.772331   867.000652  -260.623605  -926.608518  -836.252988   \n",
       "2020-02-06 -1810.568090   229.526728    82.504283 -1684.770019 -1051.552788   \n",
       "2020-02-07  -349.497145   242.557196 -1987.685163  1486.709184  -644.424955   \n",
       "...                 ...          ...          ...          ...          ...   \n",
       "2022-07-25 -1355.743353  -497.000443  2445.439159 -2013.343507  -138.658011   \n",
       "2022-07-26 -1225.139084  1272.197261 -1712.726897 -1590.451440 -1752.635582   \n",
       "2022-07-27  -509.016003  1800.883025 -1200.840715  1027.836076  -405.556437   \n",
       "2022-07-28  4233.340647  2451.066107  4368.603891  3111.474103  2657.941781   \n",
       "2022-07-29   354.005990   196.222138 -1501.269761   338.801339  1502.901546   \n",
       "\n",
       "Symbols     CEMEXCPO.MX  TLEVISACPO.MX      GAPB.MX  ELEKTRA.MX    ASURB.MX  \\\n",
       "timestamp                                                                     \n",
       "2020-01-31     0.000000       0.000000     0.000000    0.000000    0.000000   \n",
       "2020-02-04  1981.569035     334.993944   718.902763  -56.786703  200.674531   \n",
       "2020-02-05 -1055.381649   -1281.944256   172.783567  -85.775550  518.726926   \n",
       "2020-02-06     0.000000    -560.883019   -27.389476 -268.372776 -223.568507   \n",
       "2020-02-07   221.935272    -333.516289   271.401875  597.577975 -215.737144   \n",
       "...                 ...            ...          ...         ...         ...   \n",
       "2022-07-25   470.803703    -365.088182  -353.514713  208.070986   87.937813   \n",
       "2022-07-26 -1604.093546   -1817.867691 -1304.463440  341.629744 -214.112622   \n",
       "2022-07-27   161.248565     553.576462   241.994772   84.001512   50.688582   \n",
       "2022-07-28   535.493966    1371.208600   718.259307  235.628340  311.530609   \n",
       "2022-07-29   528.902255    -159.530283  -246.906108  329.675662  -55.032093   \n",
       "\n",
       "Symbols     ...  LIVEPOLC-1.MX  BOLSAA.MX   CUERVO.MX     LABB.MX      GCC.MX  \\\n",
       "timestamp   ...                                                                 \n",
       "2020-01-31  ...       0.000000   0.000000    0.000000    0.000000    0.000000   \n",
       "2020-02-04  ...    -113.543471 -14.917591  195.815462   27.740302   46.064836   \n",
       "2020-02-05  ...    -125.487456 -84.706080  -16.786085  -93.897726  -69.010853   \n",
       "2020-02-06  ...    -207.003489  72.269761 -222.523425  -58.887040 -241.223723   \n",
       "2020-02-07  ...      14.197382 -43.264248 -158.603245 -266.119530  182.799565   \n",
       "...         ...            ...        ...         ...         ...         ...   \n",
       "2022-07-25  ...      -9.928671  36.703544  100.463059  -82.118679  -10.445073   \n",
       "2022-07-26  ...     -13.255381 103.465420   55.312178 -211.255070   26.408181   \n",
       "2022-07-27  ...      35.688040 276.000214  103.942972  228.647970   98.713529   \n",
       "2022-07-28  ...     138.765518  40.449261   31.275032  -25.566986  102.943881   \n",
       "2022-07-29  ...      17.026950  67.038814 -171.214556 -118.736719  141.457915   \n",
       "\n",
       "Symbols         RA.MX  ALPEKA.MX        Capital  Portfolio Returns  \\\n",
       "timestamp                                                            \n",
       "2020-01-31   0.000000   0.000000  998789.002433          -0.001211   \n",
       "2020-02-04 112.042180 -24.675304 1018557.375626           0.019792   \n",
       "2020-02-05 -54.629809 -19.225605 1012868.414332          -0.005585   \n",
       "2020-02-06 -90.518675 -18.656400 1004637.940851          -0.008126   \n",
       "2020-02-07  76.810763 -28.919024 1003296.432611          -0.001335   \n",
       "...               ...        ...            ...                ...   \n",
       "2022-07-25 102.167670  -0.929044 1260881.793268          -0.001437   \n",
       "2022-07-26 -21.958519 -87.360646 1250007.444014          -0.008624   \n",
       "2022-07-27 147.818810 121.340550 1253534.415024           0.002822   \n",
       "2022-07-28  80.974266 -52.351186 1279111.377322           0.020404   \n",
       "2022-07-29   5.538050  43.152064 1280046.683821           0.000731   \n",
       "\n",
       "Symbols     Accumulated Returns  \n",
       "timestamp                        \n",
       "2020-01-31             0.998789  \n",
       "2020-02-04             1.018557  \n",
       "2020-02-05             1.012868  \n",
       "2020-02-06             1.004638  \n",
       "2020-02-07             1.003296  \n",
       "...                         ...  \n",
       "2022-07-25             1.260882  \n",
       "2022-07-26             1.250007  \n",
       "2022-07-27             1.253534  \n",
       "2022-07-28             1.279111  \n",
       "2022-07-29             1.280047  \n",
       "\n",
       "[630 rows x 36 columns]"
      ]
     },
     "execution_count": 10,
     "metadata": {},
     "output_type": "execute_result"
    }
   ],
   "source": [
    "pd.set_option('display.float_format', lambda x: '%.6f' % x)\n",
    "port_pas=returns.mul(W.values*capital, axis=1)\n",
    "port_pas[\"Capital\"] = port_pas.sum(axis=1)\n",
    "port_pas[\"Capital\"][0] = I_inv*com+I_inv+cash\n",
    "port_pas[\"Capital\"]=port_pas[\"Capital\"].cumsum()\n",
    "\n",
    "port_pas[\"Portfolio Returns\"] = port_pas[\"Capital\"].pct_change()\n",
    "port_pas[\"Portfolio Returns\"][0] = (I_inv*com)/capital\n",
    "\n",
    "port_pas[\"Accumulated Returns\"] = (port_pas[\"Portfolio Returns\"] + 1).cumprod()\n",
    "port_pas.index.name=\"timestamp\"\n",
    "port_pas.round(10)"
   ]
  },
  {
   "cell_type": "markdown",
   "metadata": {},
   "source": [
    "A summary of the capital behavior, its monthly and accumulated returns is shown on the next dataframe."
   ]
  },
  {
   "cell_type": "code",
   "execution_count": 11,
   "metadata": {},
   "outputs": [
    {
     "data": {
      "text/html": [
       "<div>\n",
       "<style scoped>\n",
       "    .dataframe tbody tr th:only-of-type {\n",
       "        vertical-align: middle;\n",
       "    }\n",
       "\n",
       "    .dataframe tbody tr th {\n",
       "        vertical-align: top;\n",
       "    }\n",
       "\n",
       "    .dataframe thead th {\n",
       "        text-align: right;\n",
       "    }\n",
       "</style>\n",
       "<table border=\"1\" class=\"dataframe\">\n",
       "  <thead>\n",
       "    <tr style=\"text-align: right;\">\n",
       "      <th>Symbols</th>\n",
       "      <th>Capital</th>\n",
       "      <th>Portfolio Returns</th>\n",
       "      <th>Accumulated Returns</th>\n",
       "    </tr>\n",
       "    <tr>\n",
       "      <th>timestamp</th>\n",
       "      <th></th>\n",
       "      <th></th>\n",
       "      <th></th>\n",
       "    </tr>\n",
       "  </thead>\n",
       "  <tbody>\n",
       "    <tr>\n",
       "      <th>2020-01-31</th>\n",
       "      <td>998789.002433</td>\n",
       "      <td>-0.001211</td>\n",
       "      <td>0.998789</td>\n",
       "    </tr>\n",
       "    <tr>\n",
       "      <th>2020-02-28</th>\n",
       "      <td>937043.148136</td>\n",
       "      <td>-0.005798</td>\n",
       "      <td>0.937043</td>\n",
       "    </tr>\n",
       "    <tr>\n",
       "      <th>2020-03-31</th>\n",
       "      <td>767564.655832</td>\n",
       "      <td>0.014668</td>\n",
       "      <td>0.767565</td>\n",
       "    </tr>\n",
       "    <tr>\n",
       "      <th>2020-04-30</th>\n",
       "      <td>833851.044311</td>\n",
       "      <td>-0.010856</td>\n",
       "      <td>0.833851</td>\n",
       "    </tr>\n",
       "    <tr>\n",
       "      <th>2020-05-29</th>\n",
       "      <td>839548.915974</td>\n",
       "      <td>-0.012850</td>\n",
       "      <td>0.839549</td>\n",
       "    </tr>\n",
       "    <tr>\n",
       "      <th>2020-06-30</th>\n",
       "      <td>895077.298807</td>\n",
       "      <td>-0.001017</td>\n",
       "      <td>0.895077</td>\n",
       "    </tr>\n",
       "    <tr>\n",
       "      <th>2020-07-31</th>\n",
       "      <td>879866.337707</td>\n",
       "      <td>-0.002811</td>\n",
       "      <td>0.879866</td>\n",
       "    </tr>\n",
       "    <tr>\n",
       "      <th>2020-08-31</th>\n",
       "      <td>881342.459047</td>\n",
       "      <td>-0.027272</td>\n",
       "      <td>0.881342</td>\n",
       "    </tr>\n",
       "    <tr>\n",
       "      <th>2020-09-30</th>\n",
       "      <td>900998.433841</td>\n",
       "      <td>0.008928</td>\n",
       "      <td>0.900998</td>\n",
       "    </tr>\n",
       "    <tr>\n",
       "      <th>2020-10-30</th>\n",
       "      <td>892971.141999</td>\n",
       "      <td>0.004620</td>\n",
       "      <td>0.892971</td>\n",
       "    </tr>\n",
       "    <tr>\n",
       "      <th>2020-11-30</th>\n",
       "      <td>1037201.413132</td>\n",
       "      <td>0.001978</td>\n",
       "      <td>1.037201</td>\n",
       "    </tr>\n",
       "    <tr>\n",
       "      <th>2020-12-31</th>\n",
       "      <td>1089432.830149</td>\n",
       "      <td>-0.011590</td>\n",
       "      <td>1.089433</td>\n",
       "    </tr>\n",
       "    <tr>\n",
       "      <th>2021-01-29</th>\n",
       "      <td>1059641.338317</td>\n",
       "      <td>-0.026611</td>\n",
       "      <td>1.059641</td>\n",
       "    </tr>\n",
       "    <tr>\n",
       "      <th>2021-02-26</th>\n",
       "      <td>1092550.415696</td>\n",
       "      <td>0.006555</td>\n",
       "      <td>1.092550</td>\n",
       "    </tr>\n",
       "    <tr>\n",
       "      <th>2021-03-31</th>\n",
       "      <td>1152784.820997</td>\n",
       "      <td>-0.013450</td>\n",
       "      <td>1.152785</td>\n",
       "    </tr>\n",
       "    <tr>\n",
       "      <th>2021-04-30</th>\n",
       "      <td>1186455.385574</td>\n",
       "      <td>-0.012279</td>\n",
       "      <td>1.186455</td>\n",
       "    </tr>\n",
       "    <tr>\n",
       "      <th>2021-05-31</th>\n",
       "      <td>1252749.850162</td>\n",
       "      <td>0.013105</td>\n",
       "      <td>1.252750</td>\n",
       "    </tr>\n",
       "    <tr>\n",
       "      <th>2021-06-30</th>\n",
       "      <td>1245206.154912</td>\n",
       "      <td>-0.001001</td>\n",
       "      <td>1.245206</td>\n",
       "    </tr>\n",
       "    <tr>\n",
       "      <th>2021-07-30</th>\n",
       "      <td>1263823.031675</td>\n",
       "      <td>-0.009017</td>\n",
       "      <td>1.263823</td>\n",
       "    </tr>\n",
       "    <tr>\n",
       "      <th>2021-08-31</th>\n",
       "      <td>1311200.407844</td>\n",
       "      <td>0.009824</td>\n",
       "      <td>1.311200</td>\n",
       "    </tr>\n",
       "    <tr>\n",
       "      <th>2021-09-30</th>\n",
       "      <td>1286457.737918</td>\n",
       "      <td>0.004994</td>\n",
       "      <td>1.286458</td>\n",
       "    </tr>\n",
       "    <tr>\n",
       "      <th>2021-10-29</th>\n",
       "      <td>1290072.210647</td>\n",
       "      <td>0.000843</td>\n",
       "      <td>1.290072</td>\n",
       "    </tr>\n",
       "    <tr>\n",
       "      <th>2021-11-30</th>\n",
       "      <td>1264995.865560</td>\n",
       "      <td>-0.001847</td>\n",
       "      <td>1.264996</td>\n",
       "    </tr>\n",
       "    <tr>\n",
       "      <th>2021-12-31</th>\n",
       "      <td>1335490.263441</td>\n",
       "      <td>0.001572</td>\n",
       "      <td>1.335490</td>\n",
       "    </tr>\n",
       "    <tr>\n",
       "      <th>2022-01-31</th>\n",
       "      <td>1306097.877186</td>\n",
       "      <td>0.009383</td>\n",
       "      <td>1.306098</td>\n",
       "    </tr>\n",
       "    <tr>\n",
       "      <th>2022-02-28</th>\n",
       "      <td>1345924.934618</td>\n",
       "      <td>0.011870</td>\n",
       "      <td>1.345925</td>\n",
       "    </tr>\n",
       "    <tr>\n",
       "      <th>2022-03-31</th>\n",
       "      <td>1403510.409445</td>\n",
       "      <td>0.007889</td>\n",
       "      <td>1.403510</td>\n",
       "    </tr>\n",
       "    <tr>\n",
       "      <th>2022-04-29</th>\n",
       "      <td>1322158.063898</td>\n",
       "      <td>-0.015427</td>\n",
       "      <td>1.322158</td>\n",
       "    </tr>\n",
       "    <tr>\n",
       "      <th>2022-05-31</th>\n",
       "      <td>1342524.795508</td>\n",
       "      <td>-0.004897</td>\n",
       "      <td>1.342525</td>\n",
       "    </tr>\n",
       "    <tr>\n",
       "      <th>2022-06-30</th>\n",
       "      <td>1269600.462444</td>\n",
       "      <td>-0.007589</td>\n",
       "      <td>1.269600</td>\n",
       "    </tr>\n",
       "    <tr>\n",
       "      <th>2022-07-29</th>\n",
       "      <td>1280046.683821</td>\n",
       "      <td>0.000731</td>\n",
       "      <td>1.280047</td>\n",
       "    </tr>\n",
       "  </tbody>\n",
       "</table>\n",
       "</div>"
      ],
      "text/plain": [
       "Symbols           Capital  Portfolio Returns  Accumulated Returns\n",
       "timestamp                                                        \n",
       "2020-01-31  998789.002433          -0.001211             0.998789\n",
       "2020-02-28  937043.148136          -0.005798             0.937043\n",
       "2020-03-31  767564.655832           0.014668             0.767565\n",
       "2020-04-30  833851.044311          -0.010856             0.833851\n",
       "2020-05-29  839548.915974          -0.012850             0.839549\n",
       "2020-06-30  895077.298807          -0.001017             0.895077\n",
       "2020-07-31  879866.337707          -0.002811             0.879866\n",
       "2020-08-31  881342.459047          -0.027272             0.881342\n",
       "2020-09-30  900998.433841           0.008928             0.900998\n",
       "2020-10-30  892971.141999           0.004620             0.892971\n",
       "2020-11-30 1037201.413132           0.001978             1.037201\n",
       "2020-12-31 1089432.830149          -0.011590             1.089433\n",
       "2021-01-29 1059641.338317          -0.026611             1.059641\n",
       "2021-02-26 1092550.415696           0.006555             1.092550\n",
       "2021-03-31 1152784.820997          -0.013450             1.152785\n",
       "2021-04-30 1186455.385574          -0.012279             1.186455\n",
       "2021-05-31 1252749.850162           0.013105             1.252750\n",
       "2021-06-30 1245206.154912          -0.001001             1.245206\n",
       "2021-07-30 1263823.031675          -0.009017             1.263823\n",
       "2021-08-31 1311200.407844           0.009824             1.311200\n",
       "2021-09-30 1286457.737918           0.004994             1.286458\n",
       "2021-10-29 1290072.210647           0.000843             1.290072\n",
       "2021-11-30 1264995.865560          -0.001847             1.264996\n",
       "2021-12-31 1335490.263441           0.001572             1.335490\n",
       "2022-01-31 1306097.877186           0.009383             1.306098\n",
       "2022-02-28 1345924.934618           0.011870             1.345925\n",
       "2022-03-31 1403510.409445           0.007889             1.403510\n",
       "2022-04-29 1322158.063898          -0.015427             1.322158\n",
       "2022-05-31 1342524.795508          -0.004897             1.342525\n",
       "2022-06-30 1269600.462444          -0.007589             1.269600\n",
       "2022-07-29 1280046.683821           0.000731             1.280047"
      ]
     },
     "execution_count": 11,
     "metadata": {},
     "output_type": "execute_result"
    }
   ],
   "source": [
    "df_pasiva=port_pas[['Capital', 'Portfolio Returns', 'Accumulated Returns']]\n",
    "df_pasiva=df_pasiva.iloc[port_pas.iloc[: , -3:].reset_index().groupby(port_pas.iloc[: , -3:].index.to_period('M'))['timestamp'].idxmax()]\n",
    "df_pasiva"
   ]
  },
  {
   "cell_type": "markdown",
   "metadata": {},
   "source": [
    "The following plot shows the behavior of the portfolio during the investment period."
   ]
  },
  {
   "cell_type": "code",
   "execution_count": 12,
   "metadata": {},
   "outputs": [
    {
     "data": {
      "text/plain": [
       "<matplotlib.legend.Legend at 0x1d232283af0>"
      ]
     },
     "execution_count": 12,
     "metadata": {},
     "output_type": "execute_result"
    },
    {
     "data": {
      "image/png": "[encoded data removed]",
      "text/plain": [
       "<Figure size 1152x576 with 1 Axes>"
      ]
     },
     "metadata": {},
     "output_type": "display_data"
    }
   ],
   "source": [
    "#### Comportamiento del Portafolio en el 2015\n",
    "#Estética\n",
    "plt.style.use('dark_background')\n",
    "plt.rc('grid', linestyle=\"--\", color='gray')\n",
    "plt.rc('ytick', labelsize=13, color='yellow')\n",
    "plt.rc('xtick', labelsize=11, color='white')\n",
    "\n",
    "# Visualización\n",
    "port_pas[\"Capital\"].plot(figsize = (16,8),color='g',\n",
    "         label=('Valor final=','$',port_pas['Capital'].iloc[-1].round(2)))\n",
    "#Estética\n",
    "plt.title(\"Passive Investment in NAFTRAC\",size='17', weight='bold', family=\"Constantia\")\n",
    "plt.xlabel(\"Fecha\",size='15', weight='roman', family=\"Georgia\")\n",
    "plt.ylabel(\"Mxn\",size='15', weight='bold', family=\"Georgia\", color='g')\n",
    "plt.grid(True)\n",
    "plt.legend(loc = \"best\")"
   ]
  },
  {
   "cell_type": "markdown",
   "metadata": {},
   "source": [
    "Ticker selection from constant re appearance in CSVs."
   ]
  },
  {
   "cell_type": "code",
   "execution_count": 13,
   "metadata": {},
   "outputs": [
    {
     "name": "stdout",
     "output_type": "stream",
     "text": [
      "ticker_list [('USD', 2), ('ALPEKA', 3), ('NMKA', 3), ('SITES1A-1', 5), ('BSMXB', 8), ('VOLARA', 11), ('GENTERA*', 14), ('IENOVA*', 16), ('SITESB.1', 18), ('RA', 25), ('GCC*', 26), ('VESTA*', 28), ('Q*', 28), ('AMXL', 31), ('FEMSAUBD', 31), ('GFNORTEO', 31), ('WALMEX*', 31), ('GMEXICOB', 31), ('CEMEXCPO', 31), ('TLEVISACPO', 31), ('GAPB', 31), ('ELEKTRA*', 31), ('ASURB', 31), ('KOFUBL', 31), ('KIMBERA', 31), ('BIMBOA', 31), ('OMAB', 31), ('AC*', 31), ('GFINBURO', 31), ('PINFRA*', 31), ('GRUMAB', 31), ('ORBIA*', 31), ('ALFAA', 31), ('GCARSOA1', 31), ('PE&OLES*', 31), ('ALSEA*', 31), ('BBAJIOO', 31), ('MEGACPO', 31), ('LIVEPOLC.1', 31), ('BOLSAA', 31), ('CUERVO*', 31), ('LABB', 31), ('MXN', 31)]\n"
     ]
    },
    {
     "data": {
      "text/plain": [
       "[('AMXL', 31),\n",
       " ('FEMSAUBD', 31),\n",
       " ('GFNORTEO', 31),\n",
       " ('WALMEX*', 31),\n",
       " ('GMEXICOB', 31),\n",
       " ('CEMEXCPO', 31),\n",
       " ('TLEVISACPO', 31),\n",
       " ('GAPB', 31),\n",
       " ('ELEKTRA*', 31),\n",
       " ('ASURB', 31),\n",
       " ('KOFUBL', 31),\n",
       " ('KIMBERA', 31),\n",
       " ('BIMBOA', 31),\n",
       " ('OMAB', 31),\n",
       " ('AC*', 31),\n",
       " ('GFINBURO', 31),\n",
       " ('PINFRA*', 31),\n",
       " ('GRUMAB', 31),\n",
       " ('ORBIA*', 31),\n",
       " ('ALFAA', 31),\n",
       " ('GCARSOA1', 31),\n",
       " ('PE&OLES*', 31),\n",
       " ('ALSEA*', 31),\n",
       " ('BBAJIOO', 31),\n",
       " ('MEGACPO', 31),\n",
       " ('LIVEPOLC.1', 31),\n",
       " ('BOLSAA', 31),\n",
       " ('CUERVO*', 31),\n",
       " ('LABB', 31),\n",
       " ('MXN', 31)]"
      ]
     },
     "execution_count": 13,
     "metadata": {},
     "output_type": "execute_result"
    }
   ],
   "source": [
    "pd.options.mode.chained_assignment = None\n",
    "extension = 'csv' \n",
    "all_filenames = [i for i in glob.glob('*.{}'.format(extension))] #read all csvs in one line\n",
    "combined_csv = pd.concat([pd.read_csv(f) for f in all_filenames ]).dropna() #concatenate in a df\n",
    "tick_rep  = Counter(combined_csv['Ticker']) #count occurences\n",
    "tick_sorted = sorted(tick_rep.items(), key=lambda kv: kv[1]) #sort first values of tuple by occurence\n",
    "print(\"ticker_list\", str(tick_sorted)) #print all strings of tuples despite number of occurrence\n",
    "ticker_selection = [i for i in tick_sorted if i[1] >= 31] #List compression to filter tickers by max n° of occurence\n",
    "#ticker_selection[24] = ('LIVEPOLC-1','31') #Rename LIVEPOLC.1 to downloadable data\n",
    "ticker_selection #results"
   ]
  },
  {
   "cell_type": "markdown",
   "metadata": {},
   "source": [
    "From the first csv KOFUBL, IENOVA, GENTERA, GCC, BSMXB, RA and ALPEKA are removed for not consolidating NAFTRAC in all periods. Then our Active Investment (EMV) portfolio will have this tickers as options (weights will be ignored)."
   ]
  },
  {
   "cell_type": "code",
   "execution_count": 14,
   "metadata": {},
   "outputs": [
    {
     "data": {
      "text/html": [
       "<div>\n",
       "<style scoped>\n",
       "    .dataframe tbody tr th:only-of-type {\n",
       "        vertical-align: middle;\n",
       "    }\n",
       "\n",
       "    .dataframe tbody tr th {\n",
       "        vertical-align: top;\n",
       "    }\n",
       "\n",
       "    .dataframe thead th {\n",
       "        text-align: right;\n",
       "    }\n",
       "</style>\n",
       "<table border=\"1\" class=\"dataframe\">\n",
       "  <thead>\n",
       "    <tr style=\"text-align: right;\">\n",
       "      <th></th>\n",
       "      <th>Ticker</th>\n",
       "      <th>Peso (%)</th>\n",
       "    </tr>\n",
       "  </thead>\n",
       "  <tbody>\n",
       "    <tr>\n",
       "      <th>0</th>\n",
       "      <td>AMXL</td>\n",
       "      <td>13.700000</td>\n",
       "    </tr>\n",
       "    <tr>\n",
       "      <th>1</th>\n",
       "      <td>FEMSAUBD</td>\n",
       "      <td>11.850000</td>\n",
       "    </tr>\n",
       "    <tr>\n",
       "      <th>2</th>\n",
       "      <td>GFNORTEO</td>\n",
       "      <td>10.640000</td>\n",
       "    </tr>\n",
       "    <tr>\n",
       "      <th>3</th>\n",
       "      <td>WALMEX*</td>\n",
       "      <td>10.390000</td>\n",
       "    </tr>\n",
       "    <tr>\n",
       "      <th>4</th>\n",
       "      <td>GMEXICOB</td>\n",
       "      <td>6.030000</td>\n",
       "    </tr>\n",
       "    <tr>\n",
       "      <th>5</th>\n",
       "      <td>CEMEXCPO</td>\n",
       "      <td>4.300000</td>\n",
       "    </tr>\n",
       "    <tr>\n",
       "      <th>6</th>\n",
       "      <td>TLEVISACPO</td>\n",
       "      <td>3.960000</td>\n",
       "    </tr>\n",
       "    <tr>\n",
       "      <th>7</th>\n",
       "      <td>GAPB</td>\n",
       "      <td>3.290000</td>\n",
       "    </tr>\n",
       "    <tr>\n",
       "      <th>8</th>\n",
       "      <td>ELEKTRA*</td>\n",
       "      <td>3.020000</td>\n",
       "    </tr>\n",
       "    <tr>\n",
       "      <th>9</th>\n",
       "      <td>ASURB</td>\n",
       "      <td>2.750000</td>\n",
       "    </tr>\n",
       "    <tr>\n",
       "      <th>11</th>\n",
       "      <td>KIMBERA</td>\n",
       "      <td>2.060000</td>\n",
       "    </tr>\n",
       "    <tr>\n",
       "      <th>12</th>\n",
       "      <td>BIMBOA</td>\n",
       "      <td>1.870000</td>\n",
       "    </tr>\n",
       "    <tr>\n",
       "      <th>13</th>\n",
       "      <td>OMAB</td>\n",
       "      <td>1.850000</td>\n",
       "    </tr>\n",
       "    <tr>\n",
       "      <th>14</th>\n",
       "      <td>AC*</td>\n",
       "      <td>1.770000</td>\n",
       "    </tr>\n",
       "    <tr>\n",
       "      <th>15</th>\n",
       "      <td>GFINBURO</td>\n",
       "      <td>1.760000</td>\n",
       "    </tr>\n",
       "    <tr>\n",
       "      <th>17</th>\n",
       "      <td>PINFRA*</td>\n",
       "      <td>1.680000</td>\n",
       "    </tr>\n",
       "    <tr>\n",
       "      <th>18</th>\n",
       "      <td>GRUMAB</td>\n",
       "      <td>1.680000</td>\n",
       "    </tr>\n",
       "    <tr>\n",
       "      <th>19</th>\n",
       "      <td>ORBIA*</td>\n",
       "      <td>1.670000</td>\n",
       "    </tr>\n",
       "    <tr>\n",
       "      <th>20</th>\n",
       "      <td>ALFAA</td>\n",
       "      <td>1.510000</td>\n",
       "    </tr>\n",
       "    <tr>\n",
       "      <th>21</th>\n",
       "      <td>GCARSOA1</td>\n",
       "      <td>1.160000</td>\n",
       "    </tr>\n",
       "    <tr>\n",
       "      <th>22</th>\n",
       "      <td>PE&amp;OLES*</td>\n",
       "      <td>0.910000</td>\n",
       "    </tr>\n",
       "    <tr>\n",
       "      <th>23</th>\n",
       "      <td>ALSEA*</td>\n",
       "      <td>0.860000</td>\n",
       "    </tr>\n",
       "    <tr>\n",
       "      <th>24</th>\n",
       "      <td>BBAJIOO</td>\n",
       "      <td>0.830000</td>\n",
       "    </tr>\n",
       "    <tr>\n",
       "      <th>26</th>\n",
       "      <td>MEGACPO</td>\n",
       "      <td>0.790000</td>\n",
       "    </tr>\n",
       "    <tr>\n",
       "      <th>27</th>\n",
       "      <td>LIVEPOLC-1</td>\n",
       "      <td>0.740000</td>\n",
       "    </tr>\n",
       "    <tr>\n",
       "      <th>28</th>\n",
       "      <td>BOLSAA</td>\n",
       "      <td>0.720000</td>\n",
       "    </tr>\n",
       "    <tr>\n",
       "      <th>29</th>\n",
       "      <td>CUERVO*</td>\n",
       "      <td>0.670000</td>\n",
       "    </tr>\n",
       "    <tr>\n",
       "      <th>30</th>\n",
       "      <td>LABB</td>\n",
       "      <td>0.620000</td>\n",
       "    </tr>\n",
       "  </tbody>\n",
       "</table>\n",
       "</div>"
      ],
      "text/plain": [
       "        Ticker  Peso (%)\n",
       "0         AMXL 13.700000\n",
       "1     FEMSAUBD 11.850000\n",
       "2     GFNORTEO 10.640000\n",
       "3      WALMEX* 10.390000\n",
       "4     GMEXICOB  6.030000\n",
       "5     CEMEXCPO  4.300000\n",
       "6   TLEVISACPO  3.960000\n",
       "7         GAPB  3.290000\n",
       "8     ELEKTRA*  3.020000\n",
       "9        ASURB  2.750000\n",
       "11     KIMBERA  2.060000\n",
       "12      BIMBOA  1.870000\n",
       "13        OMAB  1.850000\n",
       "14         AC*  1.770000\n",
       "15    GFINBURO  1.760000\n",
       "17     PINFRA*  1.680000\n",
       "18      GRUMAB  1.680000\n",
       "19      ORBIA*  1.670000\n",
       "20       ALFAA  1.510000\n",
       "21    GCARSOA1  1.160000\n",
       "22    PE&OLES*  0.910000\n",
       "23      ALSEA*  0.860000\n",
       "24     BBAJIOO  0.830000\n",
       "26     MEGACPO  0.790000\n",
       "27  LIVEPOLC-1  0.740000\n",
       "28      BOLSAA  0.720000\n",
       "29     CUERVO*  0.670000\n",
       "30        LABB  0.620000"
      ]
     },
     "execution_count": 14,
     "metadata": {},
     "output_type": "execute_result"
    }
   ],
   "source": [
    "t2= pd.read_csv('NAFTRAC_20200131.csv')[['Ticker','Peso (%)']].drop(10).drop(16).drop(25).drop(31).drop(32).drop(33).drop(34).drop(35).drop(36)\n",
    "W2=t['Peso (%)']/100 #1-W2.sum() Cash\n",
    "t2.Ticker[27]='LIVEPOLC-1'\n",
    "t2.head(32)"
   ]
  },
  {
   "cell_type": "code",
   "execution_count": 15,
   "metadata": {},
   "outputs": [
    {
     "data": {
      "text/plain": [
       "['AMXL.MX',\n",
       " 'FEMSAUBD.MX',\n",
       " 'GFNORTEO.MX',\n",
       " 'WALMEX.MX',\n",
       " 'GMEXICOB.MX',\n",
       " 'CEMEXCPO.MX',\n",
       " 'TLEVISACPO.MX',\n",
       " 'GAPB.MX',\n",
       " 'ELEKTRA.MX',\n",
       " 'ASURB.MX',\n",
       " 'KIMBERA.MX',\n",
       " 'BIMBOA.MX',\n",
       " 'OMAB.MX',\n",
       " 'AC.MX',\n",
       " 'GFINBURO.MX',\n",
       " 'PINFRA.MX',\n",
       " 'GRUMAB.MX',\n",
       " 'ORBIA.MX',\n",
       " 'ALFAA.MX',\n",
       " 'GCARSOA1.MX',\n",
       " 'PE&OLES.MX',\n",
       " 'ALSEA.MX',\n",
       " 'BBAJIOO.MX',\n",
       " 'MEGACPO.MX',\n",
       " 'LIVEPOLC-1.MX',\n",
       " 'BOLSAA.MX',\n",
       " 'CUERVO.MX',\n",
       " 'LABB.MX']"
      ]
     },
     "execution_count": 15,
     "metadata": {},
     "output_type": "execute_result"
    }
   ],
   "source": [
    "tickers_ap=[stocks.replace('*','') for stocks in t2.Ticker + '.MX']\n",
    "tickers_ap"
   ]
  },
  {
   "cell_type": "code",
   "execution_count": 16,
   "metadata": {},
   "outputs": [
    {
     "name": "stdout",
     "output_type": "stream",
     "text": [
      "Download data and show summary of Active Investment Portfolio (EMV) from period 2020-01-31 to 2021-01-31\n"
     ]
    }
   ],
   "source": [
    "start = datetime.datetime(2020,1,31) #Portfolio conformation.\n",
    "end = datetime.datetime(2021,1,31) #End of investment.\n",
    "print('Download data and show summary of Active Investment Portfolio (EMV) from period', start.strftime(\"%Y-%m-%d\"), 'to', end.strftime(\"%Y-%m-%d\"))"
   ]
  },
  {
   "cell_type": "code",
   "execution_count": 17,
   "metadata": {},
   "outputs": [
    {
     "data": {
      "text/html": [
       "<div>\n",
       "<style scoped>\n",
       "    .dataframe tbody tr th:only-of-type {\n",
       "        vertical-align: middle;\n",
       "    }\n",
       "\n",
       "    .dataframe tbody tr th {\n",
       "        vertical-align: top;\n",
       "    }\n",
       "\n",
       "    .dataframe thead th {\n",
       "        text-align: right;\n",
       "    }\n",
       "</style>\n",
       "<table border=\"1\" class=\"dataframe\">\n",
       "  <thead>\n",
       "    <tr style=\"text-align: right;\">\n",
       "      <th></th>\n",
       "      <th>Log_Return</th>\n",
       "      <th>Volatility</th>\n",
       "    </tr>\n",
       "    <tr>\n",
       "      <th>Symbols</th>\n",
       "      <th></th>\n",
       "      <th></th>\n",
       "    </tr>\n",
       "  </thead>\n",
       "  <tbody>\n",
       "    <tr>\n",
       "      <th>AMXL.MX</th>\n",
       "      <td>-0.096127</td>\n",
       "      <td>0.332193</td>\n",
       "    </tr>\n",
       "    <tr>\n",
       "      <th>FEMSAUBD.MX</th>\n",
       "      <td>-0.175554</td>\n",
       "      <td>0.351773</td>\n",
       "    </tr>\n",
       "    <tr>\n",
       "      <th>GFNORTEO.MX</th>\n",
       "      <td>-0.134496</td>\n",
       "      <td>0.505107</td>\n",
       "    </tr>\n",
       "    <tr>\n",
       "      <th>WALMEX.MX</th>\n",
       "      <td>0.076514</td>\n",
       "      <td>0.292267</td>\n",
       "    </tr>\n",
       "    <tr>\n",
       "      <th>GMEXICOB.MX</th>\n",
       "      <td>0.619425</td>\n",
       "      <td>0.418507</td>\n",
       "    </tr>\n",
       "  </tbody>\n",
       "</table>\n",
       "</div>"
      ],
      "text/plain": [
       "             Log_Return  Volatility\n",
       "Symbols                            \n",
       "AMXL.MX       -0.096127    0.332193\n",
       "FEMSAUBD.MX   -0.175554    0.351773\n",
       "GFNORTEO.MX   -0.134496    0.505107\n",
       "WALMEX.MX      0.076514    0.292267\n",
       "GMEXICOB.MX    0.619425    0.418507"
      ]
     },
     "execution_count": 17,
     "metadata": {},
     "output_type": "execute_result"
    }
   ],
   "source": [
    "#Daily Adj. closes df \n",
    "df = pdr.DataReader(tickers_ap, 'yahoo',start,end)[\"Adj Close\"] #Adj. closes download\n",
    "s0=df.head(1)\n",
    "St=df.tail(1)\n",
    "\n",
    "\n",
    "# Mean, Std, and Covariance from returns.\n",
    "returns = df.pct_change().fillna(0) #NAs filled w/ 0s to preserve daily returns for all rows (days) in every column (ticker)\n",
    "\n",
    "log_ret= np.log(1+returns)\n",
    "mean_lr= log_ret.mean() * 252\n",
    "\n",
    "mean_ret = returns.mean() * 252 #E(lr)\n",
    "cov = returns.cov() * 252 #Covariance\n",
    "\n",
    "#Summary\n",
    "stocks_summary = pd.DataFrame({\"Log_Return\" : mean_lr, \"Volatility\" : log_ret.std()*np.sqrt(252)})\n",
    "stocks_summary.head()"
   ]
  },
  {
   "cell_type": "code",
   "execution_count": 18,
   "metadata": {},
   "outputs": [],
   "source": [
    "# Treasury Yield Curve Rates 1Yr (2021-12-31) \n",
    "rf = 6.95 / (100)\n",
    "\n",
    "# Datos necesarios para resolver los problemas de optimización\n",
    "N = len(mean_lr)\n",
    "w0 = np.ones(N) / N\n",
    "bnds = ((0, None), ) * N\n",
    "cons = {\"type\" : \"eq\", \"fun\" : lambda w : w.sum() - 1}\n",
    "\n",
    "# Función a minimizar para encontrar el portafolio de mínima varianza\n",
    "def Var(w, cov):\n",
    "    return np.dot(w.T, np.dot(cov, w))\n",
    "\n",
    "# Función a minimizar para encontrar el portafolio eficiente en media-varianza\n",
    "def Minus_RatioSharpe(w, er, rf, cov):\n",
    "    erp = np.dot(w.T, er)\n",
    "    sp = np.dot(w.T, np.dot(cov, w))**0.5\n",
    "    RS = (erp - rf) / sp\n",
    "    return -RS\n",
    "\n",
    "pmv = minimize(fun = Var, x0 = w0, args = (cov,), bounds = bnds, constraints = cons, tol = 1e-10)\n",
    "pemv = minimize(fun = Minus_RatioSharpe, x0 = w0, args = (mean_lr, rf, cov), bounds = bnds, constraints = cons, tol = 1e-10)"
   ]
  },
  {
   "cell_type": "code",
   "execution_count": 23,
   "metadata": {},
   "outputs": [],
   "source": [
    "#Ponderaciones del portafolio eficiente en media-varianza\n",
    "w_pemv = pd.DataFrame(np.round(pemv.x.reshape(1, N), 4), columns = returns.columns, index = [\"Ponderación\"])\n",
    "w_pemv[w_pemv <= 0.0] = np.nan\n",
    "w_pemv.dropna(axis = 1, inplace = True)"
   ]
  },
  {
   "cell_type": "code",
   "execution_count": 27,
   "metadata": {},
   "outputs": [
    {
     "data": {
      "text/html": [
       "<div>\n",
       "<style scoped>\n",
       "    .dataframe tbody tr th:only-of-type {\n",
       "        vertical-align: middle;\n",
       "    }\n",
       "\n",
       "    .dataframe tbody tr th {\n",
       "        vertical-align: top;\n",
       "    }\n",
       "\n",
       "    .dataframe thead th {\n",
       "        text-align: right;\n",
       "    }\n",
       "</style>\n",
       "<table border=\"1\" class=\"dataframe\">\n",
       "  <thead>\n",
       "    <tr style=\"text-align: right;\">\n",
       "      <th>Symbols</th>\n",
       "      <th>GMEXICOB.MX</th>\n",
       "      <th>CEMEXCPO.MX</th>\n",
       "      <th>PE&amp;OLES.MX</th>\n",
       "      <th>CUERVO.MX</th>\n",
       "    </tr>\n",
       "    <tr>\n",
       "      <th>Date</th>\n",
       "      <th></th>\n",
       "      <th></th>\n",
       "      <th></th>\n",
       "      <th></th>\n",
       "    </tr>\n",
       "  </thead>\n",
       "  <tbody>\n",
       "    <tr>\n",
       "      <th>2020-01-31</th>\n",
       "      <td>42.370079</td>\n",
       "      <td>7.595000</td>\n",
       "      <td>197.247894</td>\n",
       "      <td>33.807869</td>\n",
       "    </tr>\n",
       "  </tbody>\n",
       "</table>\n",
       "</div>"
      ],
      "text/plain": [
       "Symbols     GMEXICOB.MX  CEMEXCPO.MX  PE&OLES.MX  CUERVO.MX\n",
       "Date                                                       \n",
       "2020-01-31    42.370079     7.595000  197.247894  33.807869"
      ]
     },
     "execution_count": 27,
     "metadata": {},
     "output_type": "execute_result"
    }
   ],
   "source": [
    "s0_pemv=s0[['GMEXICOB.MX', 'CEMEXCPO.MX', 'PE&OLES.MX', 'CUERVO.MX']]\n",
    "s0_pemv"
   ]
  },
  {
   "cell_type": "code",
   "execution_count": 31,
   "metadata": {},
   "outputs": [
    {
     "data": {
      "text/html": [
       "<div>\n",
       "<style scoped>\n",
       "    .dataframe tbody tr th:only-of-type {\n",
       "        vertical-align: middle;\n",
       "    }\n",
       "\n",
       "    .dataframe tbody tr th {\n",
       "        vertical-align: top;\n",
       "    }\n",
       "\n",
       "    .dataframe thead th {\n",
       "        text-align: right;\n",
       "    }\n",
       "</style>\n",
       "<table border=\"1\" class=\"dataframe\">\n",
       "  <thead>\n",
       "    <tr style=\"text-align: right;\">\n",
       "      <th>Symbols</th>\n",
       "      <th>GMEXICOB.MX</th>\n",
       "      <th>CEMEXCPO.MX</th>\n",
       "      <th>PE&amp;OLES.MX</th>\n",
       "      <th>CUERVO.MX</th>\n",
       "    </tr>\n",
       "  </thead>\n",
       "  <tbody>\n",
       "    <tr>\n",
       "      <th>2020-01-31 00:00:00</th>\n",
       "      <td>NaN</td>\n",
       "      <td>NaN</td>\n",
       "      <td>NaN</td>\n",
       "      <td>NaN</td>\n",
       "    </tr>\n",
       "    <tr>\n",
       "      <th>Ponderación</th>\n",
       "      <td>NaN</td>\n",
       "      <td>NaN</td>\n",
       "      <td>NaN</td>\n",
       "      <td>NaN</td>\n",
       "    </tr>\n",
       "  </tbody>\n",
       "</table>\n",
       "</div>"
      ],
      "text/plain": [
       "Symbols              GMEXICOB.MX  CEMEXCPO.MX  PE&OLES.MX  CUERVO.MX\n",
       "2020-01-31 00:00:00          NaN          NaN         NaN        NaN\n",
       "Ponderación                  NaN          NaN         NaN        NaN"
      ]
     },
     "execution_count": 31,
     "metadata": {},
     "output_type": "execute_result"
    }
   ],
   "source": [
    "titles=((w_pemv*capital)/s0_pemv)\n",
    "titles"
   ]
  },
  {
   "cell_type": "code",
   "execution_count": 25,
   "metadata": {},
   "outputs": [
    {
     "ename": "ValueError",
     "evalue": "Length mismatch: Expected axis has 2 elements, new values have 1 elements",
     "output_type": "error",
     "traceback": [
      "\u001b[1;31m---------------------------------------------------------------------------\u001b[0m",
      "\u001b[1;31mValueError\u001b[0m                                Traceback (most recent call last)",
      "\u001b[1;32mc:\\Users\\Esteban\\Desktop\\ITESO\\9°\\Microestructuras\\Github\\Microstructures\\Lab1\\notebook.ipynb Cell 25\u001b[0m in \u001b[0;36m<cell line: 4>\u001b[1;34m()\u001b[0m\n\u001b[0;32m      <a href='vscode-notebook-cell:/c%3A/Users/Esteban/Desktop/ITESO/9%C2%B0/Microestructuras/Github/Microstructures/Lab1/notebook.ipynb#X33sZmlsZQ%3D%3D?line=1'>2</a>\u001b[0m titles\u001b[39m=\u001b[39m(((w_pemv\u001b[39m*\u001b[39mcapital)\u001b[39m/\u001b[39ms0_pemv)\u001b[39m.\u001b[39mround(\u001b[39m0\u001b[39m))\n\u001b[0;32m      <a href='vscode-notebook-cell:/c%3A/Users/Esteban/Desktop/ITESO/9%C2%B0/Microestructuras/Github/Microstructures/Lab1/notebook.ipynb#X33sZmlsZQ%3D%3D?line=2'>3</a>\u001b[0m I_V\u001b[39m=\u001b[39m((w_pemv\u001b[39m*\u001b[39mcapital)\u001b[39m/\u001b[39ms0_pemv)\u001b[39m.\u001b[39mround(\u001b[39m0\u001b[39m)\u001b[39m*\u001b[39ms0_pemv\n\u001b[1;32m----> <a href='vscode-notebook-cell:/c%3A/Users/Esteban/Desktop/ITESO/9%C2%B0/Microestructuras/Github/Microstructures/Lab1/notebook.ipynb#X33sZmlsZQ%3D%3D?line=3'>4</a>\u001b[0m titles\u001b[39m.\u001b[39mindex\u001b[39m=\u001b[39m [\u001b[39m'\u001b[39m\u001b[39mTítulos\u001b[39m\u001b[39m'\u001b[39m]\n\u001b[0;32m      <a href='vscode-notebook-cell:/c%3A/Users/Esteban/Desktop/ITESO/9%C2%B0/Microestructuras/Github/Microstructures/Lab1/notebook.ipynb#X33sZmlsZQ%3D%3D?line=4'>5</a>\u001b[0m I_V\u001b[39m.\u001b[39mindex\u001b[39m=\u001b[39m [\u001b[39m'\u001b[39m\u001b[39mI_V\u001b[39m\u001b[39m'\u001b[39m]\n\u001b[0;32m      <a href='vscode-notebook-cell:/c%3A/Users/Esteban/Desktop/ITESO/9%C2%B0/Microestructuras/Github/Microstructures/Lab1/notebook.ipynb#X33sZmlsZQ%3D%3D?line=6'>7</a>\u001b[0m pd\u001b[39m.\u001b[39mconcat([w_pemv, titles, I_V])\n",
      "File \u001b[1;32mc:\\ProgramData\\Anaconda3\\lib\\site-packages\\pandas\\core\\generic.py:5588\u001b[0m, in \u001b[0;36mNDFrame.__setattr__\u001b[1;34m(self, name, value)\u001b[0m\n\u001b[0;32m   5586\u001b[0m \u001b[39mtry\u001b[39;00m:\n\u001b[0;32m   5587\u001b[0m     \u001b[39mobject\u001b[39m\u001b[39m.\u001b[39m\u001b[39m__getattribute__\u001b[39m(\u001b[39mself\u001b[39m, name)\n\u001b[1;32m-> 5588\u001b[0m     \u001b[39mreturn\u001b[39;00m \u001b[39mobject\u001b[39;49m\u001b[39m.\u001b[39;49m\u001b[39m__setattr__\u001b[39;49m(\u001b[39mself\u001b[39;49m, name, value)\n\u001b[0;32m   5589\u001b[0m \u001b[39mexcept\u001b[39;00m \u001b[39mAttributeError\u001b[39;00m:\n\u001b[0;32m   5590\u001b[0m     \u001b[39mpass\u001b[39;00m\n",
      "File \u001b[1;32mc:\\ProgramData\\Anaconda3\\lib\\site-packages\\pandas\\_libs\\properties.pyx:70\u001b[0m, in \u001b[0;36mpandas._libs.properties.AxisProperty.__set__\u001b[1;34m()\u001b[0m\n",
      "File \u001b[1;32mc:\\ProgramData\\Anaconda3\\lib\\site-packages\\pandas\\core\\generic.py:769\u001b[0m, in \u001b[0;36mNDFrame._set_axis\u001b[1;34m(self, axis, labels)\u001b[0m\n\u001b[0;32m    767\u001b[0m \u001b[39mdef\u001b[39;00m \u001b[39m_set_axis\u001b[39m(\u001b[39mself\u001b[39m, axis: \u001b[39mint\u001b[39m, labels: Index) \u001b[39m-\u001b[39m\u001b[39m>\u001b[39m \u001b[39mNone\u001b[39;00m:\n\u001b[0;32m    768\u001b[0m     labels \u001b[39m=\u001b[39m ensure_index(labels)\n\u001b[1;32m--> 769\u001b[0m     \u001b[39mself\u001b[39;49m\u001b[39m.\u001b[39;49m_mgr\u001b[39m.\u001b[39;49mset_axis(axis, labels)\n\u001b[0;32m    770\u001b[0m     \u001b[39mself\u001b[39m\u001b[39m.\u001b[39m_clear_item_cache()\n",
      "File \u001b[1;32mc:\\ProgramData\\Anaconda3\\lib\\site-packages\\pandas\\core\\internals\\managers.py:214\u001b[0m, in \u001b[0;36mBaseBlockManager.set_axis\u001b[1;34m(self, axis, new_labels)\u001b[0m\n\u001b[0;32m    212\u001b[0m \u001b[39mdef\u001b[39;00m \u001b[39mset_axis\u001b[39m(\u001b[39mself\u001b[39m, axis: \u001b[39mint\u001b[39m, new_labels: Index) \u001b[39m-\u001b[39m\u001b[39m>\u001b[39m \u001b[39mNone\u001b[39;00m:\n\u001b[0;32m    213\u001b[0m     \u001b[39m# Caller is responsible for ensuring we have an Index object.\u001b[39;00m\n\u001b[1;32m--> 214\u001b[0m     \u001b[39mself\u001b[39;49m\u001b[39m.\u001b[39;49m_validate_set_axis(axis, new_labels)\n\u001b[0;32m    215\u001b[0m     \u001b[39mself\u001b[39m\u001b[39m.\u001b[39maxes[axis] \u001b[39m=\u001b[39m new_labels\n",
      "File \u001b[1;32mc:\\ProgramData\\Anaconda3\\lib\\site-packages\\pandas\\core\\internals\\base.py:69\u001b[0m, in \u001b[0;36mDataManager._validate_set_axis\u001b[1;34m(self, axis, new_labels)\u001b[0m\n\u001b[0;32m     66\u001b[0m     \u001b[39mpass\u001b[39;00m\n\u001b[0;32m     68\u001b[0m \u001b[39melif\u001b[39;00m new_len \u001b[39m!=\u001b[39m old_len:\n\u001b[1;32m---> 69\u001b[0m     \u001b[39mraise\u001b[39;00m \u001b[39mValueError\u001b[39;00m(\n\u001b[0;32m     70\u001b[0m         \u001b[39mf\u001b[39m\u001b[39m\"\u001b[39m\u001b[39mLength mismatch: Expected axis has \u001b[39m\u001b[39m{\u001b[39;00mold_len\u001b[39m}\u001b[39;00m\u001b[39m elements, new \u001b[39m\u001b[39m\"\u001b[39m\n\u001b[0;32m     71\u001b[0m         \u001b[39mf\u001b[39m\u001b[39m\"\u001b[39m\u001b[39mvalues have \u001b[39m\u001b[39m{\u001b[39;00mnew_len\u001b[39m}\u001b[39;00m\u001b[39m elements\u001b[39m\u001b[39m\"\u001b[39m\n\u001b[0;32m     72\u001b[0m     )\n",
      "\u001b[1;31mValueError\u001b[0m: Length mismatch: Expected axis has 2 elements, new values have 1 elements"
     ]
    }
   ],
   "source": [
    "s0_pemv=s0[['GMEXICOB.MX', 'CEMEXCPO.MX', 'PE&OLES.MX', 'CUERVO.MX']]\n",
    "titles=(((w_pemv*capital)/s0_pemv).round(0))\n",
    "I_V=((w_pemv*capital)/s0_pemv).round(0)*s0_pemv\n",
    "titles.index= ['Títulos']\n",
    "I_V.index= ['I_V']\n",
    "\n",
    "pd.concat([w_pemv, titles, I_V])"
   ]
  },
  {
   "cell_type": "code",
   "execution_count": 24,
   "metadata": {},
   "outputs": [
    {
     "data": {
      "text/html": [
       "<div>\n",
       "<style scoped>\n",
       "    .dataframe tbody tr th:only-of-type {\n",
       "        vertical-align: middle;\n",
       "    }\n",
       "\n",
       "    .dataframe tbody tr th {\n",
       "        vertical-align: top;\n",
       "    }\n",
       "\n",
       "    .dataframe thead th {\n",
       "        text-align: right;\n",
       "    }\n",
       "</style>\n",
       "<table border=\"1\" class=\"dataframe\">\n",
       "  <thead>\n",
       "    <tr style=\"text-align: right;\">\n",
       "      <th>Symbols</th>\n",
       "      <th>GMEXICOB.MX</th>\n",
       "      <th>CEMEXCPO.MX</th>\n",
       "      <th>PE&amp;OLES.MX</th>\n",
       "      <th>CUERVO.MX</th>\n",
       "    </tr>\n",
       "    <tr>\n",
       "      <th>Date</th>\n",
       "      <th></th>\n",
       "      <th></th>\n",
       "      <th></th>\n",
       "      <th></th>\n",
       "    </tr>\n",
       "  </thead>\n",
       "  <tbody>\n",
       "    <tr>\n",
       "      <th>2020-01-31</th>\n",
       "      <td>42.370079</td>\n",
       "      <td>7.595000</td>\n",
       "      <td>197.247894</td>\n",
       "      <td>33.807869</td>\n",
       "    </tr>\n",
       "  </tbody>\n",
       "</table>\n",
       "</div>"
      ],
      "text/plain": [
       "Symbols     GMEXICOB.MX  CEMEXCPO.MX  PE&OLES.MX  CUERVO.MX\n",
       "Date                                                       \n",
       "2020-01-31    42.370079     7.595000  197.247894  33.807869"
      ]
     },
     "execution_count": 24,
     "metadata": {},
     "output_type": "execute_result"
    }
   ],
   "source": []
  },
  {
   "cell_type": "code",
   "execution_count": null,
   "metadata": {},
   "outputs": [
    {
     "data": {
      "text/html": [
       "<div>\n",
       "<style scoped>\n",
       "    .dataframe tbody tr th:only-of-type {\n",
       "        vertical-align: middle;\n",
       "    }\n",
       "\n",
       "    .dataframe tbody tr th {\n",
       "        vertical-align: top;\n",
       "    }\n",
       "\n",
       "    .dataframe thead th {\n",
       "        text-align: right;\n",
       "    }\n",
       "</style>\n",
       "<table border=\"1\" class=\"dataframe\">\n",
       "  <thead>\n",
       "    <tr style=\"text-align: right;\">\n",
       "      <th></th>\n",
       "      <th>Rendimiento</th>\n",
       "      <th>Volatilidad</th>\n",
       "      <th>Ratio Sharpe</th>\n",
       "    </tr>\n",
       "  </thead>\n",
       "  <tbody>\n",
       "    <tr>\n",
       "      <th>Portafolio EMV</th>\n",
       "      <td>0.556439</td>\n",
       "      <td>0.364886</td>\n",
       "      <td>1.334498</td>\n",
       "    </tr>\n",
       "  </tbody>\n",
       "</table>\n",
       "</div>"
      ],
      "text/plain": [
       "                Rendimiento  Volatilidad  Ratio Sharpe\n",
       "Portafolio EMV     0.556439     0.364886      1.334498"
      ]
     },
     "execution_count": 17,
     "metadata": {},
     "output_type": "execute_result"
    }
   ],
   "source": [
    "# Métricas del portafolio eficiente en media-varianza (anualizadas)\n",
    "Er_pemv = np.dot(pemv.x.T, mean_lr)\n",
    "s_pemv = (np.dot(pemv.x.T, np.dot(cov, pemv.x)))**0.5\n",
    "\n",
    "pemv_summary = pd.DataFrame({\"Rendimiento\" : Er_pemv, \"Volatilidad\" : s_pemv,\n",
    "                            \"Ratio Sharpe\" : (Er_pemv - rf) / s_pemv}, index = [\"Portafolio EMV\"])\n",
    "pemv_summary"
   ]
  },
  {
   "cell_type": "code",
   "execution_count": null,
   "metadata": {},
   "outputs": [
    {
     "name": "stderr",
     "output_type": "stream",
     "text": [
      "C:\\Users\\Esteban\\AppData\\Local\\Temp\\ipykernel_39376\\3094286725.py:26: UserWarning: color is redundantly defined by the 'color' keyword argument and the fmt string \"*b\" (-> color='b'). The keyword argument will take precedence.\n",
      "  plt.plot(s_pmv, Er_pmv, \"*b\", ms=13, color = \"dodgerblue\",\n"
     ]
    },
    {
     "data": {
      "text/plain": [
       "<matplotlib.legend.Legend at 0x1393291f1f0>"
      ]
     },
     "execution_count": 18,
     "metadata": {},
     "output_type": "execute_result"
    },
    {
     "data": {
      "image/png": "[encoded data removed]",
      "text/plain": [
       "<Figure size 1296x720 with 2 Axes>"
      ]
     },
     "metadata": {},
     "output_type": "display_data"
    }
   ],
   "source": [
    "## Gráfico\n",
    "#Estética\n",
    "plt.style.use('dark_background')\n",
    "plt.rc('grid', linestyle=\"--\", color='gray')\n",
    "plt.rc('ytick', labelsize=13, color='lightgreen')\n",
    "plt.rc('xtick', labelsize=13, color='red')\n",
    "\n",
    "# Frontera de mínima varianza\n",
    "w = np.linspace(0, 1, 100)\n",
    "Er_pmv = np.dot(pmv.x, mean_ret)\n",
    "s_pmv = (np.dot(pmv.x.T, np.dot(cov, pmv.x)))**0.5\n",
    "cov_pmv_pemv = np.dot(pmv.x.T, np.dot(cov, pemv.x))\n",
    "minvar_frontier = pd.DataFrame({\"Volatilidad\" : ((w*s_pemv)**2 + 2*w*(1-w)*cov_pmv_pemv + ((1-w)*s_pmv)**2)**0.5, \n",
    "                                \"Rendimiento\" : w*Er_pemv + (1 - w)*Er_pmv})\n",
    "minvar_frontier[\"Ratio Sharpe\"] = (minvar_frontier[\"Rendimiento\"] - rf) / minvar_frontier[\"Volatilidad\"]\n",
    "\n",
    "# LAC (Línea de Asignación de Capital)\n",
    "sp = np.linspace(0, 0.5)\n",
    "lac = pd.DataFrame({\"Volatilidad\" : sp, \"Rendimiento\" : pemv_summary[\"Ratio Sharpe\"].values[0]*sp + rf})\n",
    "\n",
    "# Visualización\n",
    "plt.figure(figsize = (18, 10))\n",
    "# Portafolio eficiente en media-varianza\n",
    "plt.plot(s_pemv, Er_pemv, \"*r\", ms=16, label = (\"EMV:\", 'E(r)=',Er_pemv.round(2),'σ=',s_pemv.round(2)))\n",
    "# Portafolio de mínima varianza\n",
    "plt.plot(s_pmv, Er_pmv, \"*b\", ms=13, color = \"dodgerblue\",\n",
    "         label = (\"Port. min. var.\", 'E(r)=',Er_pmv.round(2),'σ=',s_pmv.round(2)))\n",
    "# LAC\n",
    "plt.plot(lac[\"Volatilidad\"], lac[\"Rendimiento\"], \"--\", color = \"royalblue\", label = \"Línea de asignación de capital\")\n",
    "# Frontera de mínima varianza\n",
    "plt.scatter(minvar_frontier[\"Volatilidad\"], minvar_frontier[\"Rendimiento\"],\n",
    "            c = minvar_frontier[\"Ratio Sharpe\"], cmap = \"coolwarm\")\n",
    "plt.colorbar(orientation = \"horizontal\", pad=0.13).set_label(label='Sharpe Ratio',size='14', weight='roman', family=\"Bell MT\")\n",
    "\n",
    "# Activos individuales\n",
    "for i in range(len(stocks_summary)):\n",
    "    if stocks_summary.index[i] in w_pemv.columns:\n",
    "        plt.plot(stocks_summary.iloc[i, 1], stocks_summary.iloc[i, 0], \"*\", ms=10, label=('E(r)=',\n",
    "        stocks_summary.iloc[i, 0].round(2),'σ=',stocks_summary.iloc[i, 1].round(2)))\n",
    "\n",
    "        plt.text(stocks_summary.iloc[i, 1] + 0.003, stocks_summary.iloc[i, 0], stocks_summary.index[i])\n",
    "#Estética\n",
    "plt.title(\"E(r) vs σ from 31/1/2020 to 31/1/2021 \",size='17', weight='bold', family=\"Constantia\")\n",
    "plt.xlabel(\"Volatilidad (base anual) $\\sigma$\",size='15', weight='roman', family=\"Georgia\")\n",
    "plt.ylabel(\"Rendimiento esperado (base anual) $E[r]$\",size='15', weight='roman', family=\"Georgia\")\n",
    "plt.grid(True)\n",
    "plt.legend(loc = \"best\")"
   ]
  },
  {
   "cell_type": "code",
   "execution_count": null,
   "metadata": {},
   "outputs": [
    {
     "data": {
      "text/html": [
       "<div>\n",
       "<style scoped>\n",
       "    .dataframe tbody tr th:only-of-type {\n",
       "        vertical-align: middle;\n",
       "    }\n",
       "\n",
       "    .dataframe tbody tr th {\n",
       "        vertical-align: top;\n",
       "    }\n",
       "\n",
       "    .dataframe thead th {\n",
       "        text-align: right;\n",
       "    }\n",
       "</style>\n",
       "<table border=\"1\" class=\"dataframe\">\n",
       "  <thead>\n",
       "    <tr style=\"text-align: right;\">\n",
       "      <th></th>\n",
       "      <th>Rendimiento</th>\n",
       "      <th>Volatilidad</th>\n",
       "    </tr>\n",
       "    <tr>\n",
       "      <th>Symbols</th>\n",
       "      <th></th>\n",
       "      <th></th>\n",
       "    </tr>\n",
       "  </thead>\n",
       "  <tbody>\n",
       "    <tr>\n",
       "      <th>AMXL.MX</th>\n",
       "      <td>0.246945</td>\n",
       "      <td>0.227520</td>\n",
       "    </tr>\n",
       "    <tr>\n",
       "      <th>FEMSAUBD.MX</th>\n",
       "      <td>-0.033010</td>\n",
       "      <td>0.227044</td>\n",
       "    </tr>\n",
       "    <tr>\n",
       "      <th>GFNORTEO.MX</th>\n",
       "      <td>0.138703</td>\n",
       "      <td>0.361804</td>\n",
       "    </tr>\n",
       "    <tr>\n",
       "      <th>WALMEX.MX</th>\n",
       "      <td>0.149283</td>\n",
       "      <td>0.267889</td>\n",
       "    </tr>\n",
       "    <tr>\n",
       "      <th>GMEXICOB.MX</th>\n",
       "      <td>-0.017934</td>\n",
       "      <td>0.385077</td>\n",
       "    </tr>\n",
       "    <tr>\n",
       "      <th>CEMEXCPO.MX</th>\n",
       "      <td>-0.278956</td>\n",
       "      <td>0.397762</td>\n",
       "    </tr>\n",
       "    <tr>\n",
       "      <th>TLEVISACPO.MX</th>\n",
       "      <td>0.010353</td>\n",
       "      <td>0.392026</td>\n",
       "    </tr>\n",
       "    <tr>\n",
       "      <th>GAPB.MX</th>\n",
       "      <td>0.227818</td>\n",
       "      <td>0.296398</td>\n",
       "    </tr>\n",
       "    <tr>\n",
       "      <th>ELEKTRA.MX</th>\n",
       "      <td>-0.095825</td>\n",
       "      <td>0.175817</td>\n",
       "    </tr>\n",
       "    <tr>\n",
       "      <th>ASURB.MX</th>\n",
       "      <td>0.132580</td>\n",
       "      <td>0.265760</td>\n",
       "    </tr>\n",
       "    <tr>\n",
       "      <th>KIMBERA.MX</th>\n",
       "      <td>-0.067219</td>\n",
       "      <td>0.275812</td>\n",
       "    </tr>\n",
       "    <tr>\n",
       "      <th>BIMBOA.MX</th>\n",
       "      <td>0.414258</td>\n",
       "      <td>0.346994</td>\n",
       "    </tr>\n",
       "    <tr>\n",
       "      <th>OMAB.MX</th>\n",
       "      <td>0.117931</td>\n",
       "      <td>0.274493</td>\n",
       "    </tr>\n",
       "    <tr>\n",
       "      <th>AC.MX</th>\n",
       "      <td>0.316008</td>\n",
       "      <td>0.216106</td>\n",
       "    </tr>\n",
       "    <tr>\n",
       "      <th>GFINBURO.MX</th>\n",
       "      <td>0.452431</td>\n",
       "      <td>0.296901</td>\n",
       "    </tr>\n",
       "    <tr>\n",
       "      <th>IENOVA.MX</th>\n",
       "      <td>-0.020958</td>\n",
       "      <td>0.159810</td>\n",
       "    </tr>\n",
       "    <tr>\n",
       "      <th>PINFRA.MX</th>\n",
       "      <td>-0.014255</td>\n",
       "      <td>0.215682</td>\n",
       "    </tr>\n",
       "    <tr>\n",
       "      <th>GRUMAB.MX</th>\n",
       "      <td>0.094619</td>\n",
       "      <td>0.245064</td>\n",
       "    </tr>\n",
       "    <tr>\n",
       "      <th>ORBIA.MX</th>\n",
       "      <td>0.011367</td>\n",
       "      <td>0.264822</td>\n",
       "    </tr>\n",
       "    <tr>\n",
       "      <th>ALFAA.MX</th>\n",
       "      <td>0.104088</td>\n",
       "      <td>0.281786</td>\n",
       "    </tr>\n",
       "    <tr>\n",
       "      <th>GCARSOA1.MX</th>\n",
       "      <td>0.297150</td>\n",
       "      <td>0.357802</td>\n",
       "    </tr>\n",
       "    <tr>\n",
       "      <th>PE&amp;OLES.MX</th>\n",
       "      <td>-0.316183</td>\n",
       "      <td>0.361262</td>\n",
       "    </tr>\n",
       "    <tr>\n",
       "      <th>ALSEA.MX</th>\n",
       "      <td>0.342059</td>\n",
       "      <td>0.332932</td>\n",
       "    </tr>\n",
       "    <tr>\n",
       "      <th>BBAJIOO.MX</th>\n",
       "      <td>0.536308</td>\n",
       "      <td>0.310490</td>\n",
       "    </tr>\n",
       "    <tr>\n",
       "      <th>GENTERA.MX</th>\n",
       "      <td>0.501607</td>\n",
       "      <td>0.368781</td>\n",
       "    </tr>\n",
       "    <tr>\n",
       "      <th>MEGACPO.MX</th>\n",
       "      <td>-0.272744</td>\n",
       "      <td>0.235970</td>\n",
       "    </tr>\n",
       "    <tr>\n",
       "      <th>LIVEPOLC-1.MX</th>\n",
       "      <td>0.252629</td>\n",
       "      <td>0.273933</td>\n",
       "    </tr>\n",
       "    <tr>\n",
       "      <th>BOLSAA.MX</th>\n",
       "      <td>-0.074796</td>\n",
       "      <td>0.262249</td>\n",
       "    </tr>\n",
       "    <tr>\n",
       "      <th>CUERVO.MX</th>\n",
       "      <td>0.025537</td>\n",
       "      <td>0.271081</td>\n",
       "    </tr>\n",
       "    <tr>\n",
       "      <th>LABB.MX</th>\n",
       "      <td>-0.010145</td>\n",
       "      <td>0.288873</td>\n",
       "    </tr>\n",
       "    <tr>\n",
       "      <th>GCC.MX</th>\n",
       "      <td>-0.002649</td>\n",
       "      <td>0.257116</td>\n",
       "    </tr>\n",
       "    <tr>\n",
       "      <th>RA.MX</th>\n",
       "      <td>0.279798</td>\n",
       "      <td>0.316525</td>\n",
       "    </tr>\n",
       "    <tr>\n",
       "      <th>ALPEKA.MX</th>\n",
       "      <td>0.287120</td>\n",
       "      <td>0.277735</td>\n",
       "    </tr>\n",
       "  </tbody>\n",
       "</table>\n",
       "</div>"
      ],
      "text/plain": [
       "               Rendimiento  Volatilidad\n",
       "Symbols                                \n",
       "AMXL.MX           0.246945     0.227520\n",
       "FEMSAUBD.MX      -0.033010     0.227044\n",
       "GFNORTEO.MX       0.138703     0.361804\n",
       "WALMEX.MX         0.149283     0.267889\n",
       "GMEXICOB.MX      -0.017934     0.385077\n",
       "CEMEXCPO.MX      -0.278956     0.397762\n",
       "TLEVISACPO.MX     0.010353     0.392026\n",
       "GAPB.MX           0.227818     0.296398\n",
       "ELEKTRA.MX       -0.095825     0.175817\n",
       "ASURB.MX          0.132580     0.265760\n",
       "KIMBERA.MX       -0.067219     0.275812\n",
       "BIMBOA.MX         0.414258     0.346994\n",
       "OMAB.MX           0.117931     0.274493\n",
       "AC.MX             0.316008     0.216106\n",
       "GFINBURO.MX       0.452431     0.296901\n",
       "IENOVA.MX        -0.020958     0.159810\n",
       "PINFRA.MX        -0.014255     0.215682\n",
       "GRUMAB.MX         0.094619     0.245064\n",
       "ORBIA.MX          0.011367     0.264822\n",
       "ALFAA.MX          0.104088     0.281786\n",
       "GCARSOA1.MX       0.297150     0.357802\n",
       "PE&OLES.MX       -0.316183     0.361262\n",
       "ALSEA.MX          0.342059     0.332932\n",
       "BBAJIOO.MX        0.536308     0.310490\n",
       "GENTERA.MX        0.501607     0.368781\n",
       "MEGACPO.MX       -0.272744     0.235970\n",
       "LIVEPOLC-1.MX     0.252629     0.273933\n",
       "BOLSAA.MX        -0.074796     0.262249\n",
       "CUERVO.MX         0.025537     0.271081\n",
       "LABB.MX          -0.010145     0.288873\n",
       "GCC.MX           -0.002649     0.257116\n",
       "RA.MX             0.279798     0.316525\n",
       "ALPEKA.MX         0.287120     0.277735"
      ]
     },
     "execution_count": 21,
     "metadata": {},
     "output_type": "execute_result"
    }
   ],
   "source": [
    "#Dates\n",
    "start = datetime.datetime(2021,1,31) #Portfolio conformation.\n",
    "end = datetime.datetime(2022,7,29) #Portfolio EMV maximization end date.\n",
    "\n",
    "#Daily Adj. closes df \n",
    "df = pdr.DataReader(tickers, 'yahoo',start,end)[\"Adj Close\"] #Adj. closes download\n",
    "# Mean, Std, and Covariance from returns.\n",
    "returns = df.pct_change().fillna(0) #NAs filled w/ 0s to preserve daily returns for all rows (days) in every column (ticker)\n",
    "mean_ret = returns.mean() * 252 \n",
    "cov = returns.cov() * 252\n",
    "stocks_summary = pd.DataFrame({\"Rendimiento\" : mean_ret, \"Volatilidad\" : returns.std()*np.sqrt(252)})\n",
    "stocks_summary\n",
    "\n"
   ]
  },
  {
   "cell_type": "code",
   "execution_count": null,
   "metadata": {},
   "outputs": [
    {
     "data": {
      "text/html": [
       "<style type=\"text/css\">\n",
       "#T_b3b8c_row0_col0, #T_b3b8c_row0_col1, #T_b3b8c_row0_col2, #T_b3b8c_row0_col3, #T_b3b8c_row0_col4, #T_b3b8c_row0_col5, #T_b3b8c_row0_col6, #T_b3b8c_row0_col7, #T_b3b8c_row0_col8, #T_b3b8c_row0_col9, #T_b3b8c_row0_col10, #T_b3b8c_row0_col11, #T_b3b8c_row0_col12, #T_b3b8c_row0_col13, #T_b3b8c_row0_col14, #T_b3b8c_row0_col15, #T_b3b8c_row0_col16, #T_b3b8c_row0_col17, #T_b3b8c_row0_col18, #T_b3b8c_row0_col19, #T_b3b8c_row0_col21, #T_b3b8c_row0_col22, #T_b3b8c_row0_col23, #T_b3b8c_row0_col25, #T_b3b8c_row0_col26, #T_b3b8c_row0_col27, #T_b3b8c_row0_col29, #T_b3b8c_row0_col30, #T_b3b8c_row0_col31, #T_b3b8c_row0_col32, #T_b3b8c_row1_col0, #T_b3b8c_row1_col1, #T_b3b8c_row1_col2, #T_b3b8c_row1_col3, #T_b3b8c_row1_col4, #T_b3b8c_row1_col5, #T_b3b8c_row1_col6, #T_b3b8c_row1_col7, #T_b3b8c_row1_col8, #T_b3b8c_row1_col9, #T_b3b8c_row1_col10, #T_b3b8c_row1_col11, #T_b3b8c_row1_col12, #T_b3b8c_row1_col13, #T_b3b8c_row1_col14, #T_b3b8c_row1_col15, #T_b3b8c_row1_col17, #T_b3b8c_row1_col18, #T_b3b8c_row1_col19, #T_b3b8c_row1_col20, #T_b3b8c_row1_col21, #T_b3b8c_row1_col22, #T_b3b8c_row1_col23, #T_b3b8c_row1_col24, #T_b3b8c_row1_col25, #T_b3b8c_row1_col26, #T_b3b8c_row1_col27, #T_b3b8c_row1_col28, #T_b3b8c_row1_col29, #T_b3b8c_row1_col30, #T_b3b8c_row1_col31, #T_b3b8c_row1_col32, #T_b3b8c_row2_col0, #T_b3b8c_row2_col1, #T_b3b8c_row2_col2, #T_b3b8c_row2_col3, #T_b3b8c_row2_col4, #T_b3b8c_row2_col5, #T_b3b8c_row2_col6, #T_b3b8c_row2_col7, #T_b3b8c_row2_col8, #T_b3b8c_row2_col9, #T_b3b8c_row2_col10, #T_b3b8c_row2_col11, #T_b3b8c_row2_col12, #T_b3b8c_row2_col13, #T_b3b8c_row2_col14, #T_b3b8c_row2_col15, #T_b3b8c_row2_col16, #T_b3b8c_row2_col17, #T_b3b8c_row2_col18, #T_b3b8c_row2_col19, #T_b3b8c_row2_col20, #T_b3b8c_row2_col21, #T_b3b8c_row2_col22, #T_b3b8c_row2_col23, #T_b3b8c_row2_col24, #T_b3b8c_row2_col25, #T_b3b8c_row2_col26, #T_b3b8c_row2_col27, #T_b3b8c_row2_col28, #T_b3b8c_row2_col29, #T_b3b8c_row2_col30, #T_b3b8c_row2_col31, #T_b3b8c_row2_col32, #T_b3b8c_row3_col0, #T_b3b8c_row3_col1, #T_b3b8c_row3_col2, #T_b3b8c_row3_col3, #T_b3b8c_row3_col4, #T_b3b8c_row3_col5, #T_b3b8c_row3_col6, #T_b3b8c_row3_col7, #T_b3b8c_row3_col8, #T_b3b8c_row3_col9, #T_b3b8c_row3_col10, #T_b3b8c_row3_col11, #T_b3b8c_row3_col12, #T_b3b8c_row3_col13, #T_b3b8c_row3_col14, #T_b3b8c_row3_col15, #T_b3b8c_row3_col16, #T_b3b8c_row3_col17, #T_b3b8c_row3_col18, #T_b3b8c_row3_col19, #T_b3b8c_row3_col20, #T_b3b8c_row3_col21, #T_b3b8c_row3_col22, #T_b3b8c_row3_col23, #T_b3b8c_row3_col24, #T_b3b8c_row3_col25, #T_b3b8c_row3_col26, #T_b3b8c_row3_col27, #T_b3b8c_row3_col28, #T_b3b8c_row3_col29, #T_b3b8c_row3_col30, #T_b3b8c_row3_col31, #T_b3b8c_row3_col32, #T_b3b8c_row4_col0, #T_b3b8c_row4_col1, #T_b3b8c_row4_col2, #T_b3b8c_row4_col3, #T_b3b8c_row4_col4, #T_b3b8c_row4_col5, #T_b3b8c_row4_col6, #T_b3b8c_row4_col7, #T_b3b8c_row4_col8, #T_b3b8c_row4_col9, #T_b3b8c_row4_col10, #T_b3b8c_row4_col11, #T_b3b8c_row4_col12, #T_b3b8c_row4_col13, #T_b3b8c_row4_col14, #T_b3b8c_row4_col15, #T_b3b8c_row4_col16, #T_b3b8c_row4_col17, #T_b3b8c_row4_col18, #T_b3b8c_row4_col19, #T_b3b8c_row4_col20, #T_b3b8c_row4_col21, #T_b3b8c_row4_col22, #T_b3b8c_row4_col23, #T_b3b8c_row4_col24, #T_b3b8c_row4_col25, #T_b3b8c_row4_col26, #T_b3b8c_row4_col27, #T_b3b8c_row4_col28, #T_b3b8c_row4_col29, #T_b3b8c_row4_col30, #T_b3b8c_row4_col31, #T_b3b8c_row4_col32, #T_b3b8c_row5_col0, #T_b3b8c_row5_col1, #T_b3b8c_row5_col2, #T_b3b8c_row5_col3, #T_b3b8c_row5_col5, #T_b3b8c_row5_col6, #T_b3b8c_row5_col7, #T_b3b8c_row5_col8, #T_b3b8c_row5_col9, #T_b3b8c_row5_col10, #T_b3b8c_row5_col11, #T_b3b8c_row5_col12, #T_b3b8c_row5_col13, #T_b3b8c_row5_col14, #T_b3b8c_row5_col15, #T_b3b8c_row5_col16, #T_b3b8c_row5_col17, #T_b3b8c_row5_col18, #T_b3b8c_row5_col19, #T_b3b8c_row5_col20, #T_b3b8c_row5_col21, #T_b3b8c_row5_col22, #T_b3b8c_row5_col23, #T_b3b8c_row5_col24, #T_b3b8c_row5_col25, #T_b3b8c_row5_col26, #T_b3b8c_row5_col27, #T_b3b8c_row5_col28, #T_b3b8c_row5_col29, #T_b3b8c_row5_col30, #T_b3b8c_row5_col31, #T_b3b8c_row5_col32, #T_b3b8c_row6_col0, #T_b3b8c_row6_col1, #T_b3b8c_row6_col2, #T_b3b8c_row6_col3, #T_b3b8c_row6_col4, #T_b3b8c_row6_col5, #T_b3b8c_row6_col6, #T_b3b8c_row6_col7, #T_b3b8c_row6_col8, #T_b3b8c_row6_col9, #T_b3b8c_row6_col10, #T_b3b8c_row6_col11, #T_b3b8c_row6_col12, #T_b3b8c_row6_col13, #T_b3b8c_row6_col14, #T_b3b8c_row6_col15, #T_b3b8c_row6_col16, #T_b3b8c_row6_col17, #T_b3b8c_row6_col18, #T_b3b8c_row6_col19, #T_b3b8c_row6_col21, #T_b3b8c_row6_col22, #T_b3b8c_row6_col23, #T_b3b8c_row6_col24, #T_b3b8c_row6_col25, #T_b3b8c_row6_col26, #T_b3b8c_row6_col27, #T_b3b8c_row6_col29, #T_b3b8c_row6_col30, #T_b3b8c_row6_col31, #T_b3b8c_row6_col32, #T_b3b8c_row7_col0, #T_b3b8c_row7_col1, #T_b3b8c_row7_col2, #T_b3b8c_row7_col3, #T_b3b8c_row7_col4, #T_b3b8c_row7_col5, #T_b3b8c_row7_col6, #T_b3b8c_row7_col7, #T_b3b8c_row7_col8, #T_b3b8c_row7_col9, #T_b3b8c_row7_col10, #T_b3b8c_row7_col11, #T_b3b8c_row7_col12, #T_b3b8c_row7_col13, #T_b3b8c_row7_col14, #T_b3b8c_row7_col16, #T_b3b8c_row7_col17, #T_b3b8c_row7_col18, #T_b3b8c_row7_col19, #T_b3b8c_row7_col20, #T_b3b8c_row7_col21, #T_b3b8c_row7_col22, #T_b3b8c_row7_col23, #T_b3b8c_row7_col24, #T_b3b8c_row7_col25, #T_b3b8c_row7_col26, #T_b3b8c_row7_col27, #T_b3b8c_row7_col28, #T_b3b8c_row7_col29, #T_b3b8c_row7_col30, #T_b3b8c_row7_col31, #T_b3b8c_row7_col32, #T_b3b8c_row8_col0, #T_b3b8c_row8_col1, #T_b3b8c_row8_col2, #T_b3b8c_row8_col3, #T_b3b8c_row8_col4, #T_b3b8c_row8_col5, #T_b3b8c_row8_col6, #T_b3b8c_row8_col7, #T_b3b8c_row8_col8, #T_b3b8c_row8_col9, #T_b3b8c_row8_col10, #T_b3b8c_row8_col12, #T_b3b8c_row8_col13, #T_b3b8c_row8_col14, #T_b3b8c_row8_col15, #T_b3b8c_row8_col16, #T_b3b8c_row8_col17, #T_b3b8c_row8_col18, #T_b3b8c_row8_col19, #T_b3b8c_row8_col20, #T_b3b8c_row8_col22, #T_b3b8c_row8_col23, #T_b3b8c_row8_col24, #T_b3b8c_row8_col25, #T_b3b8c_row8_col26, #T_b3b8c_row8_col27, #T_b3b8c_row8_col28, #T_b3b8c_row8_col29, #T_b3b8c_row8_col30, #T_b3b8c_row8_col31, #T_b3b8c_row8_col32, #T_b3b8c_row9_col0, #T_b3b8c_row9_col1, #T_b3b8c_row9_col2, #T_b3b8c_row9_col3, #T_b3b8c_row9_col4, #T_b3b8c_row9_col5, #T_b3b8c_row9_col6, #T_b3b8c_row9_col7, #T_b3b8c_row9_col8, #T_b3b8c_row9_col9, #T_b3b8c_row9_col10, #T_b3b8c_row9_col12, #T_b3b8c_row9_col13, #T_b3b8c_row9_col14, #T_b3b8c_row9_col15, #T_b3b8c_row9_col16, #T_b3b8c_row9_col17, #T_b3b8c_row9_col18, #T_b3b8c_row9_col19, #T_b3b8c_row9_col21, #T_b3b8c_row9_col22, #T_b3b8c_row9_col23, #T_b3b8c_row9_col24, #T_b3b8c_row9_col25, #T_b3b8c_row9_col26, #T_b3b8c_row9_col27, #T_b3b8c_row9_col28, #T_b3b8c_row9_col29, #T_b3b8c_row9_col30, #T_b3b8c_row9_col31, #T_b3b8c_row10_col0, #T_b3b8c_row10_col1, #T_b3b8c_row10_col2, #T_b3b8c_row10_col3, #T_b3b8c_row10_col4, #T_b3b8c_row10_col5, #T_b3b8c_row10_col6, #T_b3b8c_row10_col7, #T_b3b8c_row10_col8, #T_b3b8c_row10_col9, #T_b3b8c_row10_col10, #T_b3b8c_row10_col11, #T_b3b8c_row10_col12, #T_b3b8c_row10_col13, #T_b3b8c_row10_col14, #T_b3b8c_row10_col15, #T_b3b8c_row10_col16, #T_b3b8c_row10_col17, #T_b3b8c_row10_col18, #T_b3b8c_row10_col19, #T_b3b8c_row10_col20, #T_b3b8c_row10_col21, #T_b3b8c_row10_col22, #T_b3b8c_row10_col23, #T_b3b8c_row10_col24, #T_b3b8c_row10_col25, #T_b3b8c_row10_col26, #T_b3b8c_row10_col27, #T_b3b8c_row10_col28, #T_b3b8c_row10_col29, #T_b3b8c_row10_col30, #T_b3b8c_row10_col31, #T_b3b8c_row10_col32, #T_b3b8c_row11_col0, #T_b3b8c_row11_col1, #T_b3b8c_row11_col2, #T_b3b8c_row11_col3, #T_b3b8c_row11_col4, #T_b3b8c_row11_col5, #T_b3b8c_row11_col7, #T_b3b8c_row11_col8, #T_b3b8c_row11_col9, #T_b3b8c_row11_col10, #T_b3b8c_row11_col11, #T_b3b8c_row11_col12, #T_b3b8c_row11_col13, #T_b3b8c_row11_col14, #T_b3b8c_row11_col15, #T_b3b8c_row11_col16, #T_b3b8c_row11_col17, #T_b3b8c_row11_col18, #T_b3b8c_row11_col19, #T_b3b8c_row11_col20, #T_b3b8c_row11_col21, #T_b3b8c_row11_col22, #T_b3b8c_row11_col23, #T_b3b8c_row11_col24, #T_b3b8c_row11_col25, #T_b3b8c_row11_col26, #T_b3b8c_row11_col27, #T_b3b8c_row11_col29, #T_b3b8c_row11_col30, #T_b3b8c_row11_col31, #T_b3b8c_row11_col32, #T_b3b8c_row12_col0, #T_b3b8c_row12_col1, #T_b3b8c_row12_col2, #T_b3b8c_row12_col3, #T_b3b8c_row12_col4, #T_b3b8c_row12_col5, #T_b3b8c_row12_col6, #T_b3b8c_row12_col7, #T_b3b8c_row12_col8, #T_b3b8c_row12_col9, #T_b3b8c_row12_col10, #T_b3b8c_row12_col11, #T_b3b8c_row12_col12, #T_b3b8c_row12_col13, #T_b3b8c_row12_col14, #T_b3b8c_row12_col15, #T_b3b8c_row12_col16, #T_b3b8c_row12_col17, #T_b3b8c_row12_col18, #T_b3b8c_row12_col19, #T_b3b8c_row12_col20, #T_b3b8c_row12_col21, #T_b3b8c_row12_col22, #T_b3b8c_row12_col23, #T_b3b8c_row12_col24, #T_b3b8c_row12_col25, #T_b3b8c_row12_col26, #T_b3b8c_row12_col27, #T_b3b8c_row12_col28, #T_b3b8c_row12_col29, #T_b3b8c_row12_col30, #T_b3b8c_row12_col31, #T_b3b8c_row12_col32, #T_b3b8c_row13_col0, #T_b3b8c_row13_col1, #T_b3b8c_row13_col2, #T_b3b8c_row13_col3, #T_b3b8c_row13_col4, #T_b3b8c_row13_col5, #T_b3b8c_row13_col6, #T_b3b8c_row13_col7, #T_b3b8c_row13_col8, #T_b3b8c_row13_col9, #T_b3b8c_row13_col10, #T_b3b8c_row13_col11, #T_b3b8c_row13_col12, #T_b3b8c_row13_col13, #T_b3b8c_row13_col14, #T_b3b8c_row13_col15, #T_b3b8c_row13_col16, #T_b3b8c_row13_col17, #T_b3b8c_row13_col18, #T_b3b8c_row13_col19, #T_b3b8c_row13_col20, #T_b3b8c_row13_col21, #T_b3b8c_row13_col22, #T_b3b8c_row13_col23, #T_b3b8c_row13_col24, #T_b3b8c_row13_col25, #T_b3b8c_row13_col26, #T_b3b8c_row13_col27, #T_b3b8c_row13_col28, #T_b3b8c_row13_col29, #T_b3b8c_row13_col30, #T_b3b8c_row13_col31, #T_b3b8c_row13_col32, #T_b3b8c_row14_col0, #T_b3b8c_row14_col1, #T_b3b8c_row14_col2, #T_b3b8c_row14_col3, #T_b3b8c_row14_col4, #T_b3b8c_row14_col5, #T_b3b8c_row14_col6, #T_b3b8c_row14_col7, #T_b3b8c_row14_col8, #T_b3b8c_row14_col9, #T_b3b8c_row14_col10, #T_b3b8c_row14_col11, #T_b3b8c_row14_col12, #T_b3b8c_row14_col13, #T_b3b8c_row14_col14, #T_b3b8c_row14_col15, #T_b3b8c_row14_col16, #T_b3b8c_row14_col17, #T_b3b8c_row14_col18, #T_b3b8c_row14_col19, #T_b3b8c_row14_col20, #T_b3b8c_row14_col21, #T_b3b8c_row14_col22, #T_b3b8c_row14_col23, #T_b3b8c_row14_col24, #T_b3b8c_row14_col25, #T_b3b8c_row14_col26, #T_b3b8c_row14_col27, #T_b3b8c_row14_col29, #T_b3b8c_row14_col30, #T_b3b8c_row14_col31, #T_b3b8c_row14_col32, #T_b3b8c_row15_col0, #T_b3b8c_row15_col1, #T_b3b8c_row15_col2, #T_b3b8c_row15_col3, #T_b3b8c_row15_col4, #T_b3b8c_row15_col5, #T_b3b8c_row15_col6, #T_b3b8c_row15_col7, #T_b3b8c_row15_col8, #T_b3b8c_row15_col9, #T_b3b8c_row15_col10, #T_b3b8c_row15_col12, #T_b3b8c_row15_col13, #T_b3b8c_row15_col14, #T_b3b8c_row15_col15, #T_b3b8c_row15_col16, #T_b3b8c_row15_col17, #T_b3b8c_row15_col18, #T_b3b8c_row15_col19, #T_b3b8c_row15_col20, #T_b3b8c_row15_col21, #T_b3b8c_row15_col22, #T_b3b8c_row15_col23, #T_b3b8c_row15_col24, #T_b3b8c_row15_col25, #T_b3b8c_row15_col28, #T_b3b8c_row15_col29, #T_b3b8c_row15_col30, #T_b3b8c_row15_col32, #T_b3b8c_row16_col0, #T_b3b8c_row16_col1, #T_b3b8c_row16_col2, #T_b3b8c_row16_col3, #T_b3b8c_row16_col4, #T_b3b8c_row16_col5, #T_b3b8c_row16_col7, #T_b3b8c_row16_col9, #T_b3b8c_row16_col10, #T_b3b8c_row16_col11, #T_b3b8c_row16_col12, #T_b3b8c_row16_col13, #T_b3b8c_row16_col14, #T_b3b8c_row16_col15, #T_b3b8c_row16_col16, #T_b3b8c_row16_col17, #T_b3b8c_row16_col18, #T_b3b8c_row16_col19, #T_b3b8c_row16_col20, #T_b3b8c_row16_col21, #T_b3b8c_row16_col22, #T_b3b8c_row16_col23, #T_b3b8c_row16_col24, #T_b3b8c_row16_col25, #T_b3b8c_row16_col26, #T_b3b8c_row16_col27, #T_b3b8c_row16_col28, #T_b3b8c_row16_col29, #T_b3b8c_row16_col30, #T_b3b8c_row16_col31, #T_b3b8c_row16_col32, #T_b3b8c_row17_col0, #T_b3b8c_row17_col1, #T_b3b8c_row17_col2, #T_b3b8c_row17_col3, #T_b3b8c_row17_col4, #T_b3b8c_row17_col5, #T_b3b8c_row17_col6, #T_b3b8c_row17_col7, #T_b3b8c_row17_col8, #T_b3b8c_row17_col9, #T_b3b8c_row17_col10, #T_b3b8c_row17_col11, #T_b3b8c_row17_col12, #T_b3b8c_row17_col13, #T_b3b8c_row17_col14, #T_b3b8c_row17_col15, #T_b3b8c_row17_col16, #T_b3b8c_row17_col17, #T_b3b8c_row17_col18, #T_b3b8c_row17_col19, #T_b3b8c_row17_col20, #T_b3b8c_row17_col21, #T_b3b8c_row17_col22, #T_b3b8c_row17_col23, #T_b3b8c_row17_col24, #T_b3b8c_row17_col25, #T_b3b8c_row17_col26, #T_b3b8c_row17_col27, #T_b3b8c_row17_col28, #T_b3b8c_row17_col29, #T_b3b8c_row17_col30, #T_b3b8c_row17_col31, #T_b3b8c_row17_col32 {\n",
       "  color: gray;\n",
       "}\n",
       "#T_b3b8c_row0_col20, #T_b3b8c_row0_col24, #T_b3b8c_row0_col28, #T_b3b8c_row6_col20, #T_b3b8c_row6_col28, #T_b3b8c_row7_col15, #T_b3b8c_row8_col11, #T_b3b8c_row9_col11, #T_b3b8c_row9_col20, #T_b3b8c_row9_col32, #T_b3b8c_row11_col6, #T_b3b8c_row11_col28, #T_b3b8c_row14_col28, #T_b3b8c_row15_col11, #T_b3b8c_row15_col26, #T_b3b8c_row16_col8 {\n",
       "  color: green;\n",
       "}\n",
       "#T_b3b8c_row1_col16, #T_b3b8c_row5_col4, #T_b3b8c_row8_col21, #T_b3b8c_row15_col27, #T_b3b8c_row15_col31, #T_b3b8c_row16_col6 {\n",
       "  color: red;\n",
       "}\n",
       "</style>\n",
       "<table id=\"T_b3b8c\">\n",
       "  <thead>\n",
       "    <tr>\n",
       "      <th class=\"index_name level0\" >Symbols</th>\n",
       "      <th id=\"T_b3b8c_level0_col0\" class=\"col_heading level0 col0\" >AMXL.MX</th>\n",
       "      <th id=\"T_b3b8c_level0_col1\" class=\"col_heading level0 col1\" >FEMSAUBD.MX</th>\n",
       "      <th id=\"T_b3b8c_level0_col2\" class=\"col_heading level0 col2\" >GFNORTEO.MX</th>\n",
       "      <th id=\"T_b3b8c_level0_col3\" class=\"col_heading level0 col3\" >WALMEX.MX</th>\n",
       "      <th id=\"T_b3b8c_level0_col4\" class=\"col_heading level0 col4\" >GMEXICOB.MX</th>\n",
       "      <th id=\"T_b3b8c_level0_col5\" class=\"col_heading level0 col5\" >CEMEXCPO.MX</th>\n",
       "      <th id=\"T_b3b8c_level0_col6\" class=\"col_heading level0 col6\" >TLEVISACPO.MX</th>\n",
       "      <th id=\"T_b3b8c_level0_col7\" class=\"col_heading level0 col7\" >GAPB.MX</th>\n",
       "      <th id=\"T_b3b8c_level0_col8\" class=\"col_heading level0 col8\" >ELEKTRA.MX</th>\n",
       "      <th id=\"T_b3b8c_level0_col9\" class=\"col_heading level0 col9\" >ASURB.MX</th>\n",
       "      <th id=\"T_b3b8c_level0_col10\" class=\"col_heading level0 col10\" >KIMBERA.MX</th>\n",
       "      <th id=\"T_b3b8c_level0_col11\" class=\"col_heading level0 col11\" >BIMBOA.MX</th>\n",
       "      <th id=\"T_b3b8c_level0_col12\" class=\"col_heading level0 col12\" >OMAB.MX</th>\n",
       "      <th id=\"T_b3b8c_level0_col13\" class=\"col_heading level0 col13\" >AC.MX</th>\n",
       "      <th id=\"T_b3b8c_level0_col14\" class=\"col_heading level0 col14\" >GFINBURO.MX</th>\n",
       "      <th id=\"T_b3b8c_level0_col15\" class=\"col_heading level0 col15\" >IENOVA.MX</th>\n",
       "      <th id=\"T_b3b8c_level0_col16\" class=\"col_heading level0 col16\" >PINFRA.MX</th>\n",
       "      <th id=\"T_b3b8c_level0_col17\" class=\"col_heading level0 col17\" >GRUMAB.MX</th>\n",
       "      <th id=\"T_b3b8c_level0_col18\" class=\"col_heading level0 col18\" >ORBIA.MX</th>\n",
       "      <th id=\"T_b3b8c_level0_col19\" class=\"col_heading level0 col19\" >ALFAA.MX</th>\n",
       "      <th id=\"T_b3b8c_level0_col20\" class=\"col_heading level0 col20\" >GCARSOA1.MX</th>\n",
       "      <th id=\"T_b3b8c_level0_col21\" class=\"col_heading level0 col21\" >PE&OLES.MX</th>\n",
       "      <th id=\"T_b3b8c_level0_col22\" class=\"col_heading level0 col22\" >ALSEA.MX</th>\n",
       "      <th id=\"T_b3b8c_level0_col23\" class=\"col_heading level0 col23\" >BBAJIOO.MX</th>\n",
       "      <th id=\"T_b3b8c_level0_col24\" class=\"col_heading level0 col24\" >GENTERA.MX</th>\n",
       "      <th id=\"T_b3b8c_level0_col25\" class=\"col_heading level0 col25\" >MEGACPO.MX</th>\n",
       "      <th id=\"T_b3b8c_level0_col26\" class=\"col_heading level0 col26\" >LIVEPOLC-1.MX</th>\n",
       "      <th id=\"T_b3b8c_level0_col27\" class=\"col_heading level0 col27\" >BOLSAA.MX</th>\n",
       "      <th id=\"T_b3b8c_level0_col28\" class=\"col_heading level0 col28\" >CUERVO.MX</th>\n",
       "      <th id=\"T_b3b8c_level0_col29\" class=\"col_heading level0 col29\" >LABB.MX</th>\n",
       "      <th id=\"T_b3b8c_level0_col30\" class=\"col_heading level0 col30\" >GCC.MX</th>\n",
       "      <th id=\"T_b3b8c_level0_col31\" class=\"col_heading level0 col31\" >RA.MX</th>\n",
       "      <th id=\"T_b3b8c_level0_col32\" class=\"col_heading level0 col32\" >ALPEKA.MX</th>\n",
       "    </tr>\n",
       "    <tr>\n",
       "      <th class=\"index_name level0\" >Date</th>\n",
       "      <th class=\"blank col0\" >&nbsp;</th>\n",
       "      <th class=\"blank col1\" >&nbsp;</th>\n",
       "      <th class=\"blank col2\" >&nbsp;</th>\n",
       "      <th class=\"blank col3\" >&nbsp;</th>\n",
       "      <th class=\"blank col4\" >&nbsp;</th>\n",
       "      <th class=\"blank col5\" >&nbsp;</th>\n",
       "      <th class=\"blank col6\" >&nbsp;</th>\n",
       "      <th class=\"blank col7\" >&nbsp;</th>\n",
       "      <th class=\"blank col8\" >&nbsp;</th>\n",
       "      <th class=\"blank col9\" >&nbsp;</th>\n",
       "      <th class=\"blank col10\" >&nbsp;</th>\n",
       "      <th class=\"blank col11\" >&nbsp;</th>\n",
       "      <th class=\"blank col12\" >&nbsp;</th>\n",
       "      <th class=\"blank col13\" >&nbsp;</th>\n",
       "      <th class=\"blank col14\" >&nbsp;</th>\n",
       "      <th class=\"blank col15\" >&nbsp;</th>\n",
       "      <th class=\"blank col16\" >&nbsp;</th>\n",
       "      <th class=\"blank col17\" >&nbsp;</th>\n",
       "      <th class=\"blank col18\" >&nbsp;</th>\n",
       "      <th class=\"blank col19\" >&nbsp;</th>\n",
       "      <th class=\"blank col20\" >&nbsp;</th>\n",
       "      <th class=\"blank col21\" >&nbsp;</th>\n",
       "      <th class=\"blank col22\" >&nbsp;</th>\n",
       "      <th class=\"blank col23\" >&nbsp;</th>\n",
       "      <th class=\"blank col24\" >&nbsp;</th>\n",
       "      <th class=\"blank col25\" >&nbsp;</th>\n",
       "      <th class=\"blank col26\" >&nbsp;</th>\n",
       "      <th class=\"blank col27\" >&nbsp;</th>\n",
       "      <th class=\"blank col28\" >&nbsp;</th>\n",
       "      <th class=\"blank col29\" >&nbsp;</th>\n",
       "      <th class=\"blank col30\" >&nbsp;</th>\n",
       "      <th class=\"blank col31\" >&nbsp;</th>\n",
       "      <th class=\"blank col32\" >&nbsp;</th>\n",
       "    </tr>\n",
       "  </thead>\n",
       "  <tbody>\n",
       "    <tr>\n",
       "      <th id=\"T_b3b8c_level0_row0\" class=\"row_heading level0 row0\" >2021-02-26 00:00:00</th>\n",
       "      <td id=\"T_b3b8c_row0_col0\" class=\"data row0 col0\" >HOLD</td>\n",
       "      <td id=\"T_b3b8c_row0_col1\" class=\"data row0 col1\" >HOLD</td>\n",
       "      <td id=\"T_b3b8c_row0_col2\" class=\"data row0 col2\" >HOLD</td>\n",
       "      <td id=\"T_b3b8c_row0_col3\" class=\"data row0 col3\" >HOLD</td>\n",
       "      <td id=\"T_b3b8c_row0_col4\" class=\"data row0 col4\" >HOLD</td>\n",
       "      <td id=\"T_b3b8c_row0_col5\" class=\"data row0 col5\" >HOLD</td>\n",
       "      <td id=\"T_b3b8c_row0_col6\" class=\"data row0 col6\" >HOLD</td>\n",
       "      <td id=\"T_b3b8c_row0_col7\" class=\"data row0 col7\" >HOLD</td>\n",
       "      <td id=\"T_b3b8c_row0_col8\" class=\"data row0 col8\" >HOLD</td>\n",
       "      <td id=\"T_b3b8c_row0_col9\" class=\"data row0 col9\" >HOLD</td>\n",
       "      <td id=\"T_b3b8c_row0_col10\" class=\"data row0 col10\" >HOLD</td>\n",
       "      <td id=\"T_b3b8c_row0_col11\" class=\"data row0 col11\" >HOLD</td>\n",
       "      <td id=\"T_b3b8c_row0_col12\" class=\"data row0 col12\" >HOLD</td>\n",
       "      <td id=\"T_b3b8c_row0_col13\" class=\"data row0 col13\" >HOLD</td>\n",
       "      <td id=\"T_b3b8c_row0_col14\" class=\"data row0 col14\" >HOLD</td>\n",
       "      <td id=\"T_b3b8c_row0_col15\" class=\"data row0 col15\" >HOLD</td>\n",
       "      <td id=\"T_b3b8c_row0_col16\" class=\"data row0 col16\" >HOLD</td>\n",
       "      <td id=\"T_b3b8c_row0_col17\" class=\"data row0 col17\" >HOLD</td>\n",
       "      <td id=\"T_b3b8c_row0_col18\" class=\"data row0 col18\" >HOLD</td>\n",
       "      <td id=\"T_b3b8c_row0_col19\" class=\"data row0 col19\" >HOLD</td>\n",
       "      <td id=\"T_b3b8c_row0_col20\" class=\"data row0 col20\" >BUY</td>\n",
       "      <td id=\"T_b3b8c_row0_col21\" class=\"data row0 col21\" >HOLD</td>\n",
       "      <td id=\"T_b3b8c_row0_col22\" class=\"data row0 col22\" >HOLD</td>\n",
       "      <td id=\"T_b3b8c_row0_col23\" class=\"data row0 col23\" >HOLD</td>\n",
       "      <td id=\"T_b3b8c_row0_col24\" class=\"data row0 col24\" >BUY</td>\n",
       "      <td id=\"T_b3b8c_row0_col25\" class=\"data row0 col25\" >HOLD</td>\n",
       "      <td id=\"T_b3b8c_row0_col26\" class=\"data row0 col26\" >HOLD</td>\n",
       "      <td id=\"T_b3b8c_row0_col27\" class=\"data row0 col27\" >HOLD</td>\n",
       "      <td id=\"T_b3b8c_row0_col28\" class=\"data row0 col28\" >BUY</td>\n",
       "      <td id=\"T_b3b8c_row0_col29\" class=\"data row0 col29\" >HOLD</td>\n",
       "      <td id=\"T_b3b8c_row0_col30\" class=\"data row0 col30\" >HOLD</td>\n",
       "      <td id=\"T_b3b8c_row0_col31\" class=\"data row0 col31\" >HOLD</td>\n",
       "      <td id=\"T_b3b8c_row0_col32\" class=\"data row0 col32\" >HOLD</td>\n",
       "    </tr>\n",
       "    <tr>\n",
       "      <th id=\"T_b3b8c_level0_row1\" class=\"row_heading level0 row1\" >2021-03-31 00:00:00</th>\n",
       "      <td id=\"T_b3b8c_row1_col0\" class=\"data row1 col0\" >HOLD</td>\n",
       "      <td id=\"T_b3b8c_row1_col1\" class=\"data row1 col1\" >HOLD</td>\n",
       "      <td id=\"T_b3b8c_row1_col2\" class=\"data row1 col2\" >HOLD</td>\n",
       "      <td id=\"T_b3b8c_row1_col3\" class=\"data row1 col3\" >HOLD</td>\n",
       "      <td id=\"T_b3b8c_row1_col4\" class=\"data row1 col4\" >HOLD</td>\n",
       "      <td id=\"T_b3b8c_row1_col5\" class=\"data row1 col5\" >HOLD</td>\n",
       "      <td id=\"T_b3b8c_row1_col6\" class=\"data row1 col6\" >HOLD</td>\n",
       "      <td id=\"T_b3b8c_row1_col7\" class=\"data row1 col7\" >HOLD</td>\n",
       "      <td id=\"T_b3b8c_row1_col8\" class=\"data row1 col8\" >HOLD</td>\n",
       "      <td id=\"T_b3b8c_row1_col9\" class=\"data row1 col9\" >HOLD</td>\n",
       "      <td id=\"T_b3b8c_row1_col10\" class=\"data row1 col10\" >HOLD</td>\n",
       "      <td id=\"T_b3b8c_row1_col11\" class=\"data row1 col11\" >HOLD</td>\n",
       "      <td id=\"T_b3b8c_row1_col12\" class=\"data row1 col12\" >HOLD</td>\n",
       "      <td id=\"T_b3b8c_row1_col13\" class=\"data row1 col13\" >HOLD</td>\n",
       "      <td id=\"T_b3b8c_row1_col14\" class=\"data row1 col14\" >HOLD</td>\n",
       "      <td id=\"T_b3b8c_row1_col15\" class=\"data row1 col15\" >HOLD</td>\n",
       "      <td id=\"T_b3b8c_row1_col16\" class=\"data row1 col16\" >SELL</td>\n",
       "      <td id=\"T_b3b8c_row1_col17\" class=\"data row1 col17\" >HOLD</td>\n",
       "      <td id=\"T_b3b8c_row1_col18\" class=\"data row1 col18\" >HOLD</td>\n",
       "      <td id=\"T_b3b8c_row1_col19\" class=\"data row1 col19\" >HOLD</td>\n",
       "      <td id=\"T_b3b8c_row1_col20\" class=\"data row1 col20\" >HOLD</td>\n",
       "      <td id=\"T_b3b8c_row1_col21\" class=\"data row1 col21\" >HOLD</td>\n",
       "      <td id=\"T_b3b8c_row1_col22\" class=\"data row1 col22\" >HOLD</td>\n",
       "      <td id=\"T_b3b8c_row1_col23\" class=\"data row1 col23\" >HOLD</td>\n",
       "      <td id=\"T_b3b8c_row1_col24\" class=\"data row1 col24\" >HOLD</td>\n",
       "      <td id=\"T_b3b8c_row1_col25\" class=\"data row1 col25\" >HOLD</td>\n",
       "      <td id=\"T_b3b8c_row1_col26\" class=\"data row1 col26\" >HOLD</td>\n",
       "      <td id=\"T_b3b8c_row1_col27\" class=\"data row1 col27\" >HOLD</td>\n",
       "      <td id=\"T_b3b8c_row1_col28\" class=\"data row1 col28\" >HOLD</td>\n",
       "      <td id=\"T_b3b8c_row1_col29\" class=\"data row1 col29\" >HOLD</td>\n",
       "      <td id=\"T_b3b8c_row1_col30\" class=\"data row1 col30\" >HOLD</td>\n",
       "      <td id=\"T_b3b8c_row1_col31\" class=\"data row1 col31\" >HOLD</td>\n",
       "      <td id=\"T_b3b8c_row1_col32\" class=\"data row1 col32\" >HOLD</td>\n",
       "    </tr>\n",
       "    <tr>\n",
       "      <th id=\"T_b3b8c_level0_row2\" class=\"row_heading level0 row2\" >2021-04-30 00:00:00</th>\n",
       "      <td id=\"T_b3b8c_row2_col0\" class=\"data row2 col0\" >HOLD</td>\n",
       "      <td id=\"T_b3b8c_row2_col1\" class=\"data row2 col1\" >HOLD</td>\n",
       "      <td id=\"T_b3b8c_row2_col2\" class=\"data row2 col2\" >HOLD</td>\n",
       "      <td id=\"T_b3b8c_row2_col3\" class=\"data row2 col3\" >HOLD</td>\n",
       "      <td id=\"T_b3b8c_row2_col4\" class=\"data row2 col4\" >HOLD</td>\n",
       "      <td id=\"T_b3b8c_row2_col5\" class=\"data row2 col5\" >HOLD</td>\n",
       "      <td id=\"T_b3b8c_row2_col6\" class=\"data row2 col6\" >HOLD</td>\n",
       "      <td id=\"T_b3b8c_row2_col7\" class=\"data row2 col7\" >HOLD</td>\n",
       "      <td id=\"T_b3b8c_row2_col8\" class=\"data row2 col8\" >HOLD</td>\n",
       "      <td id=\"T_b3b8c_row2_col9\" class=\"data row2 col9\" >HOLD</td>\n",
       "      <td id=\"T_b3b8c_row2_col10\" class=\"data row2 col10\" >HOLD</td>\n",
       "      <td id=\"T_b3b8c_row2_col11\" class=\"data row2 col11\" >HOLD</td>\n",
       "      <td id=\"T_b3b8c_row2_col12\" class=\"data row2 col12\" >HOLD</td>\n",
       "      <td id=\"T_b3b8c_row2_col13\" class=\"data row2 col13\" >HOLD</td>\n",
       "      <td id=\"T_b3b8c_row2_col14\" class=\"data row2 col14\" >HOLD</td>\n",
       "      <td id=\"T_b3b8c_row2_col15\" class=\"data row2 col15\" >HOLD</td>\n",
       "      <td id=\"T_b3b8c_row2_col16\" class=\"data row2 col16\" >HOLD</td>\n",
       "      <td id=\"T_b3b8c_row2_col17\" class=\"data row2 col17\" >HOLD</td>\n",
       "      <td id=\"T_b3b8c_row2_col18\" class=\"data row2 col18\" >HOLD</td>\n",
       "      <td id=\"T_b3b8c_row2_col19\" class=\"data row2 col19\" >HOLD</td>\n",
       "      <td id=\"T_b3b8c_row2_col20\" class=\"data row2 col20\" >HOLD</td>\n",
       "      <td id=\"T_b3b8c_row2_col21\" class=\"data row2 col21\" >HOLD</td>\n",
       "      <td id=\"T_b3b8c_row2_col22\" class=\"data row2 col22\" >HOLD</td>\n",
       "      <td id=\"T_b3b8c_row2_col23\" class=\"data row2 col23\" >HOLD</td>\n",
       "      <td id=\"T_b3b8c_row2_col24\" class=\"data row2 col24\" >HOLD</td>\n",
       "      <td id=\"T_b3b8c_row2_col25\" class=\"data row2 col25\" >HOLD</td>\n",
       "      <td id=\"T_b3b8c_row2_col26\" class=\"data row2 col26\" >HOLD</td>\n",
       "      <td id=\"T_b3b8c_row2_col27\" class=\"data row2 col27\" >HOLD</td>\n",
       "      <td id=\"T_b3b8c_row2_col28\" class=\"data row2 col28\" >HOLD</td>\n",
       "      <td id=\"T_b3b8c_row2_col29\" class=\"data row2 col29\" >HOLD</td>\n",
       "      <td id=\"T_b3b8c_row2_col30\" class=\"data row2 col30\" >HOLD</td>\n",
       "      <td id=\"T_b3b8c_row2_col31\" class=\"data row2 col31\" >HOLD</td>\n",
       "      <td id=\"T_b3b8c_row2_col32\" class=\"data row2 col32\" >HOLD</td>\n",
       "    </tr>\n",
       "    <tr>\n",
       "      <th id=\"T_b3b8c_level0_row3\" class=\"row_heading level0 row3\" >2021-05-31 00:00:00</th>\n",
       "      <td id=\"T_b3b8c_row3_col0\" class=\"data row3 col0\" >HOLD</td>\n",
       "      <td id=\"T_b3b8c_row3_col1\" class=\"data row3 col1\" >HOLD</td>\n",
       "      <td id=\"T_b3b8c_row3_col2\" class=\"data row3 col2\" >HOLD</td>\n",
       "      <td id=\"T_b3b8c_row3_col3\" class=\"data row3 col3\" >HOLD</td>\n",
       "      <td id=\"T_b3b8c_row3_col4\" class=\"data row3 col4\" >HOLD</td>\n",
       "      <td id=\"T_b3b8c_row3_col5\" class=\"data row3 col5\" >HOLD</td>\n",
       "      <td id=\"T_b3b8c_row3_col6\" class=\"data row3 col6\" >HOLD</td>\n",
       "      <td id=\"T_b3b8c_row3_col7\" class=\"data row3 col7\" >HOLD</td>\n",
       "      <td id=\"T_b3b8c_row3_col8\" class=\"data row3 col8\" >HOLD</td>\n",
       "      <td id=\"T_b3b8c_row3_col9\" class=\"data row3 col9\" >HOLD</td>\n",
       "      <td id=\"T_b3b8c_row3_col10\" class=\"data row3 col10\" >HOLD</td>\n",
       "      <td id=\"T_b3b8c_row3_col11\" class=\"data row3 col11\" >HOLD</td>\n",
       "      <td id=\"T_b3b8c_row3_col12\" class=\"data row3 col12\" >HOLD</td>\n",
       "      <td id=\"T_b3b8c_row3_col13\" class=\"data row3 col13\" >HOLD</td>\n",
       "      <td id=\"T_b3b8c_row3_col14\" class=\"data row3 col14\" >HOLD</td>\n",
       "      <td id=\"T_b3b8c_row3_col15\" class=\"data row3 col15\" >HOLD</td>\n",
       "      <td id=\"T_b3b8c_row3_col16\" class=\"data row3 col16\" >HOLD</td>\n",
       "      <td id=\"T_b3b8c_row3_col17\" class=\"data row3 col17\" >HOLD</td>\n",
       "      <td id=\"T_b3b8c_row3_col18\" class=\"data row3 col18\" >HOLD</td>\n",
       "      <td id=\"T_b3b8c_row3_col19\" class=\"data row3 col19\" >HOLD</td>\n",
       "      <td id=\"T_b3b8c_row3_col20\" class=\"data row3 col20\" >HOLD</td>\n",
       "      <td id=\"T_b3b8c_row3_col21\" class=\"data row3 col21\" >HOLD</td>\n",
       "      <td id=\"T_b3b8c_row3_col22\" class=\"data row3 col22\" >HOLD</td>\n",
       "      <td id=\"T_b3b8c_row3_col23\" class=\"data row3 col23\" >HOLD</td>\n",
       "      <td id=\"T_b3b8c_row3_col24\" class=\"data row3 col24\" >HOLD</td>\n",
       "      <td id=\"T_b3b8c_row3_col25\" class=\"data row3 col25\" >HOLD</td>\n",
       "      <td id=\"T_b3b8c_row3_col26\" class=\"data row3 col26\" >HOLD</td>\n",
       "      <td id=\"T_b3b8c_row3_col27\" class=\"data row3 col27\" >HOLD</td>\n",
       "      <td id=\"T_b3b8c_row3_col28\" class=\"data row3 col28\" >HOLD</td>\n",
       "      <td id=\"T_b3b8c_row3_col29\" class=\"data row3 col29\" >HOLD</td>\n",
       "      <td id=\"T_b3b8c_row3_col30\" class=\"data row3 col30\" >HOLD</td>\n",
       "      <td id=\"T_b3b8c_row3_col31\" class=\"data row3 col31\" >HOLD</td>\n",
       "      <td id=\"T_b3b8c_row3_col32\" class=\"data row3 col32\" >HOLD</td>\n",
       "    </tr>\n",
       "    <tr>\n",
       "      <th id=\"T_b3b8c_level0_row4\" class=\"row_heading level0 row4\" >2021-06-30 00:00:00</th>\n",
       "      <td id=\"T_b3b8c_row4_col0\" class=\"data row4 col0\" >HOLD</td>\n",
       "      <td id=\"T_b3b8c_row4_col1\" class=\"data row4 col1\" >HOLD</td>\n",
       "      <td id=\"T_b3b8c_row4_col2\" class=\"data row4 col2\" >HOLD</td>\n",
       "      <td id=\"T_b3b8c_row4_col3\" class=\"data row4 col3\" >HOLD</td>\n",
       "      <td id=\"T_b3b8c_row4_col4\" class=\"data row4 col4\" >HOLD</td>\n",
       "      <td id=\"T_b3b8c_row4_col5\" class=\"data row4 col5\" >HOLD</td>\n",
       "      <td id=\"T_b3b8c_row4_col6\" class=\"data row4 col6\" >HOLD</td>\n",
       "      <td id=\"T_b3b8c_row4_col7\" class=\"data row4 col7\" >HOLD</td>\n",
       "      <td id=\"T_b3b8c_row4_col8\" class=\"data row4 col8\" >HOLD</td>\n",
       "      <td id=\"T_b3b8c_row4_col9\" class=\"data row4 col9\" >HOLD</td>\n",
       "      <td id=\"T_b3b8c_row4_col10\" class=\"data row4 col10\" >HOLD</td>\n",
       "      <td id=\"T_b3b8c_row4_col11\" class=\"data row4 col11\" >HOLD</td>\n",
       "      <td id=\"T_b3b8c_row4_col12\" class=\"data row4 col12\" >HOLD</td>\n",
       "      <td id=\"T_b3b8c_row4_col13\" class=\"data row4 col13\" >HOLD</td>\n",
       "      <td id=\"T_b3b8c_row4_col14\" class=\"data row4 col14\" >HOLD</td>\n",
       "      <td id=\"T_b3b8c_row4_col15\" class=\"data row4 col15\" >HOLD</td>\n",
       "      <td id=\"T_b3b8c_row4_col16\" class=\"data row4 col16\" >HOLD</td>\n",
       "      <td id=\"T_b3b8c_row4_col17\" class=\"data row4 col17\" >HOLD</td>\n",
       "      <td id=\"T_b3b8c_row4_col18\" class=\"data row4 col18\" >HOLD</td>\n",
       "      <td id=\"T_b3b8c_row4_col19\" class=\"data row4 col19\" >HOLD</td>\n",
       "      <td id=\"T_b3b8c_row4_col20\" class=\"data row4 col20\" >HOLD</td>\n",
       "      <td id=\"T_b3b8c_row4_col21\" class=\"data row4 col21\" >HOLD</td>\n",
       "      <td id=\"T_b3b8c_row4_col22\" class=\"data row4 col22\" >HOLD</td>\n",
       "      <td id=\"T_b3b8c_row4_col23\" class=\"data row4 col23\" >HOLD</td>\n",
       "      <td id=\"T_b3b8c_row4_col24\" class=\"data row4 col24\" >HOLD</td>\n",
       "      <td id=\"T_b3b8c_row4_col25\" class=\"data row4 col25\" >HOLD</td>\n",
       "      <td id=\"T_b3b8c_row4_col26\" class=\"data row4 col26\" >HOLD</td>\n",
       "      <td id=\"T_b3b8c_row4_col27\" class=\"data row4 col27\" >HOLD</td>\n",
       "      <td id=\"T_b3b8c_row4_col28\" class=\"data row4 col28\" >HOLD</td>\n",
       "      <td id=\"T_b3b8c_row4_col29\" class=\"data row4 col29\" >HOLD</td>\n",
       "      <td id=\"T_b3b8c_row4_col30\" class=\"data row4 col30\" >HOLD</td>\n",
       "      <td id=\"T_b3b8c_row4_col31\" class=\"data row4 col31\" >HOLD</td>\n",
       "      <td id=\"T_b3b8c_row4_col32\" class=\"data row4 col32\" >HOLD</td>\n",
       "    </tr>\n",
       "    <tr>\n",
       "      <th id=\"T_b3b8c_level0_row5\" class=\"row_heading level0 row5\" >2021-07-30 00:00:00</th>\n",
       "      <td id=\"T_b3b8c_row5_col0\" class=\"data row5 col0\" >HOLD</td>\n",
       "      <td id=\"T_b3b8c_row5_col1\" class=\"data row5 col1\" >HOLD</td>\n",
       "      <td id=\"T_b3b8c_row5_col2\" class=\"data row5 col2\" >HOLD</td>\n",
       "      <td id=\"T_b3b8c_row5_col3\" class=\"data row5 col3\" >HOLD</td>\n",
       "      <td id=\"T_b3b8c_row5_col4\" class=\"data row5 col4\" >SELL</td>\n",
       "      <td id=\"T_b3b8c_row5_col5\" class=\"data row5 col5\" >HOLD</td>\n",
       "      <td id=\"T_b3b8c_row5_col6\" class=\"data row5 col6\" >HOLD</td>\n",
       "      <td id=\"T_b3b8c_row5_col7\" class=\"data row5 col7\" >HOLD</td>\n",
       "      <td id=\"T_b3b8c_row5_col8\" class=\"data row5 col8\" >HOLD</td>\n",
       "      <td id=\"T_b3b8c_row5_col9\" class=\"data row5 col9\" >HOLD</td>\n",
       "      <td id=\"T_b3b8c_row5_col10\" class=\"data row5 col10\" >HOLD</td>\n",
       "      <td id=\"T_b3b8c_row5_col11\" class=\"data row5 col11\" >HOLD</td>\n",
       "      <td id=\"T_b3b8c_row5_col12\" class=\"data row5 col12\" >HOLD</td>\n",
       "      <td id=\"T_b3b8c_row5_col13\" class=\"data row5 col13\" >HOLD</td>\n",
       "      <td id=\"T_b3b8c_row5_col14\" class=\"data row5 col14\" >HOLD</td>\n",
       "      <td id=\"T_b3b8c_row5_col15\" class=\"data row5 col15\" >HOLD</td>\n",
       "      <td id=\"T_b3b8c_row5_col16\" class=\"data row5 col16\" >HOLD</td>\n",
       "      <td id=\"T_b3b8c_row5_col17\" class=\"data row5 col17\" >HOLD</td>\n",
       "      <td id=\"T_b3b8c_row5_col18\" class=\"data row5 col18\" >HOLD</td>\n",
       "      <td id=\"T_b3b8c_row5_col19\" class=\"data row5 col19\" >HOLD</td>\n",
       "      <td id=\"T_b3b8c_row5_col20\" class=\"data row5 col20\" >HOLD</td>\n",
       "      <td id=\"T_b3b8c_row5_col21\" class=\"data row5 col21\" >HOLD</td>\n",
       "      <td id=\"T_b3b8c_row5_col22\" class=\"data row5 col22\" >HOLD</td>\n",
       "      <td id=\"T_b3b8c_row5_col23\" class=\"data row5 col23\" >HOLD</td>\n",
       "      <td id=\"T_b3b8c_row5_col24\" class=\"data row5 col24\" >HOLD</td>\n",
       "      <td id=\"T_b3b8c_row5_col25\" class=\"data row5 col25\" >HOLD</td>\n",
       "      <td id=\"T_b3b8c_row5_col26\" class=\"data row5 col26\" >HOLD</td>\n",
       "      <td id=\"T_b3b8c_row5_col27\" class=\"data row5 col27\" >HOLD</td>\n",
       "      <td id=\"T_b3b8c_row5_col28\" class=\"data row5 col28\" >HOLD</td>\n",
       "      <td id=\"T_b3b8c_row5_col29\" class=\"data row5 col29\" >HOLD</td>\n",
       "      <td id=\"T_b3b8c_row5_col30\" class=\"data row5 col30\" >HOLD</td>\n",
       "      <td id=\"T_b3b8c_row5_col31\" class=\"data row5 col31\" >HOLD</td>\n",
       "      <td id=\"T_b3b8c_row5_col32\" class=\"data row5 col32\" >HOLD</td>\n",
       "    </tr>\n",
       "    <tr>\n",
       "      <th id=\"T_b3b8c_level0_row6\" class=\"row_heading level0 row6\" >2021-08-31 00:00:00</th>\n",
       "      <td id=\"T_b3b8c_row6_col0\" class=\"data row6 col0\" >HOLD</td>\n",
       "      <td id=\"T_b3b8c_row6_col1\" class=\"data row6 col1\" >HOLD</td>\n",
       "      <td id=\"T_b3b8c_row6_col2\" class=\"data row6 col2\" >HOLD</td>\n",
       "      <td id=\"T_b3b8c_row6_col3\" class=\"data row6 col3\" >HOLD</td>\n",
       "      <td id=\"T_b3b8c_row6_col4\" class=\"data row6 col4\" >HOLD</td>\n",
       "      <td id=\"T_b3b8c_row6_col5\" class=\"data row6 col5\" >HOLD</td>\n",
       "      <td id=\"T_b3b8c_row6_col6\" class=\"data row6 col6\" >HOLD</td>\n",
       "      <td id=\"T_b3b8c_row6_col7\" class=\"data row6 col7\" >HOLD</td>\n",
       "      <td id=\"T_b3b8c_row6_col8\" class=\"data row6 col8\" >HOLD</td>\n",
       "      <td id=\"T_b3b8c_row6_col9\" class=\"data row6 col9\" >HOLD</td>\n",
       "      <td id=\"T_b3b8c_row6_col10\" class=\"data row6 col10\" >HOLD</td>\n",
       "      <td id=\"T_b3b8c_row6_col11\" class=\"data row6 col11\" >HOLD</td>\n",
       "      <td id=\"T_b3b8c_row6_col12\" class=\"data row6 col12\" >HOLD</td>\n",
       "      <td id=\"T_b3b8c_row6_col13\" class=\"data row6 col13\" >HOLD</td>\n",
       "      <td id=\"T_b3b8c_row6_col14\" class=\"data row6 col14\" >HOLD</td>\n",
       "      <td id=\"T_b3b8c_row6_col15\" class=\"data row6 col15\" >HOLD</td>\n",
       "      <td id=\"T_b3b8c_row6_col16\" class=\"data row6 col16\" >HOLD</td>\n",
       "      <td id=\"T_b3b8c_row6_col17\" class=\"data row6 col17\" >HOLD</td>\n",
       "      <td id=\"T_b3b8c_row6_col18\" class=\"data row6 col18\" >HOLD</td>\n",
       "      <td id=\"T_b3b8c_row6_col19\" class=\"data row6 col19\" >HOLD</td>\n",
       "      <td id=\"T_b3b8c_row6_col20\" class=\"data row6 col20\" >BUY</td>\n",
       "      <td id=\"T_b3b8c_row6_col21\" class=\"data row6 col21\" >HOLD</td>\n",
       "      <td id=\"T_b3b8c_row6_col22\" class=\"data row6 col22\" >HOLD</td>\n",
       "      <td id=\"T_b3b8c_row6_col23\" class=\"data row6 col23\" >HOLD</td>\n",
       "      <td id=\"T_b3b8c_row6_col24\" class=\"data row6 col24\" >HOLD</td>\n",
       "      <td id=\"T_b3b8c_row6_col25\" class=\"data row6 col25\" >HOLD</td>\n",
       "      <td id=\"T_b3b8c_row6_col26\" class=\"data row6 col26\" >HOLD</td>\n",
       "      <td id=\"T_b3b8c_row6_col27\" class=\"data row6 col27\" >HOLD</td>\n",
       "      <td id=\"T_b3b8c_row6_col28\" class=\"data row6 col28\" >BUY</td>\n",
       "      <td id=\"T_b3b8c_row6_col29\" class=\"data row6 col29\" >HOLD</td>\n",
       "      <td id=\"T_b3b8c_row6_col30\" class=\"data row6 col30\" >HOLD</td>\n",
       "      <td id=\"T_b3b8c_row6_col31\" class=\"data row6 col31\" >HOLD</td>\n",
       "      <td id=\"T_b3b8c_row6_col32\" class=\"data row6 col32\" >HOLD</td>\n",
       "    </tr>\n",
       "    <tr>\n",
       "      <th id=\"T_b3b8c_level0_row7\" class=\"row_heading level0 row7\" >2021-09-30 00:00:00</th>\n",
       "      <td id=\"T_b3b8c_row7_col0\" class=\"data row7 col0\" >HOLD</td>\n",
       "      <td id=\"T_b3b8c_row7_col1\" class=\"data row7 col1\" >HOLD</td>\n",
       "      <td id=\"T_b3b8c_row7_col2\" class=\"data row7 col2\" >HOLD</td>\n",
       "      <td id=\"T_b3b8c_row7_col3\" class=\"data row7 col3\" >HOLD</td>\n",
       "      <td id=\"T_b3b8c_row7_col4\" class=\"data row7 col4\" >HOLD</td>\n",
       "      <td id=\"T_b3b8c_row7_col5\" class=\"data row7 col5\" >HOLD</td>\n",
       "      <td id=\"T_b3b8c_row7_col6\" class=\"data row7 col6\" >HOLD</td>\n",
       "      <td id=\"T_b3b8c_row7_col7\" class=\"data row7 col7\" >HOLD</td>\n",
       "      <td id=\"T_b3b8c_row7_col8\" class=\"data row7 col8\" >HOLD</td>\n",
       "      <td id=\"T_b3b8c_row7_col9\" class=\"data row7 col9\" >HOLD</td>\n",
       "      <td id=\"T_b3b8c_row7_col10\" class=\"data row7 col10\" >HOLD</td>\n",
       "      <td id=\"T_b3b8c_row7_col11\" class=\"data row7 col11\" >HOLD</td>\n",
       "      <td id=\"T_b3b8c_row7_col12\" class=\"data row7 col12\" >HOLD</td>\n",
       "      <td id=\"T_b3b8c_row7_col13\" class=\"data row7 col13\" >HOLD</td>\n",
       "      <td id=\"T_b3b8c_row7_col14\" class=\"data row7 col14\" >HOLD</td>\n",
       "      <td id=\"T_b3b8c_row7_col15\" class=\"data row7 col15\" >BUY</td>\n",
       "      <td id=\"T_b3b8c_row7_col16\" class=\"data row7 col16\" >HOLD</td>\n",
       "      <td id=\"T_b3b8c_row7_col17\" class=\"data row7 col17\" >HOLD</td>\n",
       "      <td id=\"T_b3b8c_row7_col18\" class=\"data row7 col18\" >HOLD</td>\n",
       "      <td id=\"T_b3b8c_row7_col19\" class=\"data row7 col19\" >HOLD</td>\n",
       "      <td id=\"T_b3b8c_row7_col20\" class=\"data row7 col20\" >HOLD</td>\n",
       "      <td id=\"T_b3b8c_row7_col21\" class=\"data row7 col21\" >HOLD</td>\n",
       "      <td id=\"T_b3b8c_row7_col22\" class=\"data row7 col22\" >HOLD</td>\n",
       "      <td id=\"T_b3b8c_row7_col23\" class=\"data row7 col23\" >HOLD</td>\n",
       "      <td id=\"T_b3b8c_row7_col24\" class=\"data row7 col24\" >HOLD</td>\n",
       "      <td id=\"T_b3b8c_row7_col25\" class=\"data row7 col25\" >HOLD</td>\n",
       "      <td id=\"T_b3b8c_row7_col26\" class=\"data row7 col26\" >HOLD</td>\n",
       "      <td id=\"T_b3b8c_row7_col27\" class=\"data row7 col27\" >HOLD</td>\n",
       "      <td id=\"T_b3b8c_row7_col28\" class=\"data row7 col28\" >HOLD</td>\n",
       "      <td id=\"T_b3b8c_row7_col29\" class=\"data row7 col29\" >HOLD</td>\n",
       "      <td id=\"T_b3b8c_row7_col30\" class=\"data row7 col30\" >HOLD</td>\n",
       "      <td id=\"T_b3b8c_row7_col31\" class=\"data row7 col31\" >HOLD</td>\n",
       "      <td id=\"T_b3b8c_row7_col32\" class=\"data row7 col32\" >HOLD</td>\n",
       "    </tr>\n",
       "    <tr>\n",
       "      <th id=\"T_b3b8c_level0_row8\" class=\"row_heading level0 row8\" >2021-10-29 00:00:00</th>\n",
       "      <td id=\"T_b3b8c_row8_col0\" class=\"data row8 col0\" >HOLD</td>\n",
       "      <td id=\"T_b3b8c_row8_col1\" class=\"data row8 col1\" >HOLD</td>\n",
       "      <td id=\"T_b3b8c_row8_col2\" class=\"data row8 col2\" >HOLD</td>\n",
       "      <td id=\"T_b3b8c_row8_col3\" class=\"data row8 col3\" >HOLD</td>\n",
       "      <td id=\"T_b3b8c_row8_col4\" class=\"data row8 col4\" >HOLD</td>\n",
       "      <td id=\"T_b3b8c_row8_col5\" class=\"data row8 col5\" >HOLD</td>\n",
       "      <td id=\"T_b3b8c_row8_col6\" class=\"data row8 col6\" >HOLD</td>\n",
       "      <td id=\"T_b3b8c_row8_col7\" class=\"data row8 col7\" >HOLD</td>\n",
       "      <td id=\"T_b3b8c_row8_col8\" class=\"data row8 col8\" >HOLD</td>\n",
       "      <td id=\"T_b3b8c_row8_col9\" class=\"data row8 col9\" >HOLD</td>\n",
       "      <td id=\"T_b3b8c_row8_col10\" class=\"data row8 col10\" >HOLD</td>\n",
       "      <td id=\"T_b3b8c_row8_col11\" class=\"data row8 col11\" >BUY</td>\n",
       "      <td id=\"T_b3b8c_row8_col12\" class=\"data row8 col12\" >HOLD</td>\n",
       "      <td id=\"T_b3b8c_row8_col13\" class=\"data row8 col13\" >HOLD</td>\n",
       "      <td id=\"T_b3b8c_row8_col14\" class=\"data row8 col14\" >HOLD</td>\n",
       "      <td id=\"T_b3b8c_row8_col15\" class=\"data row8 col15\" >HOLD</td>\n",
       "      <td id=\"T_b3b8c_row8_col16\" class=\"data row8 col16\" >HOLD</td>\n",
       "      <td id=\"T_b3b8c_row8_col17\" class=\"data row8 col17\" >HOLD</td>\n",
       "      <td id=\"T_b3b8c_row8_col18\" class=\"data row8 col18\" >HOLD</td>\n",
       "      <td id=\"T_b3b8c_row8_col19\" class=\"data row8 col19\" >HOLD</td>\n",
       "      <td id=\"T_b3b8c_row8_col20\" class=\"data row8 col20\" >HOLD</td>\n",
       "      <td id=\"T_b3b8c_row8_col21\" class=\"data row8 col21\" >SELL</td>\n",
       "      <td id=\"T_b3b8c_row8_col22\" class=\"data row8 col22\" >HOLD</td>\n",
       "      <td id=\"T_b3b8c_row8_col23\" class=\"data row8 col23\" >HOLD</td>\n",
       "      <td id=\"T_b3b8c_row8_col24\" class=\"data row8 col24\" >HOLD</td>\n",
       "      <td id=\"T_b3b8c_row8_col25\" class=\"data row8 col25\" >HOLD</td>\n",
       "      <td id=\"T_b3b8c_row8_col26\" class=\"data row8 col26\" >HOLD</td>\n",
       "      <td id=\"T_b3b8c_row8_col27\" class=\"data row8 col27\" >HOLD</td>\n",
       "      <td id=\"T_b3b8c_row8_col28\" class=\"data row8 col28\" >HOLD</td>\n",
       "      <td id=\"T_b3b8c_row8_col29\" class=\"data row8 col29\" >HOLD</td>\n",
       "      <td id=\"T_b3b8c_row8_col30\" class=\"data row8 col30\" >HOLD</td>\n",
       "      <td id=\"T_b3b8c_row8_col31\" class=\"data row8 col31\" >HOLD</td>\n",
       "      <td id=\"T_b3b8c_row8_col32\" class=\"data row8 col32\" >HOLD</td>\n",
       "    </tr>\n",
       "    <tr>\n",
       "      <th id=\"T_b3b8c_level0_row9\" class=\"row_heading level0 row9\" >2021-11-30 00:00:00</th>\n",
       "      <td id=\"T_b3b8c_row9_col0\" class=\"data row9 col0\" >HOLD</td>\n",
       "      <td id=\"T_b3b8c_row9_col1\" class=\"data row9 col1\" >HOLD</td>\n",
       "      <td id=\"T_b3b8c_row9_col2\" class=\"data row9 col2\" >HOLD</td>\n",
       "      <td id=\"T_b3b8c_row9_col3\" class=\"data row9 col3\" >HOLD</td>\n",
       "      <td id=\"T_b3b8c_row9_col4\" class=\"data row9 col4\" >HOLD</td>\n",
       "      <td id=\"T_b3b8c_row9_col5\" class=\"data row9 col5\" >HOLD</td>\n",
       "      <td id=\"T_b3b8c_row9_col6\" class=\"data row9 col6\" >HOLD</td>\n",
       "      <td id=\"T_b3b8c_row9_col7\" class=\"data row9 col7\" >HOLD</td>\n",
       "      <td id=\"T_b3b8c_row9_col8\" class=\"data row9 col8\" >HOLD</td>\n",
       "      <td id=\"T_b3b8c_row9_col9\" class=\"data row9 col9\" >HOLD</td>\n",
       "      <td id=\"T_b3b8c_row9_col10\" class=\"data row9 col10\" >HOLD</td>\n",
       "      <td id=\"T_b3b8c_row9_col11\" class=\"data row9 col11\" >BUY</td>\n",
       "      <td id=\"T_b3b8c_row9_col12\" class=\"data row9 col12\" >HOLD</td>\n",
       "      <td id=\"T_b3b8c_row9_col13\" class=\"data row9 col13\" >HOLD</td>\n",
       "      <td id=\"T_b3b8c_row9_col14\" class=\"data row9 col14\" >HOLD</td>\n",
       "      <td id=\"T_b3b8c_row9_col15\" class=\"data row9 col15\" >HOLD</td>\n",
       "      <td id=\"T_b3b8c_row9_col16\" class=\"data row9 col16\" >HOLD</td>\n",
       "      <td id=\"T_b3b8c_row9_col17\" class=\"data row9 col17\" >HOLD</td>\n",
       "      <td id=\"T_b3b8c_row9_col18\" class=\"data row9 col18\" >HOLD</td>\n",
       "      <td id=\"T_b3b8c_row9_col19\" class=\"data row9 col19\" >HOLD</td>\n",
       "      <td id=\"T_b3b8c_row9_col20\" class=\"data row9 col20\" >BUY</td>\n",
       "      <td id=\"T_b3b8c_row9_col21\" class=\"data row9 col21\" >HOLD</td>\n",
       "      <td id=\"T_b3b8c_row9_col22\" class=\"data row9 col22\" >HOLD</td>\n",
       "      <td id=\"T_b3b8c_row9_col23\" class=\"data row9 col23\" >HOLD</td>\n",
       "      <td id=\"T_b3b8c_row9_col24\" class=\"data row9 col24\" >HOLD</td>\n",
       "      <td id=\"T_b3b8c_row9_col25\" class=\"data row9 col25\" >HOLD</td>\n",
       "      <td id=\"T_b3b8c_row9_col26\" class=\"data row9 col26\" >HOLD</td>\n",
       "      <td id=\"T_b3b8c_row9_col27\" class=\"data row9 col27\" >HOLD</td>\n",
       "      <td id=\"T_b3b8c_row9_col28\" class=\"data row9 col28\" >HOLD</td>\n",
       "      <td id=\"T_b3b8c_row9_col29\" class=\"data row9 col29\" >HOLD</td>\n",
       "      <td id=\"T_b3b8c_row9_col30\" class=\"data row9 col30\" >HOLD</td>\n",
       "      <td id=\"T_b3b8c_row9_col31\" class=\"data row9 col31\" >HOLD</td>\n",
       "      <td id=\"T_b3b8c_row9_col32\" class=\"data row9 col32\" >BUY</td>\n",
       "    </tr>\n",
       "    <tr>\n",
       "      <th id=\"T_b3b8c_level0_row10\" class=\"row_heading level0 row10\" >2021-12-31 00:00:00</th>\n",
       "      <td id=\"T_b3b8c_row10_col0\" class=\"data row10 col0\" >HOLD</td>\n",
       "      <td id=\"T_b3b8c_row10_col1\" class=\"data row10 col1\" >HOLD</td>\n",
       "      <td id=\"T_b3b8c_row10_col2\" class=\"data row10 col2\" >HOLD</td>\n",
       "      <td id=\"T_b3b8c_row10_col3\" class=\"data row10 col3\" >HOLD</td>\n",
       "      <td id=\"T_b3b8c_row10_col4\" class=\"data row10 col4\" >HOLD</td>\n",
       "      <td id=\"T_b3b8c_row10_col5\" class=\"data row10 col5\" >HOLD</td>\n",
       "      <td id=\"T_b3b8c_row10_col6\" class=\"data row10 col6\" >HOLD</td>\n",
       "      <td id=\"T_b3b8c_row10_col7\" class=\"data row10 col7\" >HOLD</td>\n",
       "      <td id=\"T_b3b8c_row10_col8\" class=\"data row10 col8\" >HOLD</td>\n",
       "      <td id=\"T_b3b8c_row10_col9\" class=\"data row10 col9\" >HOLD</td>\n",
       "      <td id=\"T_b3b8c_row10_col10\" class=\"data row10 col10\" >HOLD</td>\n",
       "      <td id=\"T_b3b8c_row10_col11\" class=\"data row10 col11\" >HOLD</td>\n",
       "      <td id=\"T_b3b8c_row10_col12\" class=\"data row10 col12\" >HOLD</td>\n",
       "      <td id=\"T_b3b8c_row10_col13\" class=\"data row10 col13\" >HOLD</td>\n",
       "      <td id=\"T_b3b8c_row10_col14\" class=\"data row10 col14\" >HOLD</td>\n",
       "      <td id=\"T_b3b8c_row10_col15\" class=\"data row10 col15\" >HOLD</td>\n",
       "      <td id=\"T_b3b8c_row10_col16\" class=\"data row10 col16\" >HOLD</td>\n",
       "      <td id=\"T_b3b8c_row10_col17\" class=\"data row10 col17\" >HOLD</td>\n",
       "      <td id=\"T_b3b8c_row10_col18\" class=\"data row10 col18\" >HOLD</td>\n",
       "      <td id=\"T_b3b8c_row10_col19\" class=\"data row10 col19\" >HOLD</td>\n",
       "      <td id=\"T_b3b8c_row10_col20\" class=\"data row10 col20\" >HOLD</td>\n",
       "      <td id=\"T_b3b8c_row10_col21\" class=\"data row10 col21\" >HOLD</td>\n",
       "      <td id=\"T_b3b8c_row10_col22\" class=\"data row10 col22\" >HOLD</td>\n",
       "      <td id=\"T_b3b8c_row10_col23\" class=\"data row10 col23\" >HOLD</td>\n",
       "      <td id=\"T_b3b8c_row10_col24\" class=\"data row10 col24\" >HOLD</td>\n",
       "      <td id=\"T_b3b8c_row10_col25\" class=\"data row10 col25\" >HOLD</td>\n",
       "      <td id=\"T_b3b8c_row10_col26\" class=\"data row10 col26\" >HOLD</td>\n",
       "      <td id=\"T_b3b8c_row10_col27\" class=\"data row10 col27\" >HOLD</td>\n",
       "      <td id=\"T_b3b8c_row10_col28\" class=\"data row10 col28\" >HOLD</td>\n",
       "      <td id=\"T_b3b8c_row10_col29\" class=\"data row10 col29\" >HOLD</td>\n",
       "      <td id=\"T_b3b8c_row10_col30\" class=\"data row10 col30\" >HOLD</td>\n",
       "      <td id=\"T_b3b8c_row10_col31\" class=\"data row10 col31\" >HOLD</td>\n",
       "      <td id=\"T_b3b8c_row10_col32\" class=\"data row10 col32\" >HOLD</td>\n",
       "    </tr>\n",
       "    <tr>\n",
       "      <th id=\"T_b3b8c_level0_row11\" class=\"row_heading level0 row11\" >2022-01-31 00:00:00</th>\n",
       "      <td id=\"T_b3b8c_row11_col0\" class=\"data row11 col0\" >HOLD</td>\n",
       "      <td id=\"T_b3b8c_row11_col1\" class=\"data row11 col1\" >HOLD</td>\n",
       "      <td id=\"T_b3b8c_row11_col2\" class=\"data row11 col2\" >HOLD</td>\n",
       "      <td id=\"T_b3b8c_row11_col3\" class=\"data row11 col3\" >HOLD</td>\n",
       "      <td id=\"T_b3b8c_row11_col4\" class=\"data row11 col4\" >HOLD</td>\n",
       "      <td id=\"T_b3b8c_row11_col5\" class=\"data row11 col5\" >HOLD</td>\n",
       "      <td id=\"T_b3b8c_row11_col6\" class=\"data row11 col6\" >BUY</td>\n",
       "      <td id=\"T_b3b8c_row11_col7\" class=\"data row11 col7\" >HOLD</td>\n",
       "      <td id=\"T_b3b8c_row11_col8\" class=\"data row11 col8\" >HOLD</td>\n",
       "      <td id=\"T_b3b8c_row11_col9\" class=\"data row11 col9\" >HOLD</td>\n",
       "      <td id=\"T_b3b8c_row11_col10\" class=\"data row11 col10\" >HOLD</td>\n",
       "      <td id=\"T_b3b8c_row11_col11\" class=\"data row11 col11\" >HOLD</td>\n",
       "      <td id=\"T_b3b8c_row11_col12\" class=\"data row11 col12\" >HOLD</td>\n",
       "      <td id=\"T_b3b8c_row11_col13\" class=\"data row11 col13\" >HOLD</td>\n",
       "      <td id=\"T_b3b8c_row11_col14\" class=\"data row11 col14\" >HOLD</td>\n",
       "      <td id=\"T_b3b8c_row11_col15\" class=\"data row11 col15\" >HOLD</td>\n",
       "      <td id=\"T_b3b8c_row11_col16\" class=\"data row11 col16\" >HOLD</td>\n",
       "      <td id=\"T_b3b8c_row11_col17\" class=\"data row11 col17\" >HOLD</td>\n",
       "      <td id=\"T_b3b8c_row11_col18\" class=\"data row11 col18\" >HOLD</td>\n",
       "      <td id=\"T_b3b8c_row11_col19\" class=\"data row11 col19\" >HOLD</td>\n",
       "      <td id=\"T_b3b8c_row11_col20\" class=\"data row11 col20\" >HOLD</td>\n",
       "      <td id=\"T_b3b8c_row11_col21\" class=\"data row11 col21\" >HOLD</td>\n",
       "      <td id=\"T_b3b8c_row11_col22\" class=\"data row11 col22\" >HOLD</td>\n",
       "      <td id=\"T_b3b8c_row11_col23\" class=\"data row11 col23\" >HOLD</td>\n",
       "      <td id=\"T_b3b8c_row11_col24\" class=\"data row11 col24\" >HOLD</td>\n",
       "      <td id=\"T_b3b8c_row11_col25\" class=\"data row11 col25\" >HOLD</td>\n",
       "      <td id=\"T_b3b8c_row11_col26\" class=\"data row11 col26\" >HOLD</td>\n",
       "      <td id=\"T_b3b8c_row11_col27\" class=\"data row11 col27\" >HOLD</td>\n",
       "      <td id=\"T_b3b8c_row11_col28\" class=\"data row11 col28\" >BUY</td>\n",
       "      <td id=\"T_b3b8c_row11_col29\" class=\"data row11 col29\" >HOLD</td>\n",
       "      <td id=\"T_b3b8c_row11_col30\" class=\"data row11 col30\" >HOLD</td>\n",
       "      <td id=\"T_b3b8c_row11_col31\" class=\"data row11 col31\" >HOLD</td>\n",
       "      <td id=\"T_b3b8c_row11_col32\" class=\"data row11 col32\" >HOLD</td>\n",
       "    </tr>\n",
       "    <tr>\n",
       "      <th id=\"T_b3b8c_level0_row12\" class=\"row_heading level0 row12\" >2022-02-28 00:00:00</th>\n",
       "      <td id=\"T_b3b8c_row12_col0\" class=\"data row12 col0\" >HOLD</td>\n",
       "      <td id=\"T_b3b8c_row12_col1\" class=\"data row12 col1\" >HOLD</td>\n",
       "      <td id=\"T_b3b8c_row12_col2\" class=\"data row12 col2\" >HOLD</td>\n",
       "      <td id=\"T_b3b8c_row12_col3\" class=\"data row12 col3\" >HOLD</td>\n",
       "      <td id=\"T_b3b8c_row12_col4\" class=\"data row12 col4\" >HOLD</td>\n",
       "      <td id=\"T_b3b8c_row12_col5\" class=\"data row12 col5\" >HOLD</td>\n",
       "      <td id=\"T_b3b8c_row12_col6\" class=\"data row12 col6\" >HOLD</td>\n",
       "      <td id=\"T_b3b8c_row12_col7\" class=\"data row12 col7\" >HOLD</td>\n",
       "      <td id=\"T_b3b8c_row12_col8\" class=\"data row12 col8\" >HOLD</td>\n",
       "      <td id=\"T_b3b8c_row12_col9\" class=\"data row12 col9\" >HOLD</td>\n",
       "      <td id=\"T_b3b8c_row12_col10\" class=\"data row12 col10\" >HOLD</td>\n",
       "      <td id=\"T_b3b8c_row12_col11\" class=\"data row12 col11\" >HOLD</td>\n",
       "      <td id=\"T_b3b8c_row12_col12\" class=\"data row12 col12\" >HOLD</td>\n",
       "      <td id=\"T_b3b8c_row12_col13\" class=\"data row12 col13\" >HOLD</td>\n",
       "      <td id=\"T_b3b8c_row12_col14\" class=\"data row12 col14\" >HOLD</td>\n",
       "      <td id=\"T_b3b8c_row12_col15\" class=\"data row12 col15\" >HOLD</td>\n",
       "      <td id=\"T_b3b8c_row12_col16\" class=\"data row12 col16\" >HOLD</td>\n",
       "      <td id=\"T_b3b8c_row12_col17\" class=\"data row12 col17\" >HOLD</td>\n",
       "      <td id=\"T_b3b8c_row12_col18\" class=\"data row12 col18\" >HOLD</td>\n",
       "      <td id=\"T_b3b8c_row12_col19\" class=\"data row12 col19\" >HOLD</td>\n",
       "      <td id=\"T_b3b8c_row12_col20\" class=\"data row12 col20\" >HOLD</td>\n",
       "      <td id=\"T_b3b8c_row12_col21\" class=\"data row12 col21\" >HOLD</td>\n",
       "      <td id=\"T_b3b8c_row12_col22\" class=\"data row12 col22\" >HOLD</td>\n",
       "      <td id=\"T_b3b8c_row12_col23\" class=\"data row12 col23\" >HOLD</td>\n",
       "      <td id=\"T_b3b8c_row12_col24\" class=\"data row12 col24\" >HOLD</td>\n",
       "      <td id=\"T_b3b8c_row12_col25\" class=\"data row12 col25\" >HOLD</td>\n",
       "      <td id=\"T_b3b8c_row12_col26\" class=\"data row12 col26\" >HOLD</td>\n",
       "      <td id=\"T_b3b8c_row12_col27\" class=\"data row12 col27\" >HOLD</td>\n",
       "      <td id=\"T_b3b8c_row12_col28\" class=\"data row12 col28\" >HOLD</td>\n",
       "      <td id=\"T_b3b8c_row12_col29\" class=\"data row12 col29\" >HOLD</td>\n",
       "      <td id=\"T_b3b8c_row12_col30\" class=\"data row12 col30\" >HOLD</td>\n",
       "      <td id=\"T_b3b8c_row12_col31\" class=\"data row12 col31\" >HOLD</td>\n",
       "      <td id=\"T_b3b8c_row12_col32\" class=\"data row12 col32\" >HOLD</td>\n",
       "    </tr>\n",
       "    <tr>\n",
       "      <th id=\"T_b3b8c_level0_row13\" class=\"row_heading level0 row13\" >2022-03-31 00:00:00</th>\n",
       "      <td id=\"T_b3b8c_row13_col0\" class=\"data row13 col0\" >HOLD</td>\n",
       "      <td id=\"T_b3b8c_row13_col1\" class=\"data row13 col1\" >HOLD</td>\n",
       "      <td id=\"T_b3b8c_row13_col2\" class=\"data row13 col2\" >HOLD</td>\n",
       "      <td id=\"T_b3b8c_row13_col3\" class=\"data row13 col3\" >HOLD</td>\n",
       "      <td id=\"T_b3b8c_row13_col4\" class=\"data row13 col4\" >HOLD</td>\n",
       "      <td id=\"T_b3b8c_row13_col5\" class=\"data row13 col5\" >HOLD</td>\n",
       "      <td id=\"T_b3b8c_row13_col6\" class=\"data row13 col6\" >HOLD</td>\n",
       "      <td id=\"T_b3b8c_row13_col7\" class=\"data row13 col7\" >HOLD</td>\n",
       "      <td id=\"T_b3b8c_row13_col8\" class=\"data row13 col8\" >HOLD</td>\n",
       "      <td id=\"T_b3b8c_row13_col9\" class=\"data row13 col9\" >HOLD</td>\n",
       "      <td id=\"T_b3b8c_row13_col10\" class=\"data row13 col10\" >HOLD</td>\n",
       "      <td id=\"T_b3b8c_row13_col11\" class=\"data row13 col11\" >HOLD</td>\n",
       "      <td id=\"T_b3b8c_row13_col12\" class=\"data row13 col12\" >HOLD</td>\n",
       "      <td id=\"T_b3b8c_row13_col13\" class=\"data row13 col13\" >HOLD</td>\n",
       "      <td id=\"T_b3b8c_row13_col14\" class=\"data row13 col14\" >HOLD</td>\n",
       "      <td id=\"T_b3b8c_row13_col15\" class=\"data row13 col15\" >HOLD</td>\n",
       "      <td id=\"T_b3b8c_row13_col16\" class=\"data row13 col16\" >HOLD</td>\n",
       "      <td id=\"T_b3b8c_row13_col17\" class=\"data row13 col17\" >HOLD</td>\n",
       "      <td id=\"T_b3b8c_row13_col18\" class=\"data row13 col18\" >HOLD</td>\n",
       "      <td id=\"T_b3b8c_row13_col19\" class=\"data row13 col19\" >HOLD</td>\n",
       "      <td id=\"T_b3b8c_row13_col20\" class=\"data row13 col20\" >HOLD</td>\n",
       "      <td id=\"T_b3b8c_row13_col21\" class=\"data row13 col21\" >HOLD</td>\n",
       "      <td id=\"T_b3b8c_row13_col22\" class=\"data row13 col22\" >HOLD</td>\n",
       "      <td id=\"T_b3b8c_row13_col23\" class=\"data row13 col23\" >HOLD</td>\n",
       "      <td id=\"T_b3b8c_row13_col24\" class=\"data row13 col24\" >HOLD</td>\n",
       "      <td id=\"T_b3b8c_row13_col25\" class=\"data row13 col25\" >HOLD</td>\n",
       "      <td id=\"T_b3b8c_row13_col26\" class=\"data row13 col26\" >HOLD</td>\n",
       "      <td id=\"T_b3b8c_row13_col27\" class=\"data row13 col27\" >HOLD</td>\n",
       "      <td id=\"T_b3b8c_row13_col28\" class=\"data row13 col28\" >HOLD</td>\n",
       "      <td id=\"T_b3b8c_row13_col29\" class=\"data row13 col29\" >HOLD</td>\n",
       "      <td id=\"T_b3b8c_row13_col30\" class=\"data row13 col30\" >HOLD</td>\n",
       "      <td id=\"T_b3b8c_row13_col31\" class=\"data row13 col31\" >HOLD</td>\n",
       "      <td id=\"T_b3b8c_row13_col32\" class=\"data row13 col32\" >HOLD</td>\n",
       "    </tr>\n",
       "    <tr>\n",
       "      <th id=\"T_b3b8c_level0_row14\" class=\"row_heading level0 row14\" >2022-04-29 00:00:00</th>\n",
       "      <td id=\"T_b3b8c_row14_col0\" class=\"data row14 col0\" >HOLD</td>\n",
       "      <td id=\"T_b3b8c_row14_col1\" class=\"data row14 col1\" >HOLD</td>\n",
       "      <td id=\"T_b3b8c_row14_col2\" class=\"data row14 col2\" >HOLD</td>\n",
       "      <td id=\"T_b3b8c_row14_col3\" class=\"data row14 col3\" >HOLD</td>\n",
       "      <td id=\"T_b3b8c_row14_col4\" class=\"data row14 col4\" >HOLD</td>\n",
       "      <td id=\"T_b3b8c_row14_col5\" class=\"data row14 col5\" >HOLD</td>\n",
       "      <td id=\"T_b3b8c_row14_col6\" class=\"data row14 col6\" >HOLD</td>\n",
       "      <td id=\"T_b3b8c_row14_col7\" class=\"data row14 col7\" >HOLD</td>\n",
       "      <td id=\"T_b3b8c_row14_col8\" class=\"data row14 col8\" >HOLD</td>\n",
       "      <td id=\"T_b3b8c_row14_col9\" class=\"data row14 col9\" >HOLD</td>\n",
       "      <td id=\"T_b3b8c_row14_col10\" class=\"data row14 col10\" >HOLD</td>\n",
       "      <td id=\"T_b3b8c_row14_col11\" class=\"data row14 col11\" >HOLD</td>\n",
       "      <td id=\"T_b3b8c_row14_col12\" class=\"data row14 col12\" >HOLD</td>\n",
       "      <td id=\"T_b3b8c_row14_col13\" class=\"data row14 col13\" >HOLD</td>\n",
       "      <td id=\"T_b3b8c_row14_col14\" class=\"data row14 col14\" >HOLD</td>\n",
       "      <td id=\"T_b3b8c_row14_col15\" class=\"data row14 col15\" >HOLD</td>\n",
       "      <td id=\"T_b3b8c_row14_col16\" class=\"data row14 col16\" >HOLD</td>\n",
       "      <td id=\"T_b3b8c_row14_col17\" class=\"data row14 col17\" >HOLD</td>\n",
       "      <td id=\"T_b3b8c_row14_col18\" class=\"data row14 col18\" >HOLD</td>\n",
       "      <td id=\"T_b3b8c_row14_col19\" class=\"data row14 col19\" >HOLD</td>\n",
       "      <td id=\"T_b3b8c_row14_col20\" class=\"data row14 col20\" >HOLD</td>\n",
       "      <td id=\"T_b3b8c_row14_col21\" class=\"data row14 col21\" >HOLD</td>\n",
       "      <td id=\"T_b3b8c_row14_col22\" class=\"data row14 col22\" >HOLD</td>\n",
       "      <td id=\"T_b3b8c_row14_col23\" class=\"data row14 col23\" >HOLD</td>\n",
       "      <td id=\"T_b3b8c_row14_col24\" class=\"data row14 col24\" >HOLD</td>\n",
       "      <td id=\"T_b3b8c_row14_col25\" class=\"data row14 col25\" >HOLD</td>\n",
       "      <td id=\"T_b3b8c_row14_col26\" class=\"data row14 col26\" >HOLD</td>\n",
       "      <td id=\"T_b3b8c_row14_col27\" class=\"data row14 col27\" >HOLD</td>\n",
       "      <td id=\"T_b3b8c_row14_col28\" class=\"data row14 col28\" >BUY</td>\n",
       "      <td id=\"T_b3b8c_row14_col29\" class=\"data row14 col29\" >HOLD</td>\n",
       "      <td id=\"T_b3b8c_row14_col30\" class=\"data row14 col30\" >HOLD</td>\n",
       "      <td id=\"T_b3b8c_row14_col31\" class=\"data row14 col31\" >HOLD</td>\n",
       "      <td id=\"T_b3b8c_row14_col32\" class=\"data row14 col32\" >HOLD</td>\n",
       "    </tr>\n",
       "    <tr>\n",
       "      <th id=\"T_b3b8c_level0_row15\" class=\"row_heading level0 row15\" >2022-05-31 00:00:00</th>\n",
       "      <td id=\"T_b3b8c_row15_col0\" class=\"data row15 col0\" >HOLD</td>\n",
       "      <td id=\"T_b3b8c_row15_col1\" class=\"data row15 col1\" >HOLD</td>\n",
       "      <td id=\"T_b3b8c_row15_col2\" class=\"data row15 col2\" >HOLD</td>\n",
       "      <td id=\"T_b3b8c_row15_col3\" class=\"data row15 col3\" >HOLD</td>\n",
       "      <td id=\"T_b3b8c_row15_col4\" class=\"data row15 col4\" >HOLD</td>\n",
       "      <td id=\"T_b3b8c_row15_col5\" class=\"data row15 col5\" >HOLD</td>\n",
       "      <td id=\"T_b3b8c_row15_col6\" class=\"data row15 col6\" >HOLD</td>\n",
       "      <td id=\"T_b3b8c_row15_col7\" class=\"data row15 col7\" >HOLD</td>\n",
       "      <td id=\"T_b3b8c_row15_col8\" class=\"data row15 col8\" >HOLD</td>\n",
       "      <td id=\"T_b3b8c_row15_col9\" class=\"data row15 col9\" >HOLD</td>\n",
       "      <td id=\"T_b3b8c_row15_col10\" class=\"data row15 col10\" >HOLD</td>\n",
       "      <td id=\"T_b3b8c_row15_col11\" class=\"data row15 col11\" >BUY</td>\n",
       "      <td id=\"T_b3b8c_row15_col12\" class=\"data row15 col12\" >HOLD</td>\n",
       "      <td id=\"T_b3b8c_row15_col13\" class=\"data row15 col13\" >HOLD</td>\n",
       "      <td id=\"T_b3b8c_row15_col14\" class=\"data row15 col14\" >HOLD</td>\n",
       "      <td id=\"T_b3b8c_row15_col15\" class=\"data row15 col15\" >HOLD</td>\n",
       "      <td id=\"T_b3b8c_row15_col16\" class=\"data row15 col16\" >HOLD</td>\n",
       "      <td id=\"T_b3b8c_row15_col17\" class=\"data row15 col17\" >HOLD</td>\n",
       "      <td id=\"T_b3b8c_row15_col18\" class=\"data row15 col18\" >HOLD</td>\n",
       "      <td id=\"T_b3b8c_row15_col19\" class=\"data row15 col19\" >HOLD</td>\n",
       "      <td id=\"T_b3b8c_row15_col20\" class=\"data row15 col20\" >HOLD</td>\n",
       "      <td id=\"T_b3b8c_row15_col21\" class=\"data row15 col21\" >HOLD</td>\n",
       "      <td id=\"T_b3b8c_row15_col22\" class=\"data row15 col22\" >HOLD</td>\n",
       "      <td id=\"T_b3b8c_row15_col23\" class=\"data row15 col23\" >HOLD</td>\n",
       "      <td id=\"T_b3b8c_row15_col24\" class=\"data row15 col24\" >HOLD</td>\n",
       "      <td id=\"T_b3b8c_row15_col25\" class=\"data row15 col25\" >HOLD</td>\n",
       "      <td id=\"T_b3b8c_row15_col26\" class=\"data row15 col26\" >BUY</td>\n",
       "      <td id=\"T_b3b8c_row15_col27\" class=\"data row15 col27\" >SELL</td>\n",
       "      <td id=\"T_b3b8c_row15_col28\" class=\"data row15 col28\" >HOLD</td>\n",
       "      <td id=\"T_b3b8c_row15_col29\" class=\"data row15 col29\" >HOLD</td>\n",
       "      <td id=\"T_b3b8c_row15_col30\" class=\"data row15 col30\" >HOLD</td>\n",
       "      <td id=\"T_b3b8c_row15_col31\" class=\"data row15 col31\" >SELL</td>\n",
       "      <td id=\"T_b3b8c_row15_col32\" class=\"data row15 col32\" >HOLD</td>\n",
       "    </tr>\n",
       "    <tr>\n",
       "      <th id=\"T_b3b8c_level0_row16\" class=\"row_heading level0 row16\" >2022-06-30 00:00:00</th>\n",
       "      <td id=\"T_b3b8c_row16_col0\" class=\"data row16 col0\" >HOLD</td>\n",
       "      <td id=\"T_b3b8c_row16_col1\" class=\"data row16 col1\" >HOLD</td>\n",
       "      <td id=\"T_b3b8c_row16_col2\" class=\"data row16 col2\" >HOLD</td>\n",
       "      <td id=\"T_b3b8c_row16_col3\" class=\"data row16 col3\" >HOLD</td>\n",
       "      <td id=\"T_b3b8c_row16_col4\" class=\"data row16 col4\" >HOLD</td>\n",
       "      <td id=\"T_b3b8c_row16_col5\" class=\"data row16 col5\" >HOLD</td>\n",
       "      <td id=\"T_b3b8c_row16_col6\" class=\"data row16 col6\" >SELL</td>\n",
       "      <td id=\"T_b3b8c_row16_col7\" class=\"data row16 col7\" >HOLD</td>\n",
       "      <td id=\"T_b3b8c_row16_col8\" class=\"data row16 col8\" >BUY</td>\n",
       "      <td id=\"T_b3b8c_row16_col9\" class=\"data row16 col9\" >HOLD</td>\n",
       "      <td id=\"T_b3b8c_row16_col10\" class=\"data row16 col10\" >HOLD</td>\n",
       "      <td id=\"T_b3b8c_row16_col11\" class=\"data row16 col11\" >HOLD</td>\n",
       "      <td id=\"T_b3b8c_row16_col12\" class=\"data row16 col12\" >HOLD</td>\n",
       "      <td id=\"T_b3b8c_row16_col13\" class=\"data row16 col13\" >HOLD</td>\n",
       "      <td id=\"T_b3b8c_row16_col14\" class=\"data row16 col14\" >HOLD</td>\n",
       "      <td id=\"T_b3b8c_row16_col15\" class=\"data row16 col15\" >HOLD</td>\n",
       "      <td id=\"T_b3b8c_row16_col16\" class=\"data row16 col16\" >HOLD</td>\n",
       "      <td id=\"T_b3b8c_row16_col17\" class=\"data row16 col17\" >HOLD</td>\n",
       "      <td id=\"T_b3b8c_row16_col18\" class=\"data row16 col18\" >HOLD</td>\n",
       "      <td id=\"T_b3b8c_row16_col19\" class=\"data row16 col19\" >HOLD</td>\n",
       "      <td id=\"T_b3b8c_row16_col20\" class=\"data row16 col20\" >HOLD</td>\n",
       "      <td id=\"T_b3b8c_row16_col21\" class=\"data row16 col21\" >HOLD</td>\n",
       "      <td id=\"T_b3b8c_row16_col22\" class=\"data row16 col22\" >HOLD</td>\n",
       "      <td id=\"T_b3b8c_row16_col23\" class=\"data row16 col23\" >HOLD</td>\n",
       "      <td id=\"T_b3b8c_row16_col24\" class=\"data row16 col24\" >HOLD</td>\n",
       "      <td id=\"T_b3b8c_row16_col25\" class=\"data row16 col25\" >HOLD</td>\n",
       "      <td id=\"T_b3b8c_row16_col26\" class=\"data row16 col26\" >HOLD</td>\n",
       "      <td id=\"T_b3b8c_row16_col27\" class=\"data row16 col27\" >HOLD</td>\n",
       "      <td id=\"T_b3b8c_row16_col28\" class=\"data row16 col28\" >HOLD</td>\n",
       "      <td id=\"T_b3b8c_row16_col29\" class=\"data row16 col29\" >HOLD</td>\n",
       "      <td id=\"T_b3b8c_row16_col30\" class=\"data row16 col30\" >HOLD</td>\n",
       "      <td id=\"T_b3b8c_row16_col31\" class=\"data row16 col31\" >HOLD</td>\n",
       "      <td id=\"T_b3b8c_row16_col32\" class=\"data row16 col32\" >HOLD</td>\n",
       "    </tr>\n",
       "    <tr>\n",
       "      <th id=\"T_b3b8c_level0_row17\" class=\"row_heading level0 row17\" >2022-07-29 00:00:00</th>\n",
       "      <td id=\"T_b3b8c_row17_col0\" class=\"data row17 col0\" >HOLD</td>\n",
       "      <td id=\"T_b3b8c_row17_col1\" class=\"data row17 col1\" >HOLD</td>\n",
       "      <td id=\"T_b3b8c_row17_col2\" class=\"data row17 col2\" >HOLD</td>\n",
       "      <td id=\"T_b3b8c_row17_col3\" class=\"data row17 col3\" >HOLD</td>\n",
       "      <td id=\"T_b3b8c_row17_col4\" class=\"data row17 col4\" >HOLD</td>\n",
       "      <td id=\"T_b3b8c_row17_col5\" class=\"data row17 col5\" >HOLD</td>\n",
       "      <td id=\"T_b3b8c_row17_col6\" class=\"data row17 col6\" >HOLD</td>\n",
       "      <td id=\"T_b3b8c_row17_col7\" class=\"data row17 col7\" >HOLD</td>\n",
       "      <td id=\"T_b3b8c_row17_col8\" class=\"data row17 col8\" >HOLD</td>\n",
       "      <td id=\"T_b3b8c_row17_col9\" class=\"data row17 col9\" >HOLD</td>\n",
       "      <td id=\"T_b3b8c_row17_col10\" class=\"data row17 col10\" >HOLD</td>\n",
       "      <td id=\"T_b3b8c_row17_col11\" class=\"data row17 col11\" >HOLD</td>\n",
       "      <td id=\"T_b3b8c_row17_col12\" class=\"data row17 col12\" >HOLD</td>\n",
       "      <td id=\"T_b3b8c_row17_col13\" class=\"data row17 col13\" >HOLD</td>\n",
       "      <td id=\"T_b3b8c_row17_col14\" class=\"data row17 col14\" >HOLD</td>\n",
       "      <td id=\"T_b3b8c_row17_col15\" class=\"data row17 col15\" >HOLD</td>\n",
       "      <td id=\"T_b3b8c_row17_col16\" class=\"data row17 col16\" >HOLD</td>\n",
       "      <td id=\"T_b3b8c_row17_col17\" class=\"data row17 col17\" >HOLD</td>\n",
       "      <td id=\"T_b3b8c_row17_col18\" class=\"data row17 col18\" >HOLD</td>\n",
       "      <td id=\"T_b3b8c_row17_col19\" class=\"data row17 col19\" >HOLD</td>\n",
       "      <td id=\"T_b3b8c_row17_col20\" class=\"data row17 col20\" >HOLD</td>\n",
       "      <td id=\"T_b3b8c_row17_col21\" class=\"data row17 col21\" >HOLD</td>\n",
       "      <td id=\"T_b3b8c_row17_col22\" class=\"data row17 col22\" >HOLD</td>\n",
       "      <td id=\"T_b3b8c_row17_col23\" class=\"data row17 col23\" >HOLD</td>\n",
       "      <td id=\"T_b3b8c_row17_col24\" class=\"data row17 col24\" >HOLD</td>\n",
       "      <td id=\"T_b3b8c_row17_col25\" class=\"data row17 col25\" >HOLD</td>\n",
       "      <td id=\"T_b3b8c_row17_col26\" class=\"data row17 col26\" >HOLD</td>\n",
       "      <td id=\"T_b3b8c_row17_col27\" class=\"data row17 col27\" >HOLD</td>\n",
       "      <td id=\"T_b3b8c_row17_col28\" class=\"data row17 col28\" >HOLD</td>\n",
       "      <td id=\"T_b3b8c_row17_col29\" class=\"data row17 col29\" >HOLD</td>\n",
       "      <td id=\"T_b3b8c_row17_col30\" class=\"data row17 col30\" >HOLD</td>\n",
       "      <td id=\"T_b3b8c_row17_col31\" class=\"data row17 col31\" >HOLD</td>\n",
       "      <td id=\"T_b3b8c_row17_col32\" class=\"data row17 col32\" >HOLD</td>\n",
       "    </tr>\n",
       "  </tbody>\n",
       "</table>\n"
      ],
      "text/plain": [
       "<pandas.io.formats.style.Styler at 0x13935ddd430>"
      ]
     },
     "execution_count": 22,
     "metadata": {},
     "output_type": "execute_result"
    }
   ],
   "source": [
    "pd.set_option('display.float_format', lambda x: '%.6f' % x)\n",
    "a_cumsum=returns.iloc[returns.cumprod().reset_index().groupby(returns.index.to_period('M'))['Date'].idxmax()]+1\n",
    "BS=a_cumsum.apply(lambda x: ['SELL' if y <= .95 else \"BUY\" if y>=1.05 else 'HOLD' if y > .95 and  y<1.05 else y for y in x])\n",
    "BS = BS.style.applymap(lambda x: 'color: red' if x == 'SELL' else 'color: green' if x == 'BUY' else 'color: gray')\n",
    "BS\n"
   ]
  },
  {
   "cell_type": "markdown",
   "metadata": {},
   "source": [
    "## Results: Metrics & Methods\n",
    " Rebalance using  Markowitz EMV and calculating Sharpe Ratio and monthly return and accumulated.\n",
    " Comparative dataframes and graphs creation (include excess return graph)\n",
    "\n",
    "## Period 1:\n",
    "1. Pre-pandemic: 01-31-2018 to 01-31-2020\n",
    "2. In pandemic: 2020-01-31 to 2022-07-29\n",
    "\n",
    "\n",
    "### Answers section.\n",
    "\n",
    "¿What is the difference between investment (Active)?\n",
    "\n",
    "- Advantage:\n",
    "\n",
    "  The opportunity to obtain excess returns.\n",
    "\n",
    "  Flexibility.\n",
    "\n",
    "  Admin. of risks.\n",
    "\n",
    "- Disadvantages:\n",
    "\n",
    "  Performance depends on analysts.\n",
    "\n",
    "  Higher costs. \n",
    "\n",
    "  Higher risk.\n",
    "\n",
    "¿What is the difference between investment (Passive)?\n",
    "\n",
    "- Advantage:\n",
    "\n",
    "  Improbability of returns below the index (ETF).\n",
    "\n",
    "  Low admin costs.\n",
    "\n",
    "  Quick access to the market.\n",
    "\n",
    "- Disadvantages:\n",
    "\n",
    "  Hidden commission costs.\n",
    "\n",
    "  The reallocation of assets (or rebalancing) by the fund cannot be passive.\n",
    "\n",
    "  There is no possibility of having a greater return to the market.\n",
    "\n",
    "  Lack of flexibility.\n",
    "\n",
    "  Lack of liquidity.\n",
    "\n",
    "¿What is the difference between investing only by replicating an index and investing by rebalancing a portfolio based on a specific rule (Sharpe and Sortino algorithm)?\n",
    "\n",
    "- Notes:\n",
    "\n",
    "  The section of answers and interpretation of results by cell, is the MOST IMPORTANT.\n",
    "\n",
    "  Template project structure with python.\n",
    "\n",
    "  Use the yfinance api (https://pypi.org/project/yfinance/).\n",
    "  \n",
    "  Work with the structure of Python Projects."
   ]
  }
 ],
 "metadata": {
  "kernelspec": {
   "display_name": "Python 3.8.13 ('base')",
   "language": "python",
   "name": "python3"
  },
  "language_info": {
   "codemirror_mode": {
    "name": "ipython",
    "version": 3
   },
   "file_extension": ".py",
   "mimetype": "text/x-python",
   "name": "python",
   "nbconvert_exporter": "python",
   "pygments_lexer": "ipython3",
   "version": "3.8.13"
  },
  "orig_nbformat": 4,
  "vscode": {
   "interpreter": {
    "hash": "ad2bdc8ecc057115af97d19610ffacc2b4e99fae6737bb82f5d7fb13d2f2c186"
   }
  }
 },
 "nbformat": 4,
 "nbformat_minor": 2
}
